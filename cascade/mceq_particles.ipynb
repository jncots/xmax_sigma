{
 "cells": [
  {
   "cell_type": "code",
   "execution_count": 2,
   "metadata": {},
   "outputs": [],
   "source": [
    "import matplotlib.pyplot as plt\n",
    "from MCEq.particlemanager import MCEqParticle, ParticleManager\n",
    "from MCEq.data import InteractionCrossSections, HDF5Backend\n",
    "from MCEq.core import MCEqRun\n",
    "import crflux.models as pm\n",
    "import mceq_config as config"
   ]
  },
  {
   "cell_type": "code",
   "execution_count": 3,
   "metadata": {},
   "outputs": [
    {
     "name": "stdout",
     "output_type": "stream",
     "text": [
      "MCEqRun::set_interaction_model(): DPMJETIII191\n",
      "ParticleManager::_init_default_tracking(): Initializing default tracking categories (pi, K, mu)\n",
      "MCEqRun::set_density_model(): Setting density profile to CORSIKA ('BK_USStd', None)\n",
      "MCEqRun::set_primary_model(): Primary model set to Hillas-Gaisser (H3a)\n"
     ]
    }
   ],
   "source": [
    "mceq_run = MCEqRun(\n",
    "#provide the string of the interaction model\n",
    "interaction_model=\"DPMJET-III-19.1\",\n",
    "#primary cosmic ray flux model\n",
    "primary_model = (pm.HillasGaisser2012, \"H3a\"),\n",
    "# Zenith angle in degrees. 0=vertical, 90=horizontal\n",
    "theta_deg=0.0\n",
    ")"
   ]
  },
  {
   "cell_type": "code",
   "execution_count": 4,
   "metadata": {},
   "outputs": [
    {
     "name": "stdout",
     "output_type": "stream",
     "text": [
      "Name = pi0,\t\t pdg_id = 111,\t mix_energy =  1.12e+09, mass = 1.35e-01, ctau = 2.55e-06\n",
      "Name = K_L0,\t\t pdg_id = 130,\t mix_energy =  2.24e+01, mass = 4.98e-01, ctau = 1.53e+03\n",
      "Name = pi-,\t\t pdg_id = -211,\t mix_energy =  7.08e+00, mass = 1.40e-01, ctau = 7.80e+02\n",
      "Name = pi+,\t\t pdg_id = 211,\t mix_energy =  8.91e+00, mass = 1.40e-01, ctau = 7.80e+02\n",
      "Name = K_S0,\t\t pdg_id = 310,\t mix_energy =  8.91e+03, mass = 4.98e-01, ctau = 2.68e+00\n",
      "Name = K-,\t\t pdg_id = -321,\t mix_energy =  7.08e+01, mass = 4.94e-01, ctau = 3.71e+02\n",
      "Name = K+,\t\t pdg_id = 321,\t mix_energy =  8.91e+01, mass = 4.94e-01, ctau = 3.71e+02\n",
      "Name = D-,\t\t pdg_id = -411,\t mix_energy =  2.24e+06, mass = 1.87e+00, ctau = 3.12e-02\n",
      "Name = D+,\t\t pdg_id = 411,\t mix_energy =  2.24e+06, mass = 1.87e+00, ctau = 3.12e-02\n",
      "Name = Dbar0,\t\t pdg_id = -421,\t mix_energy =  4.47e+06, mass = 1.86e+00, ctau = 1.23e-02\n",
      "Name = D0,\t\t pdg_id = 421,\t mix_energy =  4.47e+06, mass = 1.86e+00, ctau = 1.23e-02\n",
      "Name = D_s-,\t\t pdg_id = -431,\t mix_energy =  4.47e+06, mass = 1.97e+00, ctau = 1.50e-02\n",
      "Name = D_s+,\t\t pdg_id = 431,\t mix_energy =  4.47e+06, mass = 1.97e+00, ctau = 1.50e-02\n",
      "Name = nbar0,\t\t pdg_id = -2112,\t mix_energy =  1.12e-01, mass = 9.40e-01, ctau = 2.66e+13\n",
      "Name = n0,\t\t pdg_id = 2112,\t mix_energy =  1.12e-01, mass = 9.40e-01, ctau = 2.66e+13\n",
      "Name = pbar-,\t\t pdg_id = -2212,\t mix_energy =  0.00e+00, mass = 9.38e-01, ctau = inf\n",
      "Name = p+,\t\t pdg_id = 2212,\t mix_energy =  0.00e+00, mass = 9.38e-01, ctau = inf\n",
      "Name = Lambdabar0,\t\t pdg_id = -3122,\t mix_energy =  5.62e+03, mass = 1.12e+00, ctau = 7.89e+00\n",
      "Name = Lambda0,\t\t pdg_id = 3122,\t mix_energy =  5.62e+03, mass = 1.12e+00, ctau = 7.89e+00\n"
     ]
    }
   ],
   "source": [
    "\n",
    "for p in mceq_run.pman.all_particles:\n",
    "    if p.is_hadron:\n",
    "        print(f\"Name = {p.name},\\t\\t pdg_id = {p.pdg_id[0]},\\t \"\n",
    "        f\"mix_energy =  {p.E_mix:0.2e}, mass = {p.mass:0.2e}, ctau = {p.ctau:0.2e}\")\n",
    "# apart = mceq_run.pman.all_particles"
   ]
  },
  {
   "cell_type": "code",
   "execution_count": 18,
   "metadata": {},
   "outputs": [
    {
     "data": {
      "text/plain": [
       "MCEq.data.InteractionCrossSections"
      ]
     },
     "execution_count": 18,
     "metadata": {},
     "output_type": "execute_result"
    }
   ],
   "source": [
    "hdf5_backend = HDF5Backend()\n",
    "interaction_cs = InteractionCrossSections(hdf5_backend, \"DPMJET-III-19.1\")\n",
    "\n",
    "mceq_run._int_cs.get_cs()"
   ]
  },
  {
   "cell_type": "code",
   "execution_count": 13,
   "metadata": {},
   "outputs": [],
   "source": [
    "# for p in mceq_run.pman.all_particles:\n",
    "#     if p.is_hadron:\n",
    "\n",
    "# en_grid = interaction_cs.energy_grid.c\n",
    "# csec_prot = interaction_cs.get_cs(2212, True)"
   ]
  },
  {
   "cell_type": "code",
   "execution_count": 19,
   "metadata": {},
   "outputs": [
    {
     "data": {
      "text/plain": [
       "array([ -0.        ,  -0.        ,  -0.        ,  -0.        ,\n",
       "        -0.        ,  -0.        ,  -0.        ,  64.73632884,\n",
       "       122.88848734, 171.12563215, 209.44776328, 237.85488073,\n",
       "       256.3469845 , 264.93360183, 267.62913084, 267.72961572,\n",
       "       265.79306241, 264.09669948, 262.89082938, 262.52405203,\n",
       "       263.19493734, 264.62737578, 266.03230074, 267.36093923,\n",
       "       268.61329125, 269.78935681, 270.88913591, 271.91262854,\n",
       "       272.8675653 , 273.84238419, 274.86213234, 275.92680973,\n",
       "       277.03641639, 278.19095229, 279.39041745, 280.63481675,\n",
       "       281.97204485, 283.44809487, 285.06296681, 286.81666068,\n",
       "       288.70945312, 290.76767788, 293.00864008, 295.34997032,\n",
       "       297.52079519, 299.51789841, 301.8657036 , 304.80640639,\n",
       "       308.05558335, 310.9531699 , 313.50384438, 316.15752363,\n",
       "       319.06100778, 322.21429684, 325.61739081, 329.23503358,\n",
       "       332.76776845, 336.14745319, 339.48576973, 342.9086186 ,\n",
       "       346.41611116, 350.00824743, 353.68502739, 357.44645105,\n",
       "       361.29251841, 365.19282054, 369.03198162, 372.80158749,\n",
       "       376.62024256, 380.55091522, 384.51985467, 388.33046037,\n",
       "       391.98021668, 395.61935236, 399.30422275, 403.03482784,\n",
       "       406.81116764, 410.63324214, 414.50105135, 418.41459526,\n",
       "       422.33867398, 426.22704856, 430.07951072, 433.89606047,\n",
       "       437.67669779, 441.42142271, 445.1302352 , 448.81375438,\n",
       "       452.51864677, 456.25040658, 460.00903383, 463.7945285 ,\n",
       "       467.61332962, 471.48517169, 475.40905372, 479.32625877,\n",
       "       483.21148557, 487.06473412, 490.88600442, 494.69199823,\n",
       "       498.69580484, 502.96222216, 507.3124862 , 511.47456582,\n",
       "       515.44560324, 519.22559847, 522.81455151, 526.51260853,\n",
       "       530.63232478, 535.08068696, 539.38157125, 543.46790161,\n",
       "       547.33967806, 550.99690059, 554.59906771, 558.70934701,\n",
       "       563.36139852, 568.01159581, 572.39079936, 576.49900918,\n",
       "       580.33622528])"
      ]
     },
     "execution_count": 19,
     "metadata": {},
     "output_type": "execute_result"
    }
   ],
   "source": [
    "#interaction_cs.get_cs(2212, True)\n",
    "\n",
    "mceq_run._int_cs.get_cs(2212, True)"
   ]
  },
  {
   "cell_type": "code",
   "execution_count": 8,
   "metadata": {},
   "outputs": [
    {
     "ename": "TypeError",
     "evalue": "'NoneType' object is not iterable",
     "output_type": "error",
     "traceback": [
      "\u001b[0;31m---------------------------------------------------------------------------\u001b[0m",
      "\u001b[0;31mTypeError\u001b[0m                                 Traceback (most recent call last)",
      "Cell \u001b[0;32mIn[8], line 6\u001b[0m\n\u001b[1;32m      1\u001b[0m \u001b[39mfor\u001b[39;00m p \u001b[39min\u001b[39;00m mceq_run\u001b[39m.\u001b[39mpman\u001b[39m.\u001b[39mall_particles:\n\u001b[1;32m      2\u001b[0m     \u001b[39m# if p.is_hadron and abs(p.pdg_id[0]) in [111, 211]:\u001b[39;00m\n\u001b[1;32m      3\u001b[0m     \u001b[39m# if p.is_hadron and abs(p.pdg_id[0]) in [2212, 2112, 3122]:\u001b[39;00m\n\u001b[1;32m      4\u001b[0m     \u001b[39m# if p.is_hadron and abs(p.pdg_id[0]) in [321, 310, 130, 2212, 111]:\u001b[39;00m\n\u001b[1;32m      5\u001b[0m     \u001b[39mif\u001b[39;00m p\u001b[39m.\u001b[39mis_hadron:\n\u001b[0;32m----> 6\u001b[0m         plt\u001b[39m.\u001b[39msemilogx(interaction_cs\u001b[39m.\u001b[39menergy_grid\u001b[39m.\u001b[39mc, interaction_cs\u001b[39m.\u001b[39;49mget_cs(p\u001b[39m.\u001b[39;49mpdg_id[\u001b[39m0\u001b[39;49m], \u001b[39mTrue\u001b[39;49;00m), label\u001b[39m=\u001b[39m\u001b[39mf\u001b[39m\u001b[39m\"\u001b[39m\u001b[39m{\u001b[39;00mp\u001b[39m.\u001b[39mname\u001b[39m}\u001b[39;00m\u001b[39m, \u001b[39m\u001b[39m{\u001b[39;00mp\u001b[39m.\u001b[39mpdg_id[\u001b[39m0\u001b[39m]\u001b[39m}\u001b[39;00m\u001b[39m\"\u001b[39m)\n\u001b[1;32m      8\u001b[0m plt\u001b[39m.\u001b[39mgrid()\n\u001b[1;32m      9\u001b[0m plt\u001b[39m.\u001b[39mlegend()    \n",
      "File \u001b[0;32m~/MCEq/MCEq/data.py:1092\u001b[0m, in \u001b[0;36mInteractionCrossSections.get_cs\u001b[0;34m(self, parent, mbarn)\u001b[0m\n\u001b[1;32m   1090\u001b[0m \u001b[39mif\u001b[39;00m \u001b[39misinstance\u001b[39m(parent, \u001b[39mtuple\u001b[39m):\n\u001b[1;32m   1091\u001b[0m     parent \u001b[39m=\u001b[39m parent[\u001b[39m0\u001b[39m]\n\u001b[0;32m-> 1092\u001b[0m \u001b[39mif\u001b[39;00m parent \u001b[39min\u001b[39;00m \u001b[39mlist\u001b[39;49m(\u001b[39mself\u001b[39;49m\u001b[39m.\u001b[39;49mindex_d):\n\u001b[1;32m   1093\u001b[0m     cs \u001b[39m=\u001b[39m \u001b[39mself\u001b[39m\u001b[39m.\u001b[39mindex_d[parent]\n\u001b[1;32m   1094\u001b[0m \u001b[39melif\u001b[39;00m \u001b[39mabs\u001b[39m(parent) \u001b[39min\u001b[39;00m \u001b[39mlist\u001b[39m(\u001b[39mself\u001b[39m\u001b[39m.\u001b[39mindex_d):\n",
      "\u001b[0;31mTypeError\u001b[0m: 'NoneType' object is not iterable"
     ]
    }
   ],
   "source": [
    "for p in mceq_run.pman.all_particles:\n",
    "    # if p.is_hadron and abs(p.pdg_id[0]) in [111, 211]:\n",
    "    # if p.is_hadron and abs(p.pdg_id[0]) in [2212, 2112, 3122]:\n",
    "    # if p.is_hadron and abs(p.pdg_id[0]) in [321, 310, 130, 2212, 111]:\n",
    "    if p.is_hadron:\n",
    "        plt.semilogx(interaction_cs.energy_grid.c, interaction_cs.get_cs(p.pdg_id[0], True), label=f\"{p.name}, {p.pdg_id[0]}\")\n",
    "        \n",
    "plt.grid()\n",
    "plt.legend()    "
   ]
  }
 ],
 "metadata": {
  "kernelspec": {
   "display_name": "env_impy",
   "language": "python",
   "name": "python3"
  },
  "language_info": {
   "codemirror_mode": {
    "name": "ipython",
    "version": 3
   },
   "file_extension": ".py",
   "mimetype": "text/x-python",
   "name": "python",
   "nbconvert_exporter": "python",
   "pygments_lexer": "ipython3",
   "version": "3.9.13"
  },
  "orig_nbformat": 4,
  "vscode": {
   "interpreter": {
    "hash": "1da578f5b0770234c97b8a63f26035023e8d4f78965379356887400dcec38bc8"
   }
  }
 },
 "nbformat": 4,
 "nbformat_minor": 2
}
