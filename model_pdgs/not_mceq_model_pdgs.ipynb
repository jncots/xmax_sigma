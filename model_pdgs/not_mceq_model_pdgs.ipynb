{
 "cells": [
  {
   "cell_type": "code",
   "execution_count": 2,
   "metadata": {},
   "outputs": [],
   "source": [
    "import chromo\n",
    "from unknown_pdgs import unknown_pdgs_list, MCEqPdgsList"
   ]
  },
  {
   "cell_type": "code",
   "execution_count": 3,
   "metadata": {},
   "outputs": [
    {
     "name": "stdout",
     "output_type": "stream",
     "text": [
      "MCEqRun::set_interaction_model(): DPMJETIII191\n",
      "ParticleManager::_init_default_tracking(): Initializing default tracking categories (pi, K, mu)\n",
      "MCEqRun::set_density_model(): Setting density profile to CORSIKA ('BK_USStd', None)\n",
      "MCEqRun::set_primary_model(): Primary model set to Hillas-Gaisser (H3a)\n"
     ]
    }
   ],
   "source": [
    "mceq_pdgs = MCEqPdgsList()()"
   ]
  },
  {
   "cell_type": "code",
   "execution_count": 4,
   "metadata": {},
   "outputs": [],
   "source": [
    "def not_mceq_model_pdgs(models, mceq_pdgs):\n",
    "    target = chromo.kinematics.CompositeTarget([(\"N\", 0.78), (\"O\", 0.22)])\n",
    "    event_kin = chromo.kinematics.FixedTarget(1e10, \"proton\", target)\n",
    "    unknown_pdgs = dict()\n",
    "    unknown_pdgs[\"MCEq\"] = mceq_pdgs\n",
    "    for model in models:\n",
    "        event_generator = model(event_kin)\n",
    "        print(f\"Calculate pdgs for Model = {model.name}\")\n",
    "        unknown_pdgs[event_generator.pyname] = unknown_pdgs_list(event_generator, mceq_pdgs, 10000)\n",
    "        \n",
    "    return unknown_pdgs"
   ]
  },
  {
   "cell_type": "code",
   "execution_count": 5,
   "metadata": {},
   "outputs": [
    {
     "name": "stdout",
     "output_type": "stream",
     "text": [
      " +-----------------------------------------------------------------------+\n",
      " |                                                                       |\n",
      " |                       DPMJET-III version 19.1.5                       |\n",
      " |                                                                       |\n",
      " |                      (Last change:  16 Jan 2023)                      |\n",
      " |                                                                       |\n",
      " |            Authors:                                                   |\n",
      " |                     Stefan Roesler     (CERN)                         |\n",
      " |                     Anatoli Fedynitch (ASIoP)                         |\n",
      "Calculate pdgs for Model = DPMJET-III\n",
      " |                     Ralph Engel        (KIT)                          |\n",
      " |                     Johannes Ranft     (Siegen Univ.)                 |\n",
      " |                                                                       |\n",
      " |        https://github.com/afedynitch/dpmjet                           |\n",
      " |                                                                       |\n",
      " +-----------------------------------------------------------------------+\n",
      " | Contact: @github \n",
      " +-----------------------------------------------------------------------+\n",
      "\n",
      "\n",
      "  ===================================================\n",
      "                                                     \n",
      "    ----        PHOJET  19.1.5       ----   \n",
      "                                                     \n",
      "  ===================================================\n",
      "      Authors: Ralph Engel         (KIT)\n",
      "               Anatoli Fedynitch  (ASIoP)\n",
      "               Johannes Ranft      (Siegen Univ.)\n",
      "               Stefan Roesler      (CERN)\n",
      "  ---------------------------------------------------\n",
      "    bug reports, support and updates on:\n",
      "      https://github.com/afedynitch/dpmjet\n",
      "  ===================================================\n",
      "    Date: 2023/01/16\n",
      "    Revision: 19.1.5\n",
      "    Code with interface to PYTHIA 6.4.27\n",
      "  ===================================================\n",
      "\n"
     ]
    },
    {
     "name": "stderr",
     "output_type": "stream",
     "text": [
      "  0%|          | 1/10000 [00:03<9:07:47,  3.29s/it]"
     ]
    },
    {
     "name": "stdout",
     "output_type": "stream",
     "text": [
      "1                                                                              \n",
      " ******************************************************************************\n",
      " ******************************************************************************\n",
      " **                                                                          **\n",
      " **                                                                          **\n",
      " **              *......*                  Welcome to the Lund Monte Carlo!  **\n",
      " **         *:::!!:::::::::::*                                               **\n",
      " **      *::::::!!::::::::::::::*          PPP  Y   Y TTTTT H   H III   A    **\n",
      " **    *::::::::!!::::::::::::::::*        P  P  Y Y    T   H   H  I   A A   **\n",
      " **   *:::::::::!!:::::::::::::::::*       PPP    Y     T   HHHHH  I  AAAAA  **\n",
      " **   *:::::::::!!:::::::::::::::::*       P      Y     T   H   H  I  A   A  **\n",
      " **    *::::::::!!::::::::::::::::*!       P      Y     T   H   H III A   A  **\n",
      " **      *::::::!!::::::::::::::* !!                                         **\n",
      " **      !! *:::!!:::::::::::*    !!       This is PYTHIA version 6.427      **\n",
      " **      !!     !* -><- *         !!       Last date of change: 12 Dec 2012  **\n",
      " **      !!     !!                !!                                         **\n",
      " **      !!     !!                !!       Now is  0 Jan 2000 at  0:00:00    **\n",
      " **      !!                       !!                                         **\n",
      " **      !!        lh             !!       Disclaimer: this program comes    **\n",
      " **      !!                       !!       without any guarantees. Beware    **\n",
      " **      !!                 hh    !!       of errors and use common sense    **\n",
      " **      !!    ll                 !!       when interpreting results.        **\n",
      " **      !!                       !!                                         **\n",
      " **      !!                                Copyright T. Sjostrand (2011)     **\n",
      " **                                                                          **\n",
      " ** An archive of program versions and documentation is found on the web:    **\n",
      " ** http://www.thep.lu.se/~torbjorn/Pythia.html                              **\n",
      " **                                                                          **\n",
      " ** When you cite this program, the official reference is to the 6.4 manual: **\n",
      " ** T. Sjostrand, S. Mrenna and P. Skands, JHEP05 (2006) 026                 **\n",
      " ** (LU TP 06-13, FERMILAB-PUB-06-052-CD-T) [hep-ph/0603175].                **\n",
      " **                                                                          **\n",
      " ** Also remember that the program, to a large extent, represents original   **\n",
      " ** physics research. Other publications of special relevance to your        **\n",
      " ** studies may therefore deserve separate mention.                          **\n",
      " **                                                                          **\n",
      " ** Main author: Torbjorn Sjostrand; Department of Theoretical Physics,      **\n",
      " **   Lund University, Solvegatan 14A, S-223 62 Lund, Sweden;                **\n",
      " **   phone: + 46 - 46 - 222 48 16; e-mail: torbjorn@thep.lu.se              **\n",
      " ** Author: Stephen Mrenna; Computing Division, GDS Group,                   **\n",
      " **   Fermi National Accelerator Laboratory, MS 234, Batavia, IL 60510, USA; **\n",
      " **   phone: + 1 - 630 - 840 - 2556; e-mail: mrenna@fnal.gov                 **\n",
      " ** Author: Peter Skands; CERN/PH-TH, CH-1211 Geneva, Switzerland            **\n",
      " **   phone: + 41 - 22 - 767 24 47; e-mail: peter.skands@cern.ch             **\n",
      " **                                                                          **\n",
      " **                                                                          **\n",
      " ******************************************************************************\n",
      " ******************************************************************************\n",
      "\n",
      "     Advisory warning type 9 given after        1 PYEXEC calls:\n",
      "     (PYKFIN:) PARJ(18)<1 combined with 0<MSTJ(12)<5 option\n"
     ]
    },
    {
     "name": "stderr",
     "output_type": "stream",
     "text": [
      "  0%|          | 8/10000 [00:23<6:47:08,  2.44s/it] "
     ]
    },
    {
     "name": "stdout",
     "output_type": "stream",
     "text": [
      "\n",
      "     Advisory warning type 9 given after       10 PYEXEC calls:\n",
      "     (PYKFIN:) PARJ(18)<1 combined with 0<MSTJ(12)<5 option\n",
      "\n",
      "     Advisory warning type 9 given after       12 PYEXEC calls:\n",
      "     (PYKFIN:) PARJ(18)<1 combined with 0<MSTJ(12)<5 option\n"
     ]
    },
    {
     "name": "stderr",
     "output_type": "stream",
     "text": [
      "  0%|          | 11/10000 [00:30<6:38:07,  2.39s/it]"
     ]
    },
    {
     "name": "stdout",
     "output_type": "stream",
     "text": [
      "\n",
      "     Advisory warning type 9 given after       17 PYEXEC calls:\n",
      "     (PYKFIN:) PARJ(18)<1 combined with 0<MSTJ(12)<5 option\n",
      "\n",
      "     Advisory warning type 9 given after       22 PYEXEC calls:\n",
      "     (PYKFIN:) PARJ(18)<1 combined with 0<MSTJ(12)<5 option\n"
     ]
    },
    {
     "name": "stderr",
     "output_type": "stream",
     "text": [
      "  0%|          | 19/10000 [00:37<3:57:41,  1.43s/it]"
     ]
    },
    {
     "name": "stdout",
     "output_type": "stream",
     "text": [
      "\n",
      "     Advisory warning type 9 given after       27 PYEXEC calls:\n",
      "     (PYKFIN:) PARJ(18)<1 combined with 0<MSTJ(12)<5 option\n",
      "\n",
      "     Advisory warning type 9 given after       31 PYEXEC calls:\n",
      "     (PYKFIN:) PARJ(18)<1 combined with 0<MSTJ(12)<5 option\n",
      "\n",
      "     Advisory warning type 9 given after       36 PYEXEC calls:\n",
      "     (PYKFIN:) PARJ(18)<1 combined with 0<MSTJ(12)<5 option\n"
     ]
    },
    {
     "name": "stderr",
     "output_type": "stream",
     "text": [
      "  0%|          | 29/10000 [00:44<2:51:45,  1.03s/it]"
     ]
    },
    {
     "name": "stdout",
     "output_type": "stream",
     "text": [
      "\n",
      "     Advisory warning type 9 given after       46 PYEXEC calls:\n",
      "     (PYKFIN:) PARJ(18)<1 combined with 0<MSTJ(12)<5 option\n",
      "\n",
      "     Advisory warning type 9 given after       52 PYEXEC calls:\n",
      "     (PYKFIN:) PARJ(18)<1 combined with 0<MSTJ(12)<5 option\n"
     ]
    },
    {
     "name": "stderr",
     "output_type": "stream",
     "text": [
      "  3%|▎         | 299/10000 [01:11<06:17, 25.67it/s] "
     ]
    },
    {
     "name": "stdout",
     "output_type": "stream",
     "text": [
      "\n",
      "     Error type 1 has occured after      330 PYEXEC calls:\n",
      "     (PYEXEC:) no more memory left in PYJETS\n"
     ]
    },
    {
     "name": "stderr",
     "output_type": "stream",
     "text": [
      "100%|██████████| 10000/10000 [01:40<00:00, 99.47it/s]\n"
     ]
    },
    {
     "name": "stdout",
     "output_type": "stream",
     "text": [
      " ====================================================\n",
      " |                                                  |\n",
      " |                 S I B Y L L  2.3d                |\n",
      " |                                                  |\n",
      " |         HADRONIC INTERACTION MONTE CARLO         |\n",
      " |                        BY                        |\n",
      " |            Eun-Joo AHN, Felix RIEHN              |\n",
      " |      R. ENGEL, A. FEDYNITCH, R.S. FLETCHER,      |\n",
      " |       T.K. GAISSER, P. LIPARI, T. STANEV         |\n",
      " |                                                  |\n",
      " | Publication to be cited when using this program: |\n",
      " | Eun-Joo AHN et al., Phys.Rev. D80 (2009) 094003  |\n",
      " | F. RIEHN et al., hep-ph: 1912.03300              |\n",
      " | last modifications: F. Riehn (05/20/2020)        |\n",
      " ====================================================\n",
      "\n",
      "Calculate pdgs for Model = SIBYLL\n",
      " SIG_AIR_INI: initializing target: (i,A)           1           0 air..\n",
      " SIG_AIR_INI: initializing target: (i,A)           2          14 nit..\n",
      " SIG_AIR_INI: initializing target: (i,A)           3          16 oxy..\n"
     ]
    },
    {
     "name": "stderr",
     "output_type": "stream",
     "text": [
      "100%|██████████| 10000/10000 [00:14<00:00, 688.51it/s]\n"
     ]
    }
   ],
   "source": [
    "unstable_pdgs = not_mceq_model_pdgs([chromo.models.DpmjetIII191,\n",
    "                                     chromo.models.Sibyll23d], mceq_pdgs)"
   ]
  },
  {
   "cell_type": "code",
   "execution_count": 10,
   "metadata": {},
   "outputs": [],
   "source": [
    "json_dict = dict()\n",
    "for key, value in unstable_pdgs.items():\n",
    "    json_dict[key] = [int(pdg) for pdg in value]"
   ]
  },
  {
   "cell_type": "code",
   "execution_count": 11,
   "metadata": {},
   "outputs": [],
   "source": [
    "import json\n",
    "with open(\"pdg_lists.json\", \"w\") as outfile:\n",
    "    json.dump(json_dict, outfile)"
   ]
  }
 ],
 "metadata": {
  "kernelspec": {
   "display_name": "env_impy",
   "language": "python",
   "name": "python3"
  },
  "language_info": {
   "codemirror_mode": {
    "name": "ipython",
    "version": 3
   },
   "file_extension": ".py",
   "mimetype": "text/x-python",
   "name": "python",
   "nbconvert_exporter": "python",
   "pygments_lexer": "ipython3",
   "version": "3.9.13"
  },
  "orig_nbformat": 4
 },
 "nbformat": 4,
 "nbformat_minor": 2
}
