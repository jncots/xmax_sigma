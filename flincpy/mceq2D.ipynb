{
 "cells": [
  {
   "cell_type": "code",
   "execution_count": 14,
   "metadata": {},
   "outputs": [],
   "source": [
    "#import solver related modules\n",
    "from MCEq.core import MCEqRun\n",
    "import mceq_config as config\n",
    "#import primary model choices\n",
    "import crflux.models as pm\n",
    "import matplotlib.pylab as plt\n",
    "import numpy as np"
   ]
  },
  {
   "cell_type": "code",
   "execution_count": 15,
   "metadata": {},
   "outputs": [
    {
     "name": "stdout",
     "output_type": "stream",
     "text": [
      "MCEqRun::set_interaction_model(): EPOSLHC\n",
      "MCEqRun::set_density_model(): Setting density profile to CORSIKA ('USStd', None)\n",
      "MCEqRun::set_primary_model(): Primary model set to Hillas-Gaisser (H3a)\n"
     ]
    }
   ],
   "source": [
    "config.enable_2D = True\n",
    "config.mceq_db_fname = 'mceq_db_rare_decays_URQMD_lext_2D.h5'\n",
    "config.enable_default_tracking = False\n",
    "config.enable_em = False\n",
    "config.enable_em_ion = False\n",
    "config.hybrid_crossover = 0.1\n",
    "config.muon_energy_loss = True\n",
    "config.enable_cont_rad_loss = True\n",
    "config.enable_energy_loss = True\n",
    "config.muon_helicity_dependence = True\n",
    "config.density_model = (\"CORSIKA\", (\"USStd\", None))\n",
    "\n",
    "config.adv_set['force_resonance'] = [421, 431, 411, 310]\n",
    "config.adv_set['disabled_particles'] = [22, 111, 16, 11]\n",
    "\n",
    "mceq_run = MCEqRun(\n",
    "        #provide the string of the interaction model\n",
    "        interaction_model=\"EPOS-LHC\",\n",
    "        #primary cosmic ray flux model\n",
    "        primary_model = (pm.HillasGaisser2012, \"H3a\"),\n",
    "        # Zenith angle in degrees. 0=vertical, 90=horizontal\n",
    "        theta_deg=30.0,\n",
    "        density_model = (\"CORSIKA\", (\"USStd\", None))\n",
    "    )"
   ]
  },
  {
   "cell_type": "code",
   "execution_count": 16,
   "metadata": {},
   "outputs": [
    {
     "name": "stderr",
     "output_type": "stream",
     "text": [
      "100%|██████████| 2559/2559 [00:19<00:00, 129.17it/s]\n"
     ]
    }
   ],
   "source": [
    "slant_depth = 143\n",
    "\n",
    "if mceq_run.density_model.max_X < slant_depth:\n",
    "            raise ValueError(f\"Maximum slant_xdepth = {mceq_run.density_model.max_X}\")\n",
    "\n",
    "#Set the zenith angle\n",
    "mceq_run.set_theta_deg(30)\n",
    "mceq_run.set_single_primary_particle(100, pdg_id = 2212)\n",
    "mceq_run.solve(int_grid=[slant_depth])"
   ]
  },
  {
   "cell_type": "code",
   "execution_count": 17,
   "metadata": {},
   "outputs": [],
   "source": [
    "# part_long_spectra = {}\n",
    "# for p in mceq_run.pman.all_particles:\n",
    "#     # print(f\"Spectrum for {p.name}\")\n",
    "#     try: \n",
    "#         part_long_spectra[p.name] = mceq_run.get_solution(p.name, grid_idx=0)\n",
    "#     except Exception as ex:\n",
    "#         pass\n",
    "#         # print(ex) "
   ]
  },
  {
   "cell_type": "code",
   "execution_count": 110,
   "metadata": {},
   "outputs": [],
   "source": [
    "hank_trans_res = []\n",
    "\n",
    "part_tuple = [(-13, 0), (-13, -1), (-13, 1), (13, 0), (13, -1), (13, 1)]\n",
    "# part_tuple = [(-14, 0), (14, 0)]\n",
    "\n",
    "for part in part_tuple:\n",
    "    hank_trans_res.append(mceq_run.convert_to_theta_space(\n",
    "        mceq_run.grid_sol, *part))\n"
   ]
  },
  {
   "cell_type": "code",
   "execution_count": 111,
   "metadata": {},
   "outputs": [],
   "source": [
    "\n",
    "ang_grid = hank_trans_res[0][2]\n",
    "ang_dists = [None for i in range(51)]\n",
    "\n",
    "for i_energy in range(51):\n",
    "    for res in hank_trans_res:\n",
    "        if ang_dists[i_energy] is None:\n",
    "            ang_dists[i_energy] = res[3][0][i_energy]\n",
    "        else:\n",
    "            ang_dists[i_energy] += res[3][0][i_energy]\n",
    " \n",
    "# ang_dists_dt is dN/dE (t*dt), where t is angle.\n",
    "ang_dists = np.array(ang_dists)\n",
    "# We multiply it to angle to get dN/dEdt        \n",
    "ang_dists_t = ang_dists*ang_grid[np.newaxis, :]        "
   ]
  },
  {
   "cell_type": "code",
   "execution_count": 112,
   "metadata": {},
   "outputs": [],
   "source": [
    "ang_bins_deg = np.linspace(0, 90, 91)\n",
    "ang_bins = np.deg2rad(ang_bins_deg)\n",
    "ang_cent = (ang_bins[1:] + ang_bins[:-1])/2\n",
    "ang_delt = ang_bins[1:] - ang_bins[:-1]"
   ]
  },
  {
   "cell_type": "code",
   "execution_count": 113,
   "metadata": {},
   "outputs": [],
   "source": [
    "from scipy.interpolate import interp1d\n",
    "\n",
    "dist_at_ang_cent = [None for i in range(51)]\n",
    "for i, ang_dist in enumerate(ang_dists):\n",
    "    dist_at_ang_cent[i] = interp1d(ang_grid, ang_dist)(ang_cent)\n",
    "    \n",
    "    \n",
    "dist_at_ang_cent = np.array(dist_at_ang_cent)   "
   ]
  },
  {
   "cell_type": "code",
   "execution_count": 68,
   "metadata": {},
   "outputs": [
    {
     "data": {
      "text/plain": [
       "0.2622364485467273"
      ]
     },
     "execution_count": 68,
     "metadata": {},
     "output_type": "execute_result"
    }
   ],
   "source": [
    "ang_grid[100]"
   ]
  },
  {
   "cell_type": "code",
   "execution_count": 69,
   "metadata": {},
   "outputs": [
    {
     "data": {
      "text/plain": [
       "28.183829312644548"
      ]
     },
     "execution_count": 69,
     "metadata": {},
     "output_type": "execute_result"
    }
   ],
   "source": [
    "mceq_run.e_grid[25]"
   ]
  },
  {
   "cell_type": "code",
   "execution_count": 147,
   "metadata": {},
   "outputs": [],
   "source": [
    "from scipy.interpolate import interp1d\n",
    "from scipy.interpolate import RectBivariateSpline\n",
    "from scipy.integrate import nquad\n",
    "\n",
    "def get_spline_2Dfunction(energy_grid, angle_grid, dist_function):\n",
    "    # Create a spline representation of the input data\n",
    "    spline = RectBivariateSpline(energy_grid, angle_grid, dist_function, kx = 5, ky = 5)\n",
    "    \n",
    "    # Define the 2D distribution function\n",
    "    def distribution_function(energy, angle):\n",
    "        return spline.ev(energy, angle)\n",
    "    \n",
    "    return distribution_function\n",
    "\n",
    "def get_histogram(energy_bins, angle_bins, distribution_function):\n",
    "    \n",
    "    # distribution_function is assumed to be dN/(dE d(theta))\n",
    "    \n",
    "    # Initialize the histogram values to zero\n",
    "    hist = np.zeros((len(energy_bins) - 1, len(angle_bins) - 1))\n",
    "\n",
    "    # Integrate the distribution function in each bin\n",
    "    for i in range(len(energy_bins) - 1):\n",
    "        energy_start = energy_bins[i]\n",
    "        energy_end = energy_bins[i+1]\n",
    "        for j in range(len(angle_bins) - 1):\n",
    "            angle_start = angle_bins[j]\n",
    "            angle_end = angle_bins[j+1]\n",
    "            hist[i,j], _ = nquad(distribution_function, \n",
    "                                 [(energy_start, energy_end), (angle_start, angle_end)])\n",
    "            \n",
    "    \n",
    "    return hist      "
   ]
  },
  {
   "cell_type": "code",
   "execution_count": 155,
   "metadata": {},
   "outputs": [
    {
     "data": {
      "text/plain": [
       "51"
      ]
     },
     "execution_count": 155,
     "metadata": {},
     "output_type": "execute_result"
    }
   ],
   "source": [
    "len(mceq_run.e_grid)"
   ]
  },
  {
   "cell_type": "code",
   "execution_count": 148,
   "metadata": {},
   "outputs": [],
   "source": [
    "sp_func = get_spline_2Dfunction(mceq_run.e_grid, ang_grid, ang_dists_t)\n",
    "\n",
    "dist_hist = get_histogram(mceq_run.e_bins, ang_bins, sp_func)\n",
    "# dist_hist = np.exp(dist_hist)"
   ]
  },
  {
   "cell_type": "code",
   "execution_count": 116,
   "metadata": {},
   "outputs": [],
   "source": [
    "res_hists = ((dist_at_ang_cent * mceq_run.e_widths[:, np.newaxis])\n",
    "*ang_cent_delt[np.newaxis, :])"
   ]
  },
  {
   "cell_type": "code",
   "execution_count": 117,
   "metadata": {},
   "outputs": [
    {
     "ename": "ValueError",
     "evalue": "operands could not be broadcast together with shapes (51,90) (51,) ",
     "output_type": "error",
     "traceback": [
      "\u001b[0;31m---------------------------------------------------------------------------\u001b[0m",
      "\u001b[0;31mValueError\u001b[0m                                Traceback (most recent call last)",
      "Cell \u001b[0;32mIn[117], line 1\u001b[0m\n\u001b[0;32m----> 1\u001b[0m dist_at_ang_cent[:]\u001b[39m*\u001b[39;49mmceq_run\u001b[39m.\u001b[39;49me_widths\n",
      "\u001b[0;31mValueError\u001b[0m: operands could not be broadcast together with shapes (51,90) (51,) "
     ]
    }
   ],
   "source": [
    "dist_at_ang_cent[:]*mceq_run.e_widths"
   ]
  },
  {
   "cell_type": "code",
   "execution_count": 10,
   "metadata": {},
   "outputs": [
    {
     "data": {
      "text/plain": [
       "array([11])"
      ]
     },
     "execution_count": 10,
     "metadata": {},
     "output_type": "execute_result"
    }
   ],
   "source": [
    "np.where((mceq_run.e_grid >= 1.0) & (mceq_run.e_grid <= 1.3))[0]\n",
    "# 11, 14, 17"
   ]
  },
  {
   "cell_type": "code",
   "execution_count": 154,
   "metadata": {},
   "outputs": [
    {
     "data": {
      "image/png": "[encoded data removed]",
      "text/plain": [
       "<Figure size 640x480 with 1 Axes>"
      ]
     },
     "metadata": {},
     "output_type": "display_data"
    }
   ],
   "source": [
    "mceq_run.e_bins\n",
    "\n",
    "plt.stairs(res_hists[11], ang_bins_deg)\n",
    "plt.stairs(dist_hist[11], ang_bins_deg)\n",
    "# plt.scale(\"log\")\n",
    "# plt.stairs(res_hists[14], ang_bins_deg)\n",
    "# plt.stairs(res_hists[17], ang_bins_deg)\n",
    "\n",
    "# plt.stairs(dist_hist[11], ang_bins_deg)\n",
    "# plt.stairs(dist_hist[14], ang_bins_deg)\n",
    "# plt.stairs(dist_hist[17], ang_bins_deg)\n",
    "\n",
    "# plt.stairs((dist_at_ang_cent[11]*mceq_run.e_widths[11]\n",
    "#             *ang_cent * ang_delt),\n",
    "#     np.rad2deg(ang_bins))\n",
    "\n",
    "# plt.stairs((dist_at_ang_cent[11]*mceq_run.e_widths[11]\n",
    "#             *np.sin(ang_cent) * ang_delt),\n",
    "#     np.rad2deg(ang_bins))\n",
    "\n",
    "# plt.stairs((np.sin(ang_cent)/ang_cent),\n",
    "#     np.rad2deg(ang_bins))\n",
    "\n",
    "# plt.stairs((dist_at_ang_cent[14]*mceq_run.e_widths[14]\n",
    "#             *ang_cent * ang_delt),\n",
    "#     np.rad2deg(ang_bins))\n",
    "\n",
    "# plt.stairs((dist_at_ang_cent[17]*mceq_run.e_widths[17]\n",
    "#             *ang_cent * ang_delt),\n",
    "#     np.rad2deg(ang_bins))\n",
    "\n",
    "# plt.stairs((dist_at_ang_cent[0][14]*\n",
    "#             mceq_run.e_widths[14]*np.sin(ang_cent)),\n",
    "#     np.rad2deg(ang_bins))\n",
    "\n",
    "# plt.stairs((dist_at_ang_cent[0][17]*\n",
    "#             mceq_run.e_widths[17]*np.sin(ang_cent)),\n",
    "#     np.rad2deg(ang_bins))\n",
    "\n",
    "\n",
    "# plt.stairs((dist_at_ang_cent[0][11]*(1.3 - 1)*ang_cent*ang_delt),\n",
    "#     np.rad2deg(ang_bins))\n",
    "\n",
    "# plt.stairs((dist_at_ang_cent[0][14]*(2.5 - 2.0)*ang_cent*ang_delt),\n",
    "#     np.rad2deg(ang_bins))\n",
    "\n",
    "# plt.stairs((dist_at_ang_cent[0][17]*(5.0 - 4.0)*ang_cent*ang_delt),\n",
    "#     np.rad2deg(ang_bins))\n",
    "\n",
    "# plt.stairs(store_inverse_hankel_transfs[0][11],\n",
    "#     np.rad2deg(theta_bins))\n",
    "\n",
    "plt.xlim(0, 30)\n",
    "# plt.yticks(np.linspace(0, 1.5e-2, 4))\n",
    "# plt.ylim(0.99, 1.008)\n",
    "plt.grid()"
   ]
  },
  {
   "cell_type": "code",
   "execution_count": 153,
   "metadata": {},
   "outputs": [
    {
     "data": {
      "text/plain": [
       "array([ 3.46492506e-02,  6.21285752e-02,  4.30434480e-02,  2.22915765e-02,\n",
       "        1.05998867e-02,  4.89318647e-03,  2.37625036e-03,  1.10363839e-03,\n",
       "        5.49376368e-04,  3.34322946e-04,  1.18342856e-04,  4.11305600e-05,\n",
       "        4.45022159e-05,  3.76140575e-05,  9.09971813e-06,  7.59304305e-07,\n",
       "       -3.51288900e-06, -1.14191456e-05, -3.48925860e-06,  5.19162241e-08,\n",
       "        2.48265131e-06,  3.24796183e-06, -2.22983176e-06, -1.17824924e-05,\n",
       "       -1.34891158e-05, -7.88725651e-06, -4.82222022e-06, -1.51404047e-06,\n",
       "       -4.04761230e-08, -1.10126662e-06, -3.32691629e-06, -5.63879511e-06,\n",
       "       -8.54223388e-06, -1.00768948e-05, -9.19690069e-06, -8.83974352e-06,\n",
       "       -7.74960332e-06, -5.91056267e-06, -4.84347437e-06, -5.36120533e-06,\n",
       "       -6.31179749e-06, -7.23959580e-06, -8.03190687e-06, -7.92718093e-06,\n",
       "       -8.23486180e-06, -8.83182432e-06, -9.18590398e-06, -9.44354389e-06,\n",
       "       -9.85398039e-06, -9.89132759e-06, -9.45193063e-06, -9.31358246e-06,\n",
       "       -9.24359779e-06, -9.38430348e-06, -9.72679055e-06, -1.00648883e-05,\n",
       "       -1.03927204e-05, -1.08962478e-05, -1.12812304e-05, -1.12115329e-05,\n",
       "       -1.11731131e-05, -1.11959900e-05, -1.13007781e-05, -1.15754288e-05,\n",
       "       -1.19995351e-05, -1.23713476e-05, -1.26395541e-05, -1.28299375e-05,\n",
       "       -1.27968577e-05, -1.28470192e-05, -1.30201145e-05, -1.31620349e-05,\n",
       "       -1.32778918e-05, -1.34772667e-05, -1.37184205e-05, -1.39254812e-05,\n",
       "       -1.41808015e-05, -1.43763105e-05, -1.45739780e-05, -1.48220301e-05,\n",
       "       -1.50489534e-05, -1.52225293e-05, -1.54073617e-05, -1.55724590e-05,\n",
       "       -1.56281929e-05, -1.57201592e-05, -1.58799856e-05, -1.61058502e-05,\n",
       "       -1.63816187e-05, -1.66515586e-05])"
      ]
     },
     "execution_count": 153,
     "metadata": {},
     "output_type": "execute_result"
    }
   ],
   "source": [
    "dist_hist[20]"
   ]
  },
  {
   "cell_type": "code",
   "execution_count": 151,
   "metadata": {},
   "outputs": [
    {
     "data": {
      "text/plain": [
       "array([ 3.70838604e-02,  6.46426772e-02,  4.32069013e-02,  2.18978572e-02,\n",
       "        1.02856267e-02,  4.68657433e-03,  2.28518830e-03,  1.03298164e-03,\n",
       "        5.14089781e-04,  3.24764878e-04,  1.01714712e-04,  3.32448085e-05,\n",
       "        4.15811296e-05,  3.77883795e-05,  7.37193884e-06,  8.65757117e-07,\n",
       "       -3.15217560e-06, -1.29298593e-05, -3.14730931e-06, -1.73576593e-08,\n",
       "        2.76373539e-06,  3.69410113e-06, -1.95892592e-06, -1.22376424e-05,\n",
       "       -1.39948549e-05, -7.70897207e-06, -4.88425378e-06, -1.33926515e-06,\n",
       "        1.17498062e-07, -1.06210503e-06, -3.39078303e-06, -5.59397783e-06,\n",
       "       -8.57677244e-06, -1.01722155e-05, -9.08012259e-06, -8.83893418e-06,\n",
       "       -7.71512884e-06, -5.83819936e-06, -4.74840495e-06, -5.39830669e-06,\n",
       "       -6.40198025e-06, -7.33059809e-06, -8.17683518e-06, -7.91712619e-06,\n",
       "       -8.19385192e-06, -8.77807541e-06, -9.12475404e-06, -9.38733935e-06,\n",
       "       -9.85901987e-06, -9.93821137e-06, -9.47486463e-06, -9.37772853e-06,\n",
       "       -9.29030596e-06, -9.41249522e-06, -9.73536635e-06, -1.00544819e-05,\n",
       "       -1.03535461e-05, -1.08878022e-05, -1.13176737e-05, -1.12424477e-05,\n",
       "       -1.12260525e-05, -1.12436835e-05, -1.13351623e-05, -1.15842624e-05,\n",
       "       -1.19998310e-05, -1.23546079e-05, -1.26145298e-05, -1.28284861e-05,\n",
       "       -1.27974362e-05, -1.28774412e-05, -1.30822583e-05, -1.32339802e-05,\n",
       "       -1.33346544e-05, -1.35174134e-05, -1.37383240e-05, -1.39219199e-05,\n",
       "       -1.41782450e-05, -1.43788092e-05, -1.45921930e-05, -1.48654984e-05,\n",
       "       -1.51130064e-05, -1.52879164e-05, -1.54707515e-05, -1.56218771e-05,\n",
       "       -1.56467182e-05, -1.57200140e-05, -1.58774742e-05, -1.61142786e-05,\n",
       "       -1.64114733e-05, -1.67075030e-05])"
      ]
     },
     "execution_count": 151,
     "metadata": {},
     "output_type": "execute_result"
    }
   ],
   "source": [
    "res_hists[20]"
   ]
  },
  {
   "cell_type": "code",
   "execution_count": 30,
   "metadata": {},
   "outputs": [
    {
     "data": {
      "text/plain": [
       "4"
      ]
     },
     "execution_count": 30,
     "metadata": {},
     "output_type": "execute_result"
    }
   ],
   "source": [
    "len(hank_trans)"
   ]
  },
  {
   "cell_type": "code",
   "execution_count": 35,
   "metadata": {},
   "outputs": [
    {
     "data": {
      "text/plain": [
       "10000"
      ]
     },
     "execution_count": 35,
     "metadata": {},
     "output_type": "execute_result"
    }
   ],
   "source": [
    "len(hank_trans[0])"
   ]
  },
  {
   "cell_type": "code",
   "execution_count": 10,
   "metadata": {},
   "outputs": [
    {
     "ename": "ValueError",
     "evalue": "operands could not be broadcast together with shapes (51,) (0,1071) (51,) ",
     "output_type": "error",
     "traceback": [
      "\u001b[0;31m---------------------------------------------------------------------------\u001b[0m",
      "\u001b[0;31mValueError\u001b[0m                                Traceback (most recent call last)",
      "Cell \u001b[0;32mIn[10], line 1\u001b[0m\n\u001b[0;32m----> 1\u001b[0m mceq_run\u001b[39m.\u001b[39;49mget_solution(\u001b[39m\"\u001b[39;49m\u001b[39mmu+\u001b[39;49m\u001b[39m\"\u001b[39;49m, grid_idx\u001b[39m=\u001b[39;49m\u001b[39m0\u001b[39;49m)\n",
      "File \u001b[0;32m~/MCEq2D/MCEq/core.py:353\u001b[0m, in \u001b[0;36mMCEqRun.get_solution\u001b[0;34m(self, particle_name, mag, grid_idx, integrate, return_as, dont_sum_helicities)\u001b[0m\n\u001b[1;32m    351\u001b[0m \u001b[39melse\u001b[39;00m:\n\u001b[1;32m    352\u001b[0m     \u001b[39mtry\u001b[39;00m:\n\u001b[0;32m--> 353\u001b[0m         res \u001b[39m=\u001b[39m sum_lr(particle_name, prefix\u001b[39m=\u001b[39;49m\u001b[39m\"\u001b[39;49m\u001b[39m\"\u001b[39;49m)\n\u001b[1;32m    354\u001b[0m     \u001b[39mexcept\u001b[39;00m \u001b[39mKeyError\u001b[39;00m:\n\u001b[1;32m    355\u001b[0m         \u001b[39mif\u001b[39;00m config\u001b[39m.\u001b[39mexcpt_on_missing_particle:\n",
      "File \u001b[0;32m~/MCEq2D/MCEq/core.py:310\u001b[0m, in \u001b[0;36mMCEqRun.get_solution.<locals>.sum_lr\u001b[0;34m(lep_str, prefix)\u001b[0m\n\u001b[1;32m    304\u001b[0m         info(\n\u001b[1;32m    305\u001b[0m             \u001b[39m15\u001b[39m,\n\u001b[1;32m    306\u001b[0m             \u001b[39m\"\u001b[39m\u001b[39mNo separate left and right handed particles,\u001b[39m\u001b[39m\"\u001b[39m,\n\u001b[1;32m    307\u001b[0m             \u001b[39m\"\u001b[39m\u001b[39mor, unavailable particle prefix \u001b[39m\u001b[39m{0}\u001b[39;00m\u001b[39m.\u001b[39m\u001b[39m\"\u001b[39m\u001b[39m.\u001b[39mformat(prefix \u001b[39m+\u001b[39m ls),\n\u001b[1;32m    308\u001b[0m         )\n\u001b[1;32m    309\u001b[0m         \u001b[39mcontinue\u001b[39;00m\n\u001b[0;32m--> 310\u001b[0m     result \u001b[39m+\u001b[39m\u001b[39m=\u001b[39m sol[ref[prefix \u001b[39m+\u001b[39m ls]\u001b[39m.\u001b[39mlidx : ref[prefix \u001b[39m+\u001b[39m ls]\u001b[39m.\u001b[39muidx]\n\u001b[1;32m    311\u001b[0m     nsuccess \u001b[39m+\u001b[39m\u001b[39m=\u001b[39m \u001b[39m1\u001b[39m\n\u001b[1;32m    312\u001b[0m \u001b[39mif\u001b[39;00m nsuccess \u001b[39m==\u001b[39m \u001b[39m0\u001b[39m \u001b[39mand\u001b[39;00m config\u001b[39m.\u001b[39mexcpt_on_missing_particle:\n",
      "\u001b[0;31mValueError\u001b[0m: operands could not be broadcast together with shapes (51,) (0,1071) (51,) "
     ]
    }
   ],
   "source": [
    "mceq_run.get_solution(\"mu+\", grid_idx=0)"
   ]
  },
  {
   "cell_type": "code",
   "execution_count": 22,
   "metadata": {},
   "outputs": [],
   "source": [
    "solutions = mceq_run._solution"
   ]
  },
  {
   "cell_type": "code",
   "execution_count": 25,
   "metadata": {},
   "outputs": [
    {
     "data": {
      "text/plain": [
       "(24, 1071)"
      ]
     },
     "execution_count": 25,
     "metadata": {},
     "output_type": "execute_result"
    }
   ],
   "source": [
    "solutions.shape"
   ]
  },
  {
   "cell_type": "code",
   "execution_count": 19,
   "metadata": {},
   "outputs": [
    {
     "name": "stdout",
     "output_type": "stream",
     "text": [
      "0 1071\n"
     ]
    },
    {
     "ename": "TypeError",
     "evalue": "object of type 'numpy.float64' has no len()",
     "output_type": "error",
     "traceback": [
      "\u001b[0;31m---------------------------------------------------------------------------\u001b[0m",
      "\u001b[0;31mTypeError\u001b[0m                                 Traceback (most recent call last)",
      "Cell \u001b[0;32mIn[19], line 4\u001b[0m\n\u001b[1;32m      2\u001b[0m \u001b[39mprint\u001b[39m(i, \u001b[39mlen\u001b[39m(solution))\n\u001b[1;32m      3\u001b[0m \u001b[39mfor\u001b[39;00m i \u001b[39min\u001b[39;00m solution:\n\u001b[0;32m----> 4\u001b[0m     \u001b[39mprint\u001b[39m(\u001b[39mlen\u001b[39;49m(i))\n",
      "\u001b[0;31mTypeError\u001b[0m: object of type 'numpy.float64' has no len()"
     ]
    }
   ],
   "source": [
    "for i, solution in enumerate(solutions):\n",
    "    print(i, len(solution))\n",
    "    for sl in solution:\n",
    "        print(len(sl))"
   ]
  },
  {
   "cell_type": "code",
   "execution_count": 9,
   "metadata": {},
   "outputs": [
    {
     "name": "stdout",
     "output_type": "stream",
     "text": [
      "dict_keys([])\n"
     ]
    }
   ],
   "source": [
    "print(part_long_spectra.keys())"
   ]
  },
  {
   "cell_type": "code",
   "execution_count": 5,
   "metadata": {},
   "outputs": [],
   "source": [
    "a_mat = np.array([[1, 1], [1, 1]])"
   ]
  },
  {
   "cell_type": "code",
   "execution_count": 6,
   "metadata": {},
   "outputs": [],
   "source": [
    "bm = np.array([3,5])\n"
   ]
  },
  {
   "cell_type": "code",
   "execution_count": 8,
   "metadata": {},
   "outputs": [
    {
     "data": {
      "text/plain": [
       "array([[3, 3],\n",
       "       [5, 5]])"
      ]
     },
     "execution_count": 8,
     "metadata": {},
     "output_type": "execute_result"
    }
   ],
   "source": [
    "a_mat*bm[:, np.newaxis]"
   ]
  },
  {
   "cell_type": "code",
   "execution_count": 9,
   "metadata": {},
   "outputs": [
    {
     "data": {
      "text/plain": [
       "array([[3],\n",
       "       [5]])"
      ]
     },
     "execution_count": 9,
     "metadata": {},
     "output_type": "execute_result"
    }
   ],
   "source": [
    "bm[:, np.newaxis]"
   ]
  },
  {
   "cell_type": "code",
   "execution_count": 13,
   "metadata": {},
   "outputs": [
    {
     "data": {
      "text/plain": [
       "array([[1, 1],\n",
       "       [1, 1]])"
      ]
     },
     "execution_count": 13,
     "metadata": {},
     "output_type": "execute_result"
    }
   ],
   "source": [
    "a_mat"
   ]
  },
  {
   "cell_type": "code",
   "execution_count": 11,
   "metadata": {},
   "outputs": [
    {
     "data": {
      "text/plain": [
       "array([[3, 5],\n",
       "       [3, 5]])"
      ]
     },
     "execution_count": 11,
     "metadata": {},
     "output_type": "execute_result"
    }
   ],
   "source": [
    "a_mat*bm[np.newaxis, :]"
   ]
  },
  {
   "cell_type": "code",
   "execution_count": 12,
   "metadata": {},
   "outputs": [
    {
     "data": {
      "text/plain": [
       "array([[3, 5]])"
      ]
     },
     "execution_count": 12,
     "metadata": {},
     "output_type": "execute_result"
    }
   ],
   "source": [
    "bm[np.newaxis, :]"
   ]
  },
  {
   "cell_type": "code",
   "execution_count": 49,
   "metadata": {},
   "outputs": [],
   "source": [
    "x = np.linspace(-5, 5, 10)\n",
    "y = np.linspace(-1, 1, 5)\n",
    "X, Y = np.meshgrid(x, y, indexing='ij')"
   ]
  },
  {
   "cell_type": "code",
   "execution_count": 50,
   "metadata": {},
   "outputs": [
    {
     "data": {
      "text/plain": [
       "array([[-5.        , -5.        , -5.        , -5.        , -5.        ],\n",
       "       [-3.88888889, -3.88888889, -3.88888889, -3.88888889, -3.88888889],\n",
       "       [-2.77777778, -2.77777778, -2.77777778, -2.77777778, -2.77777778],\n",
       "       [-1.66666667, -1.66666667, -1.66666667, -1.66666667, -1.66666667],\n",
       "       [-0.55555556, -0.55555556, -0.55555556, -0.55555556, -0.55555556],\n",
       "       [ 0.55555556,  0.55555556,  0.55555556,  0.55555556,  0.55555556],\n",
       "       [ 1.66666667,  1.66666667,  1.66666667,  1.66666667,  1.66666667],\n",
       "       [ 2.77777778,  2.77777778,  2.77777778,  2.77777778,  2.77777778],\n",
       "       [ 3.88888889,  3.88888889,  3.88888889,  3.88888889,  3.88888889],\n",
       "       [ 5.        ,  5.        ,  5.        ,  5.        ,  5.        ]])"
      ]
     },
     "execution_count": 50,
     "metadata": {},
     "output_type": "execute_result"
    }
   ],
   "source": [
    "X"
   ]
  },
  {
   "cell_type": "code",
   "execution_count": 51,
   "metadata": {},
   "outputs": [
    {
     "data": {
      "text/plain": [
       "array([[-1. , -0.5,  0. ,  0.5,  1. ],\n",
       "       [-1. , -0.5,  0. ,  0.5,  1. ],\n",
       "       [-1. , -0.5,  0. ,  0.5,  1. ],\n",
       "       [-1. , -0.5,  0. ,  0.5,  1. ],\n",
       "       [-1. , -0.5,  0. ,  0.5,  1. ],\n",
       "       [-1. , -0.5,  0. ,  0.5,  1. ],\n",
       "       [-1. , -0.5,  0. ,  0.5,  1. ],\n",
       "       [-1. , -0.5,  0. ,  0.5,  1. ],\n",
       "       [-1. , -0.5,  0. ,  0.5,  1. ],\n",
       "       [-1. , -0.5,  0. ,  0.5,  1. ]])"
      ]
     },
     "execution_count": 51,
     "metadata": {},
     "output_type": "execute_result"
    }
   ],
   "source": [
    "Y"
   ]
  }
 ],
 "metadata": {
  "kernelspec": {
   "display_name": "env_impy",
   "language": "python",
   "name": "python3"
  },
  "language_info": {
   "codemirror_mode": {
    "name": "ipython",
    "version": 3
   },
   "file_extension": ".py",
   "mimetype": "text/x-python",
   "name": "python",
   "nbconvert_exporter": "python",
   "pygments_lexer": "ipython3",
   "version": "3.9.16"
  },
  "orig_nbformat": 4
 },
 "nbformat": 4,
 "nbformat_minor": 2
}
