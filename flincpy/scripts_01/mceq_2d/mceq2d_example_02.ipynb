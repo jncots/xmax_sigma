{
 "cells": [
  {
   "cell_type": "code",
   "execution_count": 30,
   "metadata": {},
   "outputs": [
    {
     "name": "stdout",
     "output_type": "stream",
     "text": [
      "The autoreload extension is already loaded. To reload it, use:\n",
      "  %reload_ext autoreload\n"
     ]
    }
   ],
   "source": [
    "%load_ext autoreload\n",
    "%autoreload 2\n",
    "from mceq2d_dists import MCEQDist2D, CalcMCEqHists, MCEq2Histogram\n",
    "import matplotlib.pylab as plt\n",
    "import numpy as np"
   ]
  },
  {
   "cell_type": "code",
   "execution_count": 35,
   "metadata": {},
   "outputs": [
    {
     "name": "stdout",
     "output_type": "stream",
     "text": [
      "MCEqRun::set_interaction_model(): EPOSLHC\n",
      "MCEqRun::set_density_model(): Setting density profile to CORSIKA ('USStd', None)\n",
      "MCEqRun::set_primary_model(): Primary model set to Hillas-Gaisser (H3a)\n"
     ]
    },
    {
     "name": "stderr",
     "output_type": "stream",
     "text": [
      "100%|██████████| 2559/2559 [00:19<00:00, 132.08it/s]\n"
     ]
    }
   ],
   "source": [
    "mceq_sol = MCEQDist2D(\n",
    "                 energy = 100,\n",
    "                 pdg_id = 2212,\n",
    "                 theta_deg = 30,\n",
    "                 slant_depths = [143, 647, 1033],\n",
    "                 energy_range = [1e-1, 1e4],\n",
    "                 interaction_model = \"EPOS-LHC\", \n",
    "                 hybrid_crossover = 0.1,\n",
    "                 density_model = (\"CORSIKA\", (\"USStd\", None)))"
   ]
  },
  {
   "cell_type": "code",
   "execution_count": 39,
   "metadata": {},
   "outputs": [
    {
     "name": "stderr",
     "output_type": "stream",
     "text": [
      "  0%|          | 0/3 [00:00<?, ?it/s]"
     ]
    },
    {
     "name": "stdout",
     "output_type": "stream",
     "text": [
      "Inverse hankel transform for (-12, 0) and depths [143, 300]\n"
     ]
    },
    {
     "name": "stderr",
     "output_type": "stream",
     "text": []
    },
    {
     "name": "stdout",
     "output_type": "stream",
     "text": [
      "Inverse hankel transform for (12, 0) and depths [143, 300]\n"
     ]
    },
    {
     "name": "stderr",
     "output_type": "stream",
     "text": [
      "100%|██████████| 2/2 [00:10<00:00,  5.09s/it]\n",
      " 33%|███▎      | 1/3 [00:10<00:20, 10.19s/it]"
     ]
    },
    {
     "name": "stdout",
     "output_type": "stream",
     "text": [
      "Inverse hankel transform for (-13, 0) and depths [143, 300]\n"
     ]
    },
    {
     "name": "stderr",
     "output_type": "stream",
     "text": []
    },
    {
     "name": "stdout",
     "output_type": "stream",
     "text": [
      "Inverse hankel transform for (-13, -1) and depths [143, 300]\n"
     ]
    },
    {
     "name": "stderr",
     "output_type": "stream",
     "text": []
    },
    {
     "name": "stdout",
     "output_type": "stream",
     "text": [
      "Inverse hankel transform for (-13, 1) and depths [143, 300]\n"
     ]
    },
    {
     "name": "stderr",
     "output_type": "stream",
     "text": []
    },
    {
     "name": "stdout",
     "output_type": "stream",
     "text": [
      "Inverse hankel transform for (13, 0) and depths [143, 300]\n"
     ]
    },
    {
     "name": "stderr",
     "output_type": "stream",
     "text": []
    },
    {
     "name": "stdout",
     "output_type": "stream",
     "text": [
      "Inverse hankel transform for (13, -1) and depths [143, 300]\n"
     ]
    },
    {
     "name": "stderr",
     "output_type": "stream",
     "text": []
    },
    {
     "name": "stdout",
     "output_type": "stream",
     "text": [
      "Inverse hankel transform for (13, 1) and depths [143, 300]\n"
     ]
    },
    {
     "name": "stderr",
     "output_type": "stream",
     "text": [
      "100%|██████████| 6/6 [00:30<00:00,  5.02s/it]\n",
      " 67%|██████▋   | 2/3 [00:40<00:21, 21.92s/it]"
     ]
    },
    {
     "name": "stdout",
     "output_type": "stream",
     "text": [
      "Inverse hankel transform for (-14, 0) and depths [143, 300]\n"
     ]
    },
    {
     "name": "stderr",
     "output_type": "stream",
     "text": []
    },
    {
     "name": "stdout",
     "output_type": "stream",
     "text": [
      "Inverse hankel transform for (14, 0) and depths [143, 300]\n"
     ]
    },
    {
     "name": "stderr",
     "output_type": "stream",
     "text": [
      "100%|██████████| 2/2 [00:10<00:00,  5.10s/it]\n",
      "100%|██████████| 3/3 [00:50<00:00, 16.84s/it]\n"
     ]
    }
   ],
   "source": [
    "mceq_dists = CalcMCEqHists(mceq_sol, particles = [12, 13, 14])"
   ]
  },
  {
   "cell_type": "code",
   "execution_count": 40,
   "metadata": {},
   "outputs": [
    {
     "name": "stderr",
     "output_type": "stream",
     "text": [
      "  0%|          | 0/3 [00:00<?, ?it/s]"
     ]
    },
    {
     "name": "stdout",
     "output_type": "stream",
     "text": [
      "Particle 12, slant depth = 143\n",
      "Particle 12, slant depth = 300\n"
     ]
    },
    {
     "name": "stderr",
     "output_type": "stream",
     "text": [
      " 33%|███▎      | 1/3 [00:53<01:46, 53.04s/it]"
     ]
    },
    {
     "name": "stdout",
     "output_type": "stream",
     "text": [
      "Particle 13, slant depth = 143\n",
      "Particle 13, slant depth = 300\n"
     ]
    },
    {
     "name": "stderr",
     "output_type": "stream",
     "text": [
      " 67%|██████▋   | 2/3 [01:39<00:49, 49.33s/it]"
     ]
    },
    {
     "name": "stdout",
     "output_type": "stream",
     "text": [
      "Particle 14, slant depth = 143\n",
      "Particle 14, slant depth = 300\n"
     ]
    },
    {
     "name": "stderr",
     "output_type": "stream",
     "text": [
      "100%|██████████| 3/3 [02:33<00:00, 51.33s/it]\n"
     ]
    }
   ],
   "source": [
    "angle_bins = mceq_dists.default_angbins\n",
    "energy_bins = mceq_dists.default_ebins #[1, 1.3, 2, 2.5, 4, 5]\n",
    "mceq_hists = mceq_dists.histograms(energy_bins, angle_bins)"
   ]
  },
  {
   "cell_type": "code",
   "execution_count": 43,
   "metadata": {},
   "outputs": [
    {
     "name": "stderr",
     "output_type": "stream",
     "text": [
      "  0%|          | 0/3 [00:00<?, ?it/s]"
     ]
    },
    {
     "name": "stdout",
     "output_type": "stream",
     "text": [
      "Particle 12, slant depth = 143\n",
      "Particle 12, slant depth = 300\n"
     ]
    },
    {
     "name": "stderr",
     "output_type": "stream",
     "text": [
      " 33%|███▎      | 1/3 [00:04<00:08,  4.26s/it]"
     ]
    },
    {
     "name": "stdout",
     "output_type": "stream",
     "text": [
      "Particle 13, slant depth = 143\n",
      "Particle 13, slant depth = 300\n"
     ]
    },
    {
     "name": "stderr",
     "output_type": "stream",
     "text": [
      " 67%|██████▋   | 2/3 [00:07<00:03,  3.75s/it]"
     ]
    },
    {
     "name": "stdout",
     "output_type": "stream",
     "text": [
      "Particle 14, slant depth = 143\n",
      "Particle 14, slant depth = 300\n"
     ]
    },
    {
     "name": "stderr",
     "output_type": "stream",
     "text": [
      "100%|██████████| 3/3 [00:11<00:00,  3.95s/it]\n"
     ]
    }
   ],
   "source": [
    "angle_bins = mceq_dists.default_angbins\n",
    "energy_bins = [1, 1.3, 2, 2.5, 4, 5]\n",
    "mceq_hist1 = mceq_dists.histograms(energy_bins, angle_bins)"
   ]
  },
  {
   "cell_type": "code",
   "execution_count": 57,
   "metadata": {},
   "outputs": [
    {
     "data": {
      "image/png": "[encoded data removed]",
      "text/plain": [
       "<Figure size 640x480 with 1 Axes>"
      ]
     },
     "metadata": {},
     "output_type": "display_data"
    }
   ],
   "source": [
    "\n",
    "pdg = 13\n",
    "line1 = plt.stairs(mceq_hists[pdg][143][\"hist_en_ang\"][11], \n",
    "           np.rad2deg(mceq_hists[pdg][143][\"ang_bins\"]))\n",
    "line2 = plt.stairs(mceq_hists[pdg][300][\"hist_en_ang\"][11], \n",
    "           np.rad2deg(mceq_hists[pdg][300][\"ang_bins\"]))\n",
    "\n",
    "plt.stairs(mceq_hists[pdg][143][\"hist_en_ang\"][12], \n",
    "           np.rad2deg(mceq_hists[pdg][143][\"ang_bins\"]),\n",
    "           linestyle = \":\",\n",
    "           color = line1.get_edgecolor())\n",
    "plt.stairs(mceq_hists[pdg][300][\"hist_en_ang\"][12], \n",
    "           np.rad2deg(mceq_hists[pdg][300][\"ang_bins\"]),\n",
    "           linestyle = \":\",\n",
    "           color = line2.get_edgecolor())\n",
    "\n",
    "\n",
    "plt.stairs(mceq_hist1[pdg][143][\"hist_en_ang\"][0], \n",
    "           np.rad2deg(mceq_hist1[pdg][143][\"ang_bins\"]),\n",
    "           linestyle = \"--\",\n",
    "           color = line1.get_edgecolor())\n",
    "plt.stairs(mceq_hist1[pdg][300][\"hist_en_ang\"][0], \n",
    "           np.rad2deg(mceq_hist1[pdg][300][\"ang_bins\"]),\n",
    "           linestyle = \"--\",\n",
    "           color = line2.get_edgecolor())\n",
    "# plt.stairs(mceq_hists[13][\"hist_en_ang\"][14], np.rad2deg(mceq_hists[13][\"ang_bins\"]))\n",
    "# plt.stairs(mceq_hists[13][\"hist_en_ang\"][17], np.rad2deg(mceq_hists[13][\"ang_bins\"]))\n",
    "\n",
    "\n",
    "# plt.stairs(dist_hist[12][2][0], np.rad2deg(dist_hist[12][1]))\n",
    "# plt.stairs(dist_hist[12][2][2], np.rad2deg(dist_hist[12][1]))\n",
    "# plt.stairs(dist_hist[12][2][4], np.rad2deg(dist_hist[12][1]))\n",
    "\n",
    "# plt.stairs(dist_hist[14][2][0], np.rad2deg(dist_hist[14][1]))\n",
    "# plt.stairs(dist_hist[14][2][2], np.rad2deg(dist_hist[14][1]))\n",
    "# plt.stairs(dist_hist[14][2][4], np.rad2deg(dist_hist[14][1]))\n",
    "# plt.stairs(hist_sol[14], np.rad2deg(ang_bins))\n",
    "# plt.stairs(hist_sol[17], np.rad2deg(ang_bins))\n",
    "\n",
    "\n",
    "plt.xlim(0, 30)\n",
    "# plt.yticks(np.linspace(0, 1.5e-2, 4))\n",
    "# plt.ylim(0.99, 1.008)\n",
    "plt.grid()"
   ]
  },
  {
   "cell_type": "code",
   "execution_count": 1,
   "metadata": {},
   "outputs": [
    {
     "ename": "NameError",
     "evalue": "name 'MCEQDist2D' is not defined",
     "output_type": "error",
     "traceback": [
      "\u001b[0;31m---------------------------------------------------------------------------\u001b[0m",
      "\u001b[0;31mNameError\u001b[0m                                 Traceback (most recent call last)",
      "Cell \u001b[0;32mIn[1], line 1\u001b[0m\n\u001b[0;32m----> 1\u001b[0m mceq_sol \u001b[39m=\u001b[39m MCEQDist2D(\n\u001b[1;32m      2\u001b[0m                  energy \u001b[39m=\u001b[39m \u001b[39m100\u001b[39m,\n\u001b[1;32m      3\u001b[0m                  pdg_id \u001b[39m=\u001b[39m \u001b[39m2212\u001b[39m,\n\u001b[1;32m      4\u001b[0m                  theta_deg \u001b[39m=\u001b[39m \u001b[39m30\u001b[39m,\n\u001b[1;32m      5\u001b[0m                  slant_depth \u001b[39m=\u001b[39m [\u001b[39m143\u001b[39m, \u001b[39m647\u001b[39m, \u001b[39m1033\u001b[39m],\n\u001b[1;32m      6\u001b[0m                  energy_range \u001b[39m=\u001b[39m [\u001b[39m1e-1\u001b[39m, \u001b[39m1e4\u001b[39m],\n\u001b[1;32m      7\u001b[0m                  interaction_model \u001b[39m=\u001b[39m \u001b[39m\"\u001b[39m\u001b[39mEPOS-LHC\u001b[39m\u001b[39m\"\u001b[39m, \n\u001b[1;32m      8\u001b[0m                  hybrid_crossover \u001b[39m=\u001b[39m \u001b[39m0.1\u001b[39m,\n\u001b[1;32m      9\u001b[0m                  density_model \u001b[39m=\u001b[39m (\u001b[39m\"\u001b[39m\u001b[39mCORSIKA\u001b[39m\u001b[39m\"\u001b[39m, (\u001b[39m\"\u001b[39m\u001b[39mUSStd\u001b[39m\u001b[39m\"\u001b[39m, \u001b[39mNone\u001b[39;00m)))\n",
      "\u001b[0;31mNameError\u001b[0m: name 'MCEQDist2D' is not defined"
     ]
    }
   ],
   "source": [
    "mceq_sol = MCEQDist2D(\n",
    "                 energy = 100,\n",
    "                 pdg_id = 2212,\n",
    "                 theta_deg = 30,\n",
    "                 slant_depth = [143, 647, 1033],\n",
    "                 energy_range = [1e-1, 1e4],\n",
    "                 interaction_model = \"EPOS-LHC\", \n",
    "                 hybrid_crossover = 0.1,\n",
    "                 density_model = (\"CORSIKA\", (\"USStd\", None)))"
   ]
  }
 ],
 "metadata": {
  "kernelspec": {
   "display_name": "env_impy",
   "language": "python",
   "name": "python3"
  },
  "language_info": {
   "codemirror_mode": {
    "name": "ipython",
    "version": 3
   },
   "file_extension": ".py",
   "mimetype": "text/x-python",
   "name": "python",
   "nbconvert_exporter": "python",
   "pygments_lexer": "ipython3",
   "version": "3.9.13"
  },
  "orig_nbformat": 4
 },
 "nbformat": 4,
 "nbformat_minor": 2
}
