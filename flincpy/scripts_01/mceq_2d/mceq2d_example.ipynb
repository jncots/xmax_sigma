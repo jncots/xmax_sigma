{
 "cells": [
  {
   "cell_type": "code",
   "execution_count": 25,
   "metadata": {},
   "outputs": [
    {
     "name": "stdout",
     "output_type": "stream",
     "text": [
      "The autoreload extension is already loaded. To reload it, use:\n",
      "  %reload_ext autoreload\n"
     ]
    }
   ],
   "source": [
    "%load_ext autoreload\n",
    "%autoreload 2\n",
    "from mceq2d_dists import MCEQDist2D, CalcMCEqHists\n",
    "import matplotlib.pylab as plt\n",
    "import numpy as np"
   ]
  },
  {
   "cell_type": "code",
   "execution_count": 2,
   "metadata": {},
   "outputs": [
    {
     "name": "stdout",
     "output_type": "stream",
     "text": [
      "MCEqRun::set_interaction_model(): EPOSLHC\n",
      "MCEqRun::set_density_model(): Setting density profile to CORSIKA ('USStd', None)\n",
      "MCEqRun::set_primary_model(): Primary model set to Hillas-Gaisser (H3a)\n"
     ]
    },
    {
     "name": "stderr",
     "output_type": "stream",
     "text": [
      "100%|██████████| 2559/2559 [00:18<00:00, 136.04it/s]\n"
     ]
    }
   ],
   "source": [
    "mceq_sol = MCEQDist2D(\n",
    "                 energy = 100,\n",
    "                 pdg_id = 2212,\n",
    "                 theta_deg = 30,\n",
    "                 slant_depth = 148,\n",
    "                 energy_range = [1e-1, 1e4],\n",
    "                 interaction_model = \"EPOS-LHC\", \n",
    "                 hybrid_crossover = 0.1,\n",
    "                 density_model = (\"CORSIKA\", (\"USStd\", None)))"
   ]
  },
  {
   "cell_type": "code",
   "execution_count": 26,
   "metadata": {},
   "outputs": [
    {
     "name": "stderr",
     "output_type": "stream",
     "text": [
      "100%|██████████| 3/3 [01:00<00:00, 20.24s/it]\n"
     ]
    }
   ],
   "source": [
    "mceq_dists = CalcMCEqHists(mceq_sol, particles = [12, 13, 14])"
   ]
  },
  {
   "cell_type": "code",
   "execution_count": 27,
   "metadata": {},
   "outputs": [
    {
     "name": "stderr",
     "output_type": "stream",
     "text": [
      "100%|██████████| 3/3 [00:30<00:00, 10.13s/it]\n"
     ]
    }
   ],
   "source": [
    "angle_bins = mceq_dists.default_angbins\n",
    "energy_bins = mceq_dists.default_ebins #[1, 1.3, 2, 2.5, 4, 5]\n",
    "mceq_hists = mceq_dists.histograms(energy_bins, angle_bins)"
   ]
  },
  {
   "cell_type": "code",
   "execution_count": 29,
   "metadata": {},
   "outputs": [
    {
     "data": {
      "image/png": "[encoded data removed]",
      "text/plain": [
       "<Figure size 640x480 with 1 Axes>"
      ]
     },
     "metadata": {},
     "output_type": "display_data"
    }
   ],
   "source": [
    "\n",
    "plt.stairs(mceq_hists[13][\"hist_en_ang\"][11], np.rad2deg(mceq_hists[13][\"ang_bins\"]))\n",
    "plt.stairs(mceq_hists[13][\"hist_en_ang\"][14], np.rad2deg(mceq_hists[13][\"ang_bins\"]))\n",
    "plt.stairs(mceq_hists[13][\"hist_en_ang\"][17], np.rad2deg(mceq_hists[13][\"ang_bins\"]))\n",
    "\n",
    "\n",
    "# plt.stairs(dist_hist[12][2][0], np.rad2deg(dist_hist[12][1]))\n",
    "# plt.stairs(dist_hist[12][2][2], np.rad2deg(dist_hist[12][1]))\n",
    "# plt.stairs(dist_hist[12][2][4], np.rad2deg(dist_hist[12][1]))\n",
    "\n",
    "# plt.stairs(dist_hist[14][2][0], np.rad2deg(dist_hist[14][1]))\n",
    "# plt.stairs(dist_hist[14][2][2], np.rad2deg(dist_hist[14][1]))\n",
    "# plt.stairs(dist_hist[14][2][4], np.rad2deg(dist_hist[14][1]))\n",
    "# plt.stairs(hist_sol[14], np.rad2deg(ang_bins))\n",
    "# plt.stairs(hist_sol[17], np.rad2deg(ang_bins))\n",
    "\n",
    "\n",
    "plt.xlim(0, 30)\n",
    "# plt.yticks(np.linspace(0, 1.5e-2, 4))\n",
    "# plt.ylim(0.99, 1.008)\n",
    "plt.grid()"
   ]
  },
  {
   "cell_type": "code",
   "execution_count": null,
   "metadata": {},
   "outputs": [],
   "source": [
    "mceq_sol = MCEQDist2D(\n",
    "                 energy = 100,\n",
    "                 pdg_id = 2212,\n",
    "                 theta_deg = 30,\n",
    "                 slant_depth = [143, 647, 1033]\n",
    "                 energy_range = [1e-1, 1e4],\n",
    "                 interaction_model = \"EPOS-LHC\", \n",
    "                 hybrid_crossover = 0.1,\n",
    "                 density_model = (\"CORSIKA\", (\"USStd\", None)))"
   ]
  }
 ],
 "metadata": {
  "kernelspec": {
   "display_name": "env_impy",
   "language": "python",
   "name": "python3"
  },
  "language_info": {
   "codemirror_mode": {
    "name": "ipython",
    "version": 3
   },
   "file_extension": ".py",
   "mimetype": "text/x-python",
   "name": "python",
   "nbconvert_exporter": "python",
   "pygments_lexer": "ipython3",
   "version": "3.9.13"
  },
  "orig_nbformat": 4
 },
 "nbformat": 4,
 "nbformat_minor": 2
}
