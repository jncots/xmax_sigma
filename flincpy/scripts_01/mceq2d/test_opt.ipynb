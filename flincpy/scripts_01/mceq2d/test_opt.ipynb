{
 "cells": [
  {
   "cell_type": "code",
   "execution_count": 1,
   "metadata": {},
   "outputs": [],
   "source": [
    "%load_ext autoreload\n",
    "%autoreload 2\n",
    "import numpy as np\n",
    "import matplotlib.pylab as plt\n",
    "from mceq2d_dists import MCEQDist2D, CalcMCEqHists"
   ]
  },
  {
   "cell_type": "code",
   "execution_count": 2,
   "metadata": {},
   "outputs": [
    {
     "name": "stdout",
     "output_type": "stream",
     "text": [
      "MCEqRun::set_interaction_model(): EPOSLHC\n",
      "MCEqRun::set_density_model(): Setting density profile to CORSIKA ('USStd', None)\n",
      "MCEqRun::set_primary_model(): Primary model set to Hillas-Gaisser (H3a)\n"
     ]
    },
    {
     "name": "stderr",
     "output_type": "stream",
     "text": [
      "100%|██████████| 2559/2559 [00:20<00:00, 127.80it/s]\n"
     ]
    }
   ],
   "source": [
    "mceq_sol = MCEQDist2D(\n",
    "                 energy = 100,\n",
    "                 pdg_id = 2212,\n",
    "                 theta_deg = 30,\n",
    "                 slant_depths = [143, 647, 1033],\n",
    "                 energy_range = [1e-1, 1e4],\n",
    "                 interaction_model = \"EPOS-LHC\", \n",
    "                 hybrid_crossover = 0.1,\n",
    "                 density_model = (\"CORSIKA\", (\"USStd\", None)))"
   ]
  },
  {
   "cell_type": "code",
   "execution_count": 13,
   "metadata": {},
   "outputs": [],
   "source": [
    "mceq_dists = CalcMCEqHists(mceq_sol, particles = [12, 13, 14])"
   ]
  }
 ],
 "metadata": {
  "kernelspec": {
   "display_name": "env_impy",
   "language": "python",
   "name": "python3"
  },
  "language_info": {
   "codemirror_mode": {
    "name": "ipython",
    "version": 3
   },
   "file_extension": ".py",
   "mimetype": "text/x-python",
   "name": "python",
   "nbconvert_exporter": "python",
   "pygments_lexer": "ipython3",
   "version": "3.9.16"
  },
  "orig_nbformat": 4
 },
 "nbformat": 4,
 "nbformat_minor": 2
}
