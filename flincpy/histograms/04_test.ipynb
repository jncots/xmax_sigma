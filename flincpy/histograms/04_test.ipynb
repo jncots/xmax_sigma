{
 "cells": [
  {
   "cell_type": "code",
   "execution_count": 22,
   "metadata": {},
   "outputs": [
    {
     "name": "stdout",
     "output_type": "stream",
     "text": [
      "The autoreload extension is already loaded. To reload it, use:\n",
      "  %reload_ext autoreload\n"
     ]
    }
   ],
   "source": [
    "%load_ext autoreload\n",
    "%autoreload 2\n",
    "from particle import Particle\n",
    "import numpy as np\n",
    "import sys\n",
    "sys.path.append(\"/hetghome/antonpr/xmax_sigma/flincpy\")"
   ]
  },
  {
   "cell_type": "code",
   "execution_count": 23,
   "metadata": {},
   "outputs": [],
   "source": [
    "from data_structs.pdg_pid_map import PdgPidMap, PdgLists"
   ]
  },
  {
   "cell_type": "code",
   "execution_count": 24,
   "metadata": {},
   "outputs": [],
   "source": [
    "pdg_list = PdgLists()"
   ]
  },
  {
   "cell_type": "code",
   "execution_count": 29,
   "metadata": {},
   "outputs": [
    {
     "data": {
      "text/plain": [
       "array([1.12201845e+09, 2.23872114e+01, 0.00000000e+00, 1.12201845e-01])"
      ]
     },
     "execution_count": 29,
     "metadata": {},
     "output_type": "execute_result"
    }
   ],
   "source": [
    "pdg_list.hadron_emix[[111, 130, 2212, 2112]]"
   ]
  },
  {
   "cell_type": "code",
   "execution_count": 8,
   "metadata": {},
   "outputs": [],
   "source": [
    "hmix_map = PdgPidMap({pdg : pid for pid, pdg in enumerate(pdg_list.hadrons_mix_mceq)})"
   ]
  },
  {
   "cell_type": "code",
   "execution_count": 12,
   "metadata": {},
   "outputs": [
    {
     "data": {
      "text/plain": [
       "{111: 1122018454.3019652,\n",
       " 130: 22.38721138568341,\n",
       " -211: 7.079457843841384,\n",
       " 211: 8.91250938133746,\n",
       " 310: 8912.509381337459,\n",
       " -321: 70.79457843841384,\n",
       " 321: 89.12509381337459,\n",
       " -411: 2238721.138568342,\n",
       " 411: 2238721.138568342,\n",
       " -421: 4466835.921509635,\n",
       " 421: 4466835.921509635,\n",
       " -431: 4466835.921509635,\n",
       " 431: 4466835.921509635,\n",
       " -2112: 0.11220184543019636,\n",
       " 2112: 0.11220184543019636,\n",
       " -3122: 5623.4132519034965,\n",
       " 3122: 5623.4132519034965}"
      ]
     },
     "execution_count": 12,
     "metadata": {},
     "output_type": "execute_result"
    }
   ],
   "source": [
    "pdg_list.hadron_emix_map"
   ]
  },
  {
   "cell_type": "code",
   "execution_count": 11,
   "metadata": {},
   "outputs": [
    {
     "data": {
      "text/plain": [
       "array([  111,   130,  -211,   211,   310,  -321,   321,  -411,   411,\n",
       "        -421,   421,  -431,   431, -2112,  2112, -3122,  3122],\n",
       "      dtype=int32)"
      ]
     },
     "execution_count": 11,
     "metadata": {},
     "output_type": "execute_result"
    }
   ],
   "source": [
    "hmix_map.pdg_pid"
   ]
  },
  {
   "cell_type": "code",
   "execution_count": 20,
   "metadata": {},
   "outputs": [],
   "source": [
    "mix_en_table = np.zeros_like(hmix_map.pid_pdg, dtype=np.float64)\n",
    "\n",
    "for pdg, emix in pdg_list.hadron_emix_map.items():\n",
    "    mix_en_table[pdg] = emix\n",
    "    "
   ]
  },
  {
   "cell_type": "code",
   "execution_count": 21,
   "metadata": {},
   "outputs": [
    {
     "data": {
      "text/plain": [
       "array([1.12201845e+09, 2.23872114e+01, 0.00000000e+00])"
      ]
     },
     "execution_count": 21,
     "metadata": {},
     "output_type": "execute_result"
    }
   ],
   "source": [
    "mix_en_table[[111, 130, 11]]"
   ]
  },
  {
   "cell_type": "code",
   "execution_count": 6,
   "metadata": {},
   "outputs": [
    {
     "name": "stdout",
     "output_type": "stream",
     "text": [
      "MCEqRun::set_interaction_model(): DPMJETIII191\n",
      "ParticleManager::_init_default_tracking(): Initializing default tracking categories (pi, K, mu)\n",
      "MCEqRun::set_density_model(): Setting density profile to CORSIKA ('BK_USStd', None)\n",
      "MCEqRun::set_primary_model(): Primary model set to Hillas-Gaisser (H3a)\n",
      "Tabulate cross-section for pi0(111)\n",
      "Tabulate cross-section for K_L0(130)\n",
      "Tabulate cross-section for pi-(-211)\n",
      "Tabulate cross-section for pi+(211)\n",
      "Tabulate cross-section for K_S0(310)\n",
      "Tabulate cross-section for K-(-321)\n",
      "Tabulate cross-section for K+(321)\n",
      "Tabulate cross-section for D-(-411)\n",
      "Tabulate cross-section for D+(411)\n",
      "Tabulate cross-section for Dbar0(-421)\n",
      "Tabulate cross-section for D0(421)\n",
      "Tabulate cross-section for D_s-(-431)\n",
      "Tabulate cross-section for D_s+(431)\n",
      "Tabulate cross-section for nbar0(-2112)\n",
      "Tabulate cross-section for n0(2112)\n",
      "Tabulate cross-section for pbar-(-2212)\n",
      "Tabulate cross-section for p+(2212)\n",
      "Tabulate cross-section for Lambdabar0(-3122)\n",
      "Tabulate cross-section for Lambda0(3122)\n",
      "[        inf         inf         inf         inf         inf 73.34298233\n",
      " 95.86752064]\n",
      "[        inf         inf         inf         inf         inf 99.33592825\n",
      " 19.63222992]\n"
     ]
    }
   ],
   "source": [
    "from propagation.interaction.csec_tables import CrossSectionTableMCEq\n",
    "from propagation.interaction.csec_on_table import CrossSectionOnTable\n",
    "from data_structs.pdg_pid_map import PdgPidMap, PdgLists\n",
    "\n",
    "cs_table = CrossSectionTableMCEq()\n",
    "# cs_table.add_pdgs(PdgLists().longer_pi0_to_mceq)\n",
    "\n",
    "csec = CrossSectionOnTable(cs_table)\n",
    "\n",
    "\n",
    "\n",
    "# pdg_list = np.array([111, 111, 111, \n",
    "#                     111, -211, \n",
    "#                     111, 111, 2212, 111], dtype=np.int32)\n",
    "pdg_list = np.array([13, -13, 11, -11, 22, 111, -211], dtype=np.int32)\n",
    "energy_list = np.array([5e3, 5e2, 4e6, 4e3, 2e5, 2e5, 4e3, 5e2, 2e5], dtype=np.float64)    \n",
    "\n",
    "print(csec.get_mean_xdepth(pdg_list, energy_list))\n",
    "print(csec.get_xdepth(pdg_list, energy_list))"
   ]
  },
  {
   "cell_type": "code",
   "execution_count": 10,
   "metadata": {},
   "outputs": [
    {
     "ename": "IndexError",
     "evalue": "index 20313 is out of bounds for axis 0 with size 6245",
     "output_type": "error",
     "traceback": [
      "\u001b[0;31m---------------------------------------------------------------------------\u001b[0m",
      "\u001b[0;31mIndexError\u001b[0m                                Traceback (most recent call last)",
      "Cell \u001b[0;32mIn[10], line 1\u001b[0m\n\u001b[0;32m----> 1\u001b[0m csec\u001b[39m.\u001b[39;49mpmap\u001b[39m.\u001b[39;49mpid_pdg[\u001b[39m20313\u001b[39;49m]\n",
      "\u001b[0;31mIndexError\u001b[0m: index 20313 is out of bounds for axis 0 with size 6245"
     ]
    }
   ],
   "source": [
    "csec.pmap.pid_pdg[20313]"
   ]
  },
  {
   "cell_type": "code",
   "execution_count": 20,
   "metadata": {},
   "outputs": [
    {
     "data": {
      "text/plain": [
       "array([-2147483640, -2147483640,           0,          16,          11,\n",
       "                12], dtype=int32)"
      ]
     },
     "execution_count": 20,
     "metadata": {},
     "output_type": "execute_result"
    }
   ],
   "source": [
    "csec.pmap.get_pids([22, 20313, 111, 2212, -431,   431])"
   ]
  },
  {
   "cell_type": "code",
   "execution_count": 17,
   "metadata": {},
   "outputs": [
    {
     "data": {
      "text/plain": [
       "array([  111,   130,  -211,   211,   310,  -321,   321,  -411,   411,\n",
       "        -421,   421,  -431,   431, -2112,  2112, -2212,  2212, -3122,\n",
       "        3122])"
      ]
     },
     "execution_count": 17,
     "metadata": {},
     "output_type": "execute_result"
    }
   ],
   "source": [
    "csec.pmap.known_pdg_ids"
   ]
  },
  {
   "cell_type": "code",
   "execution_count": 5,
   "metadata": {},
   "outputs": [],
   "source": [
    "all_particles_dict = {p.pdgid: p for p in Particle.findall()}\n",
    "pmap = PdgPidMap({int(pdgid) : pid for pid, \n",
    "                               pdgid in enumerate(all_particles_dict)}\n",
    "                             )"
   ]
  },
  {
   "cell_type": "code",
   "execution_count": 8,
   "metadata": {},
   "outputs": [
    {
     "data": {
      "text/plain": [
       "array([         -6,          11,  1001132860, -1000671700,         310],\n",
       "      dtype=int32)"
      ]
     },
     "execution_count": 8,
     "metadata": {},
     "output_type": "execute_result"
    }
   ],
   "source": [
    "pmap.get_pdgs([11, 12, -12, 4321, 55])"
   ]
  },
  {
   "cell_type": "code",
   "execution_count": 12,
   "metadata": {},
   "outputs": [
    {
     "data": {
      "text/plain": [
       "array([         12,          14,          15, -2147483640, -2147483640,\n",
       "              6484,          13], dtype=int32)"
      ]
     },
     "execution_count": 12,
     "metadata": {},
     "output_type": "execute_result"
    }
   ],
   "source": [
    "pmap.get_pids([11, 12, -12, 4321, 55, 1001132860, -11])"
   ]
  },
  {
   "cell_type": "code",
   "execution_count": 1,
   "metadata": {},
   "outputs": [
    {
     "name": "stdout",
     "output_type": "stream",
     "text": [
      "MCEqRun::set_interaction_model(): DPMJETIII191\n",
      "ParticleManager::_init_default_tracking(): Initializing default tracking categories (pi, K, mu)\n",
      "MCEqRun::set_density_model(): Setting density profile to CORSIKA ('USStd', None)\n",
      "MCEqRun::set_primary_model(): Primary model set to Hillas-Gaisser (H3a)\n"
     ]
    }
   ],
   "source": [
    "from MCEq.core import MCEqRun\n",
    "import mceq_config as config\n",
    "import crflux.models as pm\n",
    "config.mceq_db_fname = \"/hetghome/antonpr/MCEq/MCEq/data/mceq_db_lext_dpm191_v150.h5\"\n",
    "\n",
    "mceq_run = MCEqRun(\n",
    "            #provide the string of the interaction model\n",
    "            interaction_model=\"DPMJET-III-19.1\",\n",
    "            #primary cosmic ray flux model\n",
    "            primary_model = (pm.HillasGaisser2012, \"H3a\"),\n",
    "            # Zenith angle in degrees. 0=vertical, 90=horizontal\n",
    "            theta_deg=0,\n",
    "            density_model = (\"CORSIKA\", (\"USStd\", None))\n",
    "        )"
   ]
  },
  {
   "cell_type": "code",
   "execution_count": 3,
   "metadata": {},
   "outputs": [],
   "source": [
    "%load_ext autoreload\n",
    "%autoreload 2\n",
    "from particle import Particle\n",
    "import numpy as np\n",
    "import sys\n",
    "sys.path.append(\"/hetghome/antonpr/xmax_sigma/flincpy\")"
   ]
  },
  {
   "cell_type": "code",
   "execution_count": 14,
   "metadata": {},
   "outputs": [],
   "source": [
    "from data_structs.pdg_pid_map import PdgPidMap2, pdg2mceq_idx_map\n",
    "import numpy as np\n",
    "\n",
    "pdg2idx_mapper = PdgPidMap2(pdg2mceq_idx_map(mceq_run))"
   ]
  },
  {
   "cell_type": "code",
   "execution_count": 15,
   "metadata": {},
   "outputs": [
    {
     "data": {
      "text/plain": [
       "array([  -11,    11,   -12,    12,   -13,    13,   -14,    14,   -16,\n",
       "          16,    22,   111,   130,  -211,   211,   310,  -321,   321,\n",
       "        -411,   411,  -421,   421,  -431,   431, -2112,  2112, -2212,\n",
       "        2212, -3122,  3122])"
      ]
     },
     "execution_count": 15,
     "metadata": {},
     "output_type": "execute_result"
    }
   ],
   "source": [
    "pdg2idx_mapper.known_pdg_ids"
   ]
  },
  {
   "cell_type": "code",
   "execution_count": 16,
   "metadata": {},
   "outputs": [
    {
     "data": {
      "text/plain": [
       "array([ 1,  4,  6,  7,  9, 12, 14, 15, 16, 17, 18, 19, 20, 21, 22, 23, 24,\n",
       "       25, 26, 27, 28, 29, 30, 31, 32, 33, 34, 35, 36, 37])"
      ]
     },
     "execution_count": 16,
     "metadata": {},
     "output_type": "execute_result"
    }
   ],
   "source": [
    "pdg2idx_mapper.known_pid_ids"
   ]
  },
  {
   "cell_type": "code",
   "execution_count": 13,
   "metadata": {},
   "outputs": [
    {
     "data": {
      "text/plain": [
       "array([          1, -2147483640, -2147483640,           4, -2147483640,\n",
       "                 6], dtype=int32)"
      ]
     },
     "execution_count": 13,
     "metadata": {},
     "output_type": "execute_result"
    }
   ],
   "source": [
    "pdg2idx_mapper.get_pids([-11, -2147483640, -2147483640,          11, -2147483640,\n",
    "               -12])"
   ]
  },
  {
   "cell_type": "code",
   "execution_count": null,
   "metadata": {},
   "outputs": [],
   "source": [
    "def tabulate_ctau(self):\n",
    "    self._ctau_tab = np.zeros(len(self.pmap.pdg_pid), dtype=np.float64)\n",
    "    for pid, pdg in enumerate(self.pmap.pdg_pid):\n",
    "        self._ctau_tab[pid] = self.get_ctau(pdg)\n",
    "        \n",
    "def tabulate_mass(self):\n",
    "    self._mass_tab = np.zeros(len(self.pmap.pdg_pid), dtype=np.float64)\n",
    "    for pid, pdg in enumerate(self.pmap.pdg_pid):\n",
    "        self._mass_tab[pid] = self.get_mass(pdg) "
   ]
  },
  {
   "cell_type": "code",
   "execution_count": 31,
   "metadata": {},
   "outputs": [],
   "source": [
    "pdg_list = PdgLists()"
   ]
  },
  {
   "cell_type": "code",
   "execution_count": 32,
   "metadata": {},
   "outputs": [
    {
     "data": {
      "text/plain": [
       "30"
      ]
     },
     "execution_count": 32,
     "metadata": {},
     "output_type": "execute_result"
    }
   ],
   "source": [
    "(len(pdg_list.hadrons_mix_mceq) + len(pdg_list.hadrons_stable_mceq) +\n",
    " len(pdg_list.leptons_decay_mceq) + len(pdg_list.leptons_stable_mceq)) "
   ]
  },
  {
   "cell_type": "code",
   "execution_count": 30,
   "metadata": {},
   "outputs": [
    {
     "data": {
      "text/plain": [
       "array([5])"
      ]
     },
     "execution_count": 30,
     "metadata": {},
     "output_type": "execute_result"
    }
   ],
   "source": [
    "a = np.array([1, 2, 3, 4, 5])\n",
    "\n",
    "a[a == 5]"
   ]
  },
  {
   "cell_type": "code",
   "execution_count": 1,
   "metadata": {},
   "outputs": [
    {
     "data": {
      "text/plain": [
       "array([-5, -3, -2, -1,  2,  3,  5])"
      ]
     },
     "execution_count": 1,
     "metadata": {},
     "output_type": "execute_result"
    }
   ],
   "source": [
    "import numpy as np\n",
    "\n",
    "a = np.array([-1, 2, -1, -5, 3, -3, 5, -2])\n",
    "np.unique(a)"
   ]
  },
  {
   "cell_type": "code",
   "execution_count": null,
   "metadata": {},
   "outputs": [],
   "source": []
  },
  {
   "cell_type": "code",
   "execution_count": 4,
   "metadata": {},
   "outputs": [
    {
     "data": {
      "text/plain": [
       "array([2, 4, 5, 8, 9])"
      ]
     },
     "execution_count": 4,
     "metadata": {},
     "output_type": "execute_result"
    }
   ],
   "source": [
    "aa = []\n",
    "aa += [9, 8]\n",
    "aa += [4, 5]\n",
    "aa += [5, 2]\n",
    "\n",
    "np.unique(aa)"
   ]
  }
 ],
 "metadata": {
  "kernelspec": {
   "display_name": "base",
   "language": "python",
   "name": "python3"
  },
  "language_info": {
   "codemirror_mode": {
    "name": "ipython",
    "version": 3
   },
   "file_extension": ".py",
   "mimetype": "text/x-python",
   "name": "python",
   "nbconvert_exporter": "python",
   "pygments_lexer": "ipython3",
   "version": "3.9.16"
  },
  "orig_nbformat": 4
 },
 "nbformat": 4,
 "nbformat_minor": 2
}
