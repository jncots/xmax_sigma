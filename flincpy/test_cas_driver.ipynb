{
 "cells": [
  {
   "cell_type": "code",
   "execution_count": 1,
   "metadata": {},
   "outputs": [
    {
     "name": "stdout",
     "output_type": "stream",
     "text": [
      " +-----------------------------------------------------------------------+\n",
      " |                                                                       |\n",
      " |                       DPMJET-III version 19.1.5                       |\n",
      " |                                                                       |\n",
      " |                      (Last change:  16 Jan 2023)                      |\n",
      " |                                                                       |\n",
      " |            Authors:                                                   |\n",
      " |                     Stefan Roesler     (CERN)                         |\n",
      " |                     Anatoli Fedynitch (ASIoP)                         |\n",
      " |                     Ralph Engel        (KIT)                          |\n",
      " |                     Johannes Ranft     (Siegen Univ.)                 |\n",
      " |                                                                       |\n",
      " |        https://github.com/afedynitch/dpmjet                           |\n",
      " |                                                                       |\n",
      " +-----------------------------------------------------------------------+\n",
      " | Contact: @github \n",
      " +-----------------------------------------------------------------------+\n",
      "\n",
      "\n",
      "  ===================================================\n",
      "                                                     \n",
      "    ----        PHOJET  19.1.5       ----   \n",
      "                                                     \n",
      "  ===================================================\n",
      "      Authors: Ralph Engel         (KIT)\n",
      "               Anatoli Fedynitch  (ASIoP)\n",
      "               Johannes Ranft      (Siegen Univ.)\n",
      "               Stefan Roesler      (CERN)\n",
      "  ---------------------------------------------------\n",
      "    bug reports, support and updates on:\n",
      "      https://github.com/afedynitch/dpmjet\n",
      "  ===================================================\n",
      "    Date: 2023/01/16\n",
      "    Revision: 19.1.5\n",
      "    Code with interface to PYTHIA 6.4.27\n",
      "  ===================================================\n",
      "\n"
     ]
    }
   ],
   "source": [
    "%load_ext autoreload\n",
    "%autoreload 2\n",
    "import numpy as np\n",
    "from cascade.cascade_driver import CascadeDriver\n",
    "cas_driver = CascadeDriver()"
   ]
  },
  {
   "cell_type": "code",
   "execution_count": 2,
   "metadata": {},
   "outputs": [
    {
     "name": "stdout",
     "output_type": "stream",
     "text": [
      "MCEqRun::set_interaction_model(): DPMJETIII191\n",
      "ParticleManager::_init_default_tracking(): Initializing default tracking categories (pi, K, mu)\n",
      "MCEqRun::set_density_model(): Setting density profile to CORSIKA ('BK_USStd', None)\n",
      "MCEqRun::set_primary_model(): Primary model set to Hillas-Gaisser (H3a)\n",
      "Tabulate cross-section for pi0(111)\n",
      "Tabulate cross-section for K_L0(130)\n",
      "Tabulate cross-section for pi-(-211)\n",
      "Tabulate cross-section for pi+(211)\n",
      "Tabulate cross-section for K_S0(310)\n",
      "Tabulate cross-section for K-(-321)\n",
      "Tabulate cross-section for K+(321)\n",
      "Tabulate cross-section for D-(-411)\n",
      "Tabulate cross-section for D+(411)\n",
      "Tabulate cross-section for Dbar0(-421)\n",
      "Tabulate cross-section for D0(421)\n",
      "Tabulate cross-section for D_s-(-431)\n",
      "Tabulate cross-section for D_s+(431)\n",
      "Tabulate cross-section for nbar0(-2112)\n",
      "Tabulate cross-section for n0(2112)\n",
      "Tabulate cross-section for pbar-(-2212)\n",
      "Tabulate cross-section for p+(2212)\n",
      "Tabulate cross-section for Lambdabar0(-3122)\n",
      "Tabulate cross-section for Lambda0(3122)\n",
      "stop depth = 1195.9290875457918\n"
     ]
    },
    {
     "name": "stderr",
     "output_type": "stream",
     "text": [
      "  0%|          | 0/30000 [00:00<?, ?it/s]"
     ]
    },
    {
     "name": "stdout",
     "output_type": "stream",
     "text": [
      "1                                                                              \n",
      " ******************************************************************************\n",
      " ******************************************************************************\n",
      " **                                                                          **\n",
      " **                                                                          **\n",
      " **              *......*                  Welcome to the Lund Monte Carlo!  **\n",
      " **         *:::!!:::::::::::*                                               **\n",
      " **      *::::::!!::::::::::::::*          PPP  Y   Y TTTTT H   H III   A    **\n",
      " **    *::::::::!!::::::::::::::::*        P  P  Y Y    T   H   H  I   A A   **\n",
      " **   *:::::::::!!:::::::::::::::::*       PPP    Y     T   HHHHH  I  AAAAA  **\n",
      " **   *:::::::::!!:::::::::::::::::*       P      Y     T   H   H  I  A   A  **\n",
      " **    *::::::::!!::::::::::::::::*!       P      Y     T   H   H III A   A  **\n",
      " **      *::::::!!::::::::::::::* !!                                         **\n",
      " **      !! *:::!!:::::::::::*    !!       This is PYTHIA version 6.427      **\n",
      " **      !!     !* -><- *         !!       Last date of change: 12 Dec 2012  **\n",
      " **      !!     !!                !!                                         **\n",
      " **      !!     !!                !!       Now is  0 Jan 2000 at  0:00:00    **\n",
      " **      !!                       !!                                         **\n",
      " **      !!        lh             !!       Disclaimer: this program comes    **\n",
      " **      !!                       !!       without any guarantees. Beware    **\n",
      " **      !!                 hh    !!       of errors and use common sense    **\n",
      " **      !!    ll                 !!       when interpreting results.        **\n",
      " **      !!                       !!                                         **\n",
      " **      !!                                Copyright T. Sjostrand (2011)     **\n",
      " **                                                                          **\n",
      " ** An archive of program versions and documentation is found on the web:    **\n",
      " ** http://www.thep.lu.se/~torbjorn/Pythia.html                              **\n",
      " **                                                                          **\n",
      " ** When you cite this program, the official reference is to the 6.4 manual: **\n",
      " ** T. Sjostrand, S. Mrenna and P. Skands, JHEP05 (2006) 026                 **\n",
      " ** (LU TP 06-13, FERMILAB-PUB-06-052-CD-T) [hep-ph/0603175].                **\n",
      " **                                                                          **\n",
      " ** Also remember that the program, to a large extent, represents original   **\n",
      " ** physics research. Other publications of special relevance to your        **\n",
      " ** studies may therefore deserve separate mention.                          **\n",
      " **                                                                          **\n",
      " ** Main author: Torbjorn Sjostrand; Department of Theoretical Physics,      **\n",
      " **   Lund University, Solvegatan 14A, S-223 62 Lund, Sweden;                **\n",
      " **   phone: + 46 - 46 - 222 48 16; e-mail: torbjorn@thep.lu.se              **\n",
      " ** Author: Stephen Mrenna; Computing Division, GDS Group,                   **\n",
      " **   Fermi National Accelerator Laboratory, MS 234, Batavia, IL 60510, USA; **\n",
      " **   phone: + 1 - 630 - 840 - 2556; e-mail: mrenna@fnal.gov                 **\n",
      " ** Author: Peter Skands; CERN/PH-TH, CH-1211 Geneva, Switzerland            **\n",
      " **   phone: + 41 - 22 - 767 24 47; e-mail: peter.skands@cern.ch             **\n",
      " **                                                                          **\n",
      " **                                                                          **\n",
      " ******************************************************************************\n",
      " ******************************************************************************\n",
      "\n",
      "     Advisory warning type 9 given after        1 PYEXEC calls:\n",
      "     (PYKFIN:) PARJ(18)<1 combined with 0<MSTJ(12)<5 option\n",
      "\n",
      "     Advisory warning type 9 given after        3 PYEXEC calls:\n",
      "     (PYKFIN:) PARJ(18)<1 combined with 0<MSTJ(12)<5 option\n",
      "\n",
      "     Advisory warning type 9 given after        5 PYEXEC calls:\n",
      "     (PYKFIN:) PARJ(18)<1 combined with 0<MSTJ(12)<5 option\n"
     ]
    },
    {
     "name": "stderr",
     "output_type": "stream",
     "text": [
      "  0%|          | 1/30000 [00:10<83:59:01, 10.08s/it]"
     ]
    },
    {
     "name": "stdout",
     "output_type": "stream",
     "text": [
      "\n",
      "     Advisory warning type 9 given after        7 PYEXEC calls:\n",
      "     (PYKFIN:) PARJ(18)<1 combined with 0<MSTJ(12)<5 option\n",
      "\n",
      "     Advisory warning type 9 given after        9 PYEXEC calls:\n",
      "     (PYKFIN:) PARJ(18)<1 combined with 0<MSTJ(12)<5 option\n",
      "\n",
      "     Advisory warning type 9 given after       11 PYEXEC calls:\n",
      "     (PYKFIN:) PARJ(18)<1 combined with 0<MSTJ(12)<5 option\n",
      "\n",
      "     Advisory warning type 9 given after       13 PYEXEC calls:\n",
      "     (PYKFIN:) PARJ(18)<1 combined with 0<MSTJ(12)<5 option\n"
     ]
    },
    {
     "name": "stderr",
     "output_type": "stream",
     "text": [
      "  0%|          | 2/30000 [00:12<45:45:34,  5.49s/it]"
     ]
    },
    {
     "name": "stdout",
     "output_type": "stream",
     "text": [
      "\n",
      "     Advisory warning type 9 given after       15 PYEXEC calls:\n",
      "     (PYKFIN:) PARJ(18)<1 combined with 0<MSTJ(12)<5 option\n",
      "\n",
      "     Advisory warning type 9 given after       17 PYEXEC calls:\n",
      "     (PYKFIN:) PARJ(18)<1 combined with 0<MSTJ(12)<5 option\n",
      "\n",
      "     Advisory warning type 9 given after       20 PYEXEC calls:\n",
      "     (PYKFIN:) PARJ(18)<1 combined with 0<MSTJ(12)<5 option\n"
     ]
    },
    {
     "name": "stderr",
     "output_type": "stream",
     "text": [
      "  1%|          | 286/30000 [00:52<06:24, 77.34it/s] "
     ]
    },
    {
     "name": "stdout",
     "output_type": "stream",
     "text": [
      "\n",
      "     Error type 4 has occured after     2149 PYEXEC calls:\n",
      "     (PYSTRF:) caught in infinite loop\n"
     ]
    },
    {
     "name": "stderr",
     "output_type": "stream",
     "text": [
      "  2%|▏         | 583/30000 [00:57<06:10, 79.33it/s]"
     ]
    },
    {
     "name": "stdout",
     "output_type": "stream",
     "text": [
      "\n",
      "     Error type 4 has occured after     4390 PYEXEC calls:\n",
      "     (PYSTRF:) caught in infinite loop\n",
      "\n",
      "     Error type 2 has occured after     4390 PYEXEC calls:\n",
      "     (PYINDF:) unphysical flavour combination\n"
     ]
    },
    {
     "name": "stderr",
     "output_type": "stream",
     "text": [
      "  2%|▏         | 622/30000 [00:58<05:36, 87.24it/s]"
     ]
    },
    {
     "name": "stdout",
     "output_type": "stream",
     "text": [
      "\n",
      "     Error type 4 has occured after     4657 PYEXEC calls:\n",
      "     (PYSTRF:) caught in infinite loop\n"
     ]
    },
    {
     "name": "stderr",
     "output_type": "stream",
     "text": [
      "  2%|▏         | 689/30000 [00:59<05:18, 92.13it/s]"
     ]
    },
    {
     "name": "stdout",
     "output_type": "stream",
     "text": [
      "\n",
      "     Error type 4 has occured after     5094 PYEXEC calls:\n",
      "     (PYSTRF:) caught in infinite loop\n",
      "\n",
      "     Error type 2 has occured after     5094 PYEXEC calls:\n",
      "     (PYINDF:) unphysical flavour combination\n"
     ]
    },
    {
     "name": "stderr",
     "output_type": "stream",
     "text": [
      "  3%|▎         | 878/30000 [01:01<05:52, 82.64it/s]"
     ]
    },
    {
     "name": "stdout",
     "output_type": "stream",
     "text": [
      "\n",
      "     Error type 4 has occured after     6584 PYEXEC calls:\n",
      "     (PYSTRF:) caught in infinite loop\n",
      "\n",
      "     Error type 2 has occured after     6584 PYEXEC calls:\n",
      "     (PYINDF:) unphysical flavour combination\n",
      "\n",
      "     Error type 4 has occured after     6585 PYEXEC calls:\n",
      "     (PYSTRF:) caught in infinite loop\n"
     ]
    },
    {
     "name": "stderr",
     "output_type": "stream",
     "text": [
      "  4%|▎         | 1113/30000 [01:04<04:52, 98.65it/s]"
     ]
    },
    {
     "name": "stdout",
     "output_type": "stream",
     "text": [
      "\n",
      "     Error type 4 has occured after     8377 PYEXEC calls:\n",
      "     (PYSTRF:) caught in infinite loop\n"
     ]
    },
    {
     "name": "stderr",
     "output_type": "stream",
     "text": [
      "  4%|▍         | 1153/30000 [01:04<04:56, 97.41it/s]"
     ]
    },
    {
     "name": "stdout",
     "output_type": "stream",
     "text": [
      "\n",
      "     Error type 4 has occured after     8631 PYEXEC calls:\n",
      "     (PYSTRF:) caught in infinite loop\n"
     ]
    },
    {
     "name": "stderr",
     "output_type": "stream",
     "text": [
      "  4%|▍         | 1233/30000 [01:05<05:15, 91.29it/s]"
     ]
    },
    {
     "name": "stdout",
     "output_type": "stream",
     "text": [
      "\n",
      "     Error type 4 has occured after     9295 PYEXEC calls:\n",
      "     (PYSTRF:) caught in infinite loop\n"
     ]
    },
    {
     "name": "stderr",
     "output_type": "stream",
     "text": [
      "  4%|▍         | 1253/30000 [01:05<05:30, 87.05it/s]"
     ]
    },
    {
     "name": "stdout",
     "output_type": "stream",
     "text": [
      "\n",
      "     Error type 4 has occured after     9462 PYEXEC calls:\n",
      "     (PYSTRF:) caught in infinite loop\n",
      "\n",
      "     Error type 4 has occured after     9523 PYEXEC calls:\n",
      "     (PYSTRF:) caught in infinite loop\n",
      "\n",
      "     Error type 2 has occured after     9523 PYEXEC calls:\n",
      "     (PYINDF:) unphysical flavour combination\n"
     ]
    },
    {
     "name": "stderr",
     "output_type": "stream",
     "text": [
      "  5%|▍         | 1431/30000 [01:07<05:14, 90.89it/s]"
     ]
    },
    {
     "name": "stdout",
     "output_type": "stream",
     "text": [
      "\n",
      "     Error type 4 has occured after    10850 PYEXEC calls:\n",
      "     (PYSTRF:) caught in infinite loop\n",
      "\n",
      "     Error type 2 has occured after    10850 PYEXEC calls:\n",
      "     (PYINDF:) unphysical flavour combination\n"
     ]
    },
    {
     "name": "stderr",
     "output_type": "stream",
     "text": [
      "  5%|▌         | 1625/30000 [01:09<05:15, 90.05it/s]"
     ]
    },
    {
     "name": "stdout",
     "output_type": "stream",
     "text": [
      "\n",
      "     Error type 4 has occured after    12295 PYEXEC calls:\n",
      "     (PYSTRF:) caught in infinite loop\n"
     ]
    },
    {
     "name": "stderr",
     "output_type": "stream",
     "text": [
      "  9%|▉         | 2708/30000 [01:21<04:41, 96.82it/s]"
     ]
    },
    {
     "name": "stdout",
     "output_type": "stream",
     "text": [
      "\n",
      "     Error type 4 has occured after    20582 PYEXEC calls:\n",
      "     (PYSTRF:) caught in infinite loop\n",
      "\n",
      "     Error type 2 has occured after    20582 PYEXEC calls:\n",
      "     (PYINDF:) unphysical flavour combination\n"
     ]
    },
    {
     "name": "stderr",
     "output_type": "stream",
     "text": [
      " 11%|█         | 3190/30000 [01:27<05:10, 86.33it/s]"
     ]
    },
    {
     "name": "stdout",
     "output_type": "stream",
     "text": [
      "\n",
      "     Error type 4 has occured after    24319 PYEXEC calls:\n",
      "     (PYSTRF:) caught in infinite loop\n"
     ]
    },
    {
     "name": "stderr",
     "output_type": "stream",
     "text": [
      " 12%|█▏        | 3475/30000 [01:30<04:47, 92.37it/s]"
     ]
    },
    {
     "name": "stdout",
     "output_type": "stream",
     "text": [
      "\n",
      "     Error type 4 has occured after    26438 PYEXEC calls:\n",
      "     (PYSTRF:) caught in infinite loop\n",
      "\n",
      "     Error type 2 has occured after    26438 PYEXEC calls:\n",
      "     (PYINDF:) unphysical flavour combination\n"
     ]
    },
    {
     "name": "stderr",
     "output_type": "stream",
     "text": [
      " 12%|█▏        | 3525/30000 [01:30<05:34, 79.22it/s]"
     ]
    },
    {
     "name": "stdout",
     "output_type": "stream",
     "text": [
      "\n",
      "     Error type 4 has occured after    26821 PYEXEC calls:\n",
      "     (PYSTRF:) caught in infinite loop\n",
      "\n",
      "     Error type 2 has occured after    26821 PYEXEC calls:\n",
      "     (PYINDF:) unphysical flavour combination\n"
     ]
    },
    {
     "name": "stderr",
     "output_type": "stream",
     "text": [
      " 14%|█▎        | 4110/30000 [01:37<04:49, 89.36it/s]"
     ]
    },
    {
     "name": "stdout",
     "output_type": "stream",
     "text": [
      "\n",
      "     Error type 4 has occured after    31294 PYEXEC calls:\n",
      "     (PYSTRF:) caught in infinite loop\n",
      "\n",
      "     Error type 2 has occured after    31294 PYEXEC calls:\n",
      "     (PYINDF:) unphysical flavour combination\n"
     ]
    },
    {
     "name": "stderr",
     "output_type": "stream",
     "text": [
      " 16%|█▋        | 4877/30000 [01:45<04:45, 88.02it/s]"
     ]
    },
    {
     "name": "stdout",
     "output_type": "stream",
     "text": [
      "\n",
      "     Error type 4 has occured after    37209 PYEXEC calls:\n",
      "     (PYSTRF:) caught in infinite loop\n"
     ]
    },
    {
     "name": "stderr",
     "output_type": "stream",
     "text": [
      " 17%|█▋        | 5064/30000 [01:48<04:47, 86.67it/s]"
     ]
    },
    {
     "name": "stdout",
     "output_type": "stream",
     "text": [
      "\n",
      "     Error type 4 has occured after    38556 PYEXEC calls:\n",
      "     (PYSTRF:) caught in infinite loop\n"
     ]
    },
    {
     "name": "stderr",
     "output_type": "stream",
     "text": [
      " 18%|█▊        | 5297/30000 [01:50<04:41, 87.74it/s]"
     ]
    },
    {
     "name": "stdout",
     "output_type": "stream",
     "text": [
      "\n",
      "     Error type 4 has occured after    40430 PYEXEC calls:\n",
      "     (PYSTRF:) caught in infinite loop\n"
     ]
    },
    {
     "name": "stderr",
     "output_type": "stream",
     "text": [
      " 18%|█▊        | 5418/30000 [01:51<04:48, 85.31it/s]"
     ]
    },
    {
     "name": "stdout",
     "output_type": "stream",
     "text": [
      "\n",
      "     Error type 4 has occured after    41429 PYEXEC calls:\n",
      "     (PYSTRF:) caught in infinite loop\n",
      "\n",
      "     Error type 2 has occured after    41429 PYEXEC calls:\n",
      "     (PYINDF:) unphysical flavour combination\n"
     ]
    },
    {
     "name": "stderr",
     "output_type": "stream",
     "text": [
      " 19%|█▊        | 5578/30000 [01:53<04:30, 90.37it/s]"
     ]
    },
    {
     "name": "stdout",
     "output_type": "stream",
     "text": [
      "\n",
      "     Error type 4 has occured after    42599 PYEXEC calls:\n",
      "     (PYSTRF:) caught in infinite loop\n",
      "\n",
      "     Error type 2 has occured after    42599 PYEXEC calls:\n",
      "     (PYINDF:) unphysical flavour combination\n"
     ]
    },
    {
     "name": "stderr",
     "output_type": "stream",
     "text": [
      " 19%|█▉        | 5827/30000 [01:56<04:22, 91.98it/s]"
     ]
    },
    {
     "name": "stdout",
     "output_type": "stream",
     "text": [
      "\n",
      "     Error type 4 has occured after    44587 PYEXEC calls:\n",
      "     (PYSTRF:) caught in infinite loop\n",
      "\n",
      "     Error type 2 has occured after    44587 PYEXEC calls:\n",
      "     (PYINDF:) unphysical flavour combination\n"
     ]
    },
    {
     "name": "stderr",
     "output_type": "stream",
     "text": [
      " 20%|██        | 6143/30000 [02:00<04:34, 86.89it/s]"
     ]
    },
    {
     "name": "stdout",
     "output_type": "stream",
     "text": [
      "\n",
      "     Error type 4 has occured after    47004 PYEXEC calls:\n",
      "     (PYSTRF:) caught in infinite loop\n",
      "\n",
      "     Error type 2 has occured after    47004 PYEXEC calls:\n",
      "     (PYINDF:) unphysical flavour combination\n"
     ]
    },
    {
     "name": "stderr",
     "output_type": "stream",
     "text": [
      " 21%|██        | 6217/30000 [02:00<04:31, 87.48it/s]"
     ]
    },
    {
     "name": "stdout",
     "output_type": "stream",
     "text": [
      "\n",
      "     Error type 4 has occured after    47554 PYEXEC calls:\n",
      "     (PYSTRF:) caught in infinite loop\n"
     ]
    },
    {
     "name": "stderr",
     "output_type": "stream",
     "text": [
      " 21%|██        | 6369/30000 [02:02<04:33, 86.50it/s]"
     ]
    },
    {
     "name": "stdout",
     "output_type": "stream",
     "text": [
      "\n",
      "     Error type 4 has occured after    48732 PYEXEC calls:\n",
      "     (PYSTRF:) caught in infinite loop\n",
      "\n",
      "     Error type 2 has occured after    48732 PYEXEC calls:\n",
      "     (PYINDF:) unphysical flavour combination\n"
     ]
    },
    {
     "name": "stderr",
     "output_type": "stream",
     "text": [
      " 21%|██▏       | 6396/30000 [02:03<04:36, 85.34it/s]"
     ]
    },
    {
     "name": "stdout",
     "output_type": "stream",
     "text": [
      "\n",
      "     Error type 4 has occured after    48945 PYEXEC calls:\n",
      "     (PYSTRF:) caught in infinite loop\n",
      "\n",
      "     Error type 4 has occured after    48996 PYEXEC calls:\n",
      "     (PYSTRF:) caught in infinite loop\n"
     ]
    },
    {
     "name": "stderr",
     "output_type": "stream",
     "text": [
      " 22%|██▏       | 6513/30000 [02:04<04:30, 86.74it/s]"
     ]
    },
    {
     "name": "stdout",
     "output_type": "stream",
     "text": [
      "\n",
      "     Error type 4 has occured after    49783 PYEXEC calls:\n",
      "     (PYSTRF:) caught in infinite loop\n",
      "\n",
      "     Error type 2 has occured after    49783 PYEXEC calls:\n",
      "     (PYINDF:) unphysical flavour combination\n"
     ]
    },
    {
     "name": "stderr",
     "output_type": "stream",
     "text": [
      " 22%|██▏       | 6541/30000 [02:04<04:43, 82.86it/s]"
     ]
    },
    {
     "name": "stdout",
     "output_type": "stream",
     "text": [
      "\n",
      "     Error type 4 has occured after    50040 PYEXEC calls:\n",
      "     (PYSTRF:) caught in infinite loop\n"
     ]
    },
    {
     "name": "stderr",
     "output_type": "stream",
     "text": [
      " 24%|██▍       | 7150/30000 [02:12<05:02, 75.60it/s]"
     ]
    },
    {
     "name": "stdout",
     "output_type": "stream",
     "text": [
      "\n",
      "     Error type 4 has occured after    54683 PYEXEC calls:\n",
      "     (PYSTRF:) caught in infinite loop\n",
      "\n",
      "     Error type 2 has occured after    54683 PYEXEC calls:\n",
      "     (PYINDF:) unphysical flavour combination\n"
     ]
    },
    {
     "name": "stderr",
     "output_type": "stream",
     "text": [
      " 24%|██▍       | 7315/30000 [02:14<04:00, 94.22it/s]"
     ]
    },
    {
     "name": "stdout",
     "output_type": "stream",
     "text": [
      "\n",
      "     Error type 4 has occured after    55933 PYEXEC calls:\n",
      "     (PYSTRF:) caught in infinite loop\n"
     ]
    },
    {
     "name": "stderr",
     "output_type": "stream",
     "text": [
      " 25%|██▍       | 7424/30000 [02:15<04:20, 86.80it/s]"
     ]
    },
    {
     "name": "stdout",
     "output_type": "stream",
     "text": [
      "\n",
      "     Error type 4 has occured after    56753 PYEXEC calls:\n",
      "     (PYSTRF:) caught in infinite loop\n",
      "\n",
      "     Error type 2 has occured after    56753 PYEXEC calls:\n",
      "     (PYINDF:) unphysical flavour combination\n"
     ]
    },
    {
     "name": "stderr",
     "output_type": "stream",
     "text": [
      " 26%|██▌       | 7791/30000 [02:19<05:34, 66.43it/s]"
     ]
    },
    {
     "name": "stdout",
     "output_type": "stream",
     "text": [
      "\n",
      "     Error type 4 has occured after    59600 PYEXEC calls:\n",
      "     (PYSTRF:) caught in infinite loop\n",
      "\n",
      "     Error type 2 has occured after    59600 PYEXEC calls:\n",
      "     (PYINDF:) unphysical flavour combination\n"
     ]
    },
    {
     "name": "stderr",
     "output_type": "stream",
     "text": [
      " 26%|██▌       | 7868/30000 [02:20<04:08, 88.97it/s]"
     ]
    },
    {
     "name": "stdout",
     "output_type": "stream",
     "text": [
      "\n",
      "     Error type 4 has occured after    60150 PYEXEC calls:\n",
      "     (PYSTRF:) caught in infinite loop\n",
      "\n",
      "     Error type 2 has occured after    60150 PYEXEC calls:\n",
      "     (PYINDF:) unphysical flavour combination\n"
     ]
    },
    {
     "name": "stderr",
     "output_type": "stream",
     "text": [
      " 26%|██▋       | 7944/30000 [02:21<04:37, 79.45it/s]"
     ]
    },
    {
     "name": "stdout",
     "output_type": "stream",
     "text": [
      "\n",
      "     Error type 4 has occured after    60747 PYEXEC calls:\n",
      "     (PYSTRF:) caught in infinite loop\n"
     ]
    },
    {
     "name": "stderr",
     "output_type": "stream",
     "text": [
      " 27%|██▋       | 8248/30000 [02:25<04:11, 86.57it/s]"
     ]
    },
    {
     "name": "stdout",
     "output_type": "stream",
     "text": [
      "\n",
      "     Error type 4 has occured after    63092 PYEXEC calls:\n",
      "     (PYSTRF:) caught in infinite loop\n",
      "\n",
      "     Error type 2 has occured after    63092 PYEXEC calls:\n",
      "     (PYINDF:) unphysical flavour combination\n"
     ]
    },
    {
     "name": "stderr",
     "output_type": "stream",
     "text": [
      " 28%|██▊       | 8510/30000 [02:28<03:57, 90.58it/s]"
     ]
    },
    {
     "name": "stdout",
     "output_type": "stream",
     "text": [
      "\n",
      "     Error type 4 has occured after    65042 PYEXEC calls:\n",
      "     (PYSTRF:) caught in infinite loop\n"
     ]
    },
    {
     "name": "stderr",
     "output_type": "stream",
     "text": [
      " 29%|██▉       | 8631/30000 [02:30<04:12, 84.72it/s]"
     ]
    },
    {
     "name": "stdout",
     "output_type": "stream",
     "text": [
      "\n",
      "     Error type 4 has occured after    66058 PYEXEC calls:\n",
      "     (PYSTRF:) caught in infinite loop\n",
      "\n",
      "     Error type 2 has occured after    66058 PYEXEC calls:\n",
      "     (PYINDF:) unphysical flavour combination\n"
     ]
    },
    {
     "name": "stderr",
     "output_type": "stream",
     "text": [
      " 29%|██▉       | 8800/30000 [02:32<03:35, 98.53it/s]"
     ]
    },
    {
     "name": "stdout",
     "output_type": "stream",
     "text": [
      "\n",
      "     Error type 4 has occured after    67285 PYEXEC calls:\n",
      "     (PYSTRF:) caught in infinite loop\n",
      "\n",
      "     Error type 2 has occured after    67285 PYEXEC calls:\n",
      "     (PYINDF:) unphysical flavour combination\n",
      "\n",
      "     Error type 4 has occured after    67286 PYEXEC calls:\n",
      "     (PYSTRF:) caught in infinite loop\n",
      "\n",
      "     Error type 2 has occured after    67286 PYEXEC calls:\n",
      "     (PYINDF:) unphysical flavour combination\n",
      "\n",
      "     Error type 4 has occured after    67287 PYEXEC calls:\n",
      "     (PYSTRF:) caught in infinite loop\n",
      "\n",
      "     Error type 4 has occured after    67288 PYEXEC calls:\n",
      "     (PYSTRF:) caught in infinite loop\n",
      "\n",
      "     Error type 2 has occured after    67288 PYEXEC calls:\n",
      "     (PYINDF:) unphysical flavour combination\n"
     ]
    },
    {
     "name": "stderr",
     "output_type": "stream",
     "text": [
      " 30%|███       | 9016/30000 [02:34<04:09, 84.03it/s]"
     ]
    },
    {
     "name": "stdout",
     "output_type": "stream",
     "text": [
      "\n",
      "     Error type 4 has occured after    68871 PYEXEC calls:\n",
      "     (PYSTRF:) caught in infinite loop\n",
      "\n",
      "     Error type 2 has occured after    68871 PYEXEC calls:\n",
      "     (PYINDF:) unphysical flavour combination\n"
     ]
    },
    {
     "name": "stderr",
     "output_type": "stream",
     "text": [
      " 30%|███       | 9054/30000 [02:35<04:06, 84.92it/s]"
     ]
    },
    {
     "name": "stdout",
     "output_type": "stream",
     "text": [
      "\n",
      "     Error type 4 has occured after    69181 PYEXEC calls:\n",
      "     (PYSTRF:) caught in infinite loop\n"
     ]
    },
    {
     "name": "stderr",
     "output_type": "stream",
     "text": [
      " 31%|███       | 9151/30000 [02:36<03:49, 90.83it/s]"
     ]
    },
    {
     "name": "stdout",
     "output_type": "stream",
     "text": [
      "\n",
      "     Error type 4 has occured after    69878 PYEXEC calls:\n",
      "     (PYSTRF:) caught in infinite loop\n"
     ]
    },
    {
     "name": "stderr",
     "output_type": "stream",
     "text": [
      " 31%|███       | 9344/30000 [02:38<03:29, 98.50it/s]"
     ]
    },
    {
     "name": "stdout",
     "output_type": "stream",
     "text": [
      "\n",
      "     Error type 4 has occured after    71356 PYEXEC calls:\n",
      "     (PYSTRF:) caught in infinite loop\n"
     ]
    },
    {
     "name": "stderr",
     "output_type": "stream",
     "text": [
      " 31%|███▏      | 9432/30000 [02:39<04:21, 78.73it/s]"
     ]
    },
    {
     "name": "stdout",
     "output_type": "stream",
     "text": [
      "\n",
      "     Error type 4 has occured after    72113 PYEXEC calls:\n",
      "     (PYSTRF:) caught in infinite loop\n",
      "\n",
      "     Error type 2 has occured after    72113 PYEXEC calls:\n",
      "     (PYINDF:) unphysical flavour combination\n"
     ]
    },
    {
     "name": "stderr",
     "output_type": "stream",
     "text": [
      " 32%|███▏      | 9530/30000 [02:40<04:17, 79.44it/s]"
     ]
    },
    {
     "name": "stdout",
     "output_type": "stream",
     "text": [
      "\n",
      "     Error type 4 has occured after    72901 PYEXEC calls:\n",
      "     (PYSTRF:) caught in infinite loop\n",
      "\n",
      "     Error type 2 has occured after    72901 PYEXEC calls:\n",
      "     (PYINDF:) unphysical flavour combination\n"
     ]
    },
    {
     "name": "stderr",
     "output_type": "stream",
     "text": [
      " 33%|███▎      | 9766/30000 [02:43<04:45, 70.97it/s]"
     ]
    },
    {
     "name": "stdout",
     "output_type": "stream",
     "text": [
      "\n",
      "     Error type 4 has occured after    74714 PYEXEC calls:\n",
      "     (PYSTRF:) caught in infinite loop\n",
      "\n",
      "     Error type 2 has occured after    74714 PYEXEC calls:\n",
      "     (PYINDF:) unphysical flavour combination\n"
     ]
    },
    {
     "name": "stderr",
     "output_type": "stream",
     "text": [
      " 33%|███▎      | 9998/30000 [02:46<03:33, 93.58it/s]"
     ]
    },
    {
     "name": "stdout",
     "output_type": "stream",
     "text": [
      "\n",
      "     Error type 4 has occured after    76379 PYEXEC calls:\n",
      "     (PYSTRF:) caught in infinite loop\n",
      "\n",
      "     Error type 2 has occured after    76379 PYEXEC calls:\n",
      "     (PYINDF:) unphysical flavour combination\n"
     ]
    },
    {
     "name": "stderr",
     "output_type": "stream",
     "text": [
      " 33%|███▎      | 10019/30000 [02:46<03:27, 96.08it/s]"
     ]
    },
    {
     "name": "stdout",
     "output_type": "stream",
     "text": [
      "\n",
      "     Error type 4 has occured after    76523 PYEXEC calls:\n",
      "     (PYSTRF:) caught in infinite loop\n"
     ]
    },
    {
     "name": "stderr",
     "output_type": "stream",
     "text": [
      " 34%|███▍      | 10166/30000 [02:48<03:48, 86.66it/s]"
     ]
    },
    {
     "name": "stdout",
     "output_type": "stream",
     "text": [
      "\n",
      "     Error type 4 has occured after    77674 PYEXEC calls:\n",
      "     (PYSTRF:) caught in infinite loop\n"
     ]
    },
    {
     "name": "stderr",
     "output_type": "stream",
     "text": [
      " 34%|███▍      | 10196/30000 [02:48<03:32, 93.01it/s]"
     ]
    },
    {
     "name": "stdout",
     "output_type": "stream",
     "text": [
      "\n",
      "     Error type 4 has occured after    77852 PYEXEC calls:\n",
      "     (PYSTRF:) caught in infinite loop\n"
     ]
    },
    {
     "name": "stderr",
     "output_type": "stream",
     "text": [
      " 35%|███▍      | 10437/30000 [02:51<04:06, 79.42it/s]"
     ]
    },
    {
     "name": "stdout",
     "output_type": "stream",
     "text": [
      "\n",
      "     Error type 4 has occured after    79695 PYEXEC calls:\n",
      "     (PYSTRF:) caught in infinite loop\n"
     ]
    },
    {
     "name": "stderr",
     "output_type": "stream",
     "text": [
      " 35%|███▌      | 10643/30000 [02:53<03:44, 86.36it/s]"
     ]
    },
    {
     "name": "stdout",
     "output_type": "stream",
     "text": [
      "\n",
      "     Error type 4 has occured after    81315 PYEXEC calls:\n",
      "     (PYSTRF:) caught in infinite loop\n"
     ]
    },
    {
     "name": "stderr",
     "output_type": "stream",
     "text": [
      " 36%|███▋      | 10877/30000 [02:56<04:03, 78.61it/s]"
     ]
    },
    {
     "name": "stdout",
     "output_type": "stream",
     "text": [
      "\n",
      "     Error type 4 has occured after    83045 PYEXEC calls:\n",
      "     (PYSTRF:) caught in infinite loop\n"
     ]
    },
    {
     "name": "stderr",
     "output_type": "stream",
     "text": [
      " 37%|███▋      | 11169/30000 [02:59<03:18, 94.89it/s]"
     ]
    },
    {
     "name": "stdout",
     "output_type": "stream",
     "text": [
      "\n",
      "     Error type 4 has occured after    85202 PYEXEC calls:\n",
      "     (PYSTRF:) caught in infinite loop\n",
      "\n",
      "     Error type 4 has occured after    85203 PYEXEC calls:\n",
      "     (PYSTRF:) caught in infinite loop\n",
      "\n",
      "     Error type 2 has occured after    85203 PYEXEC calls:\n",
      "     (PYINDF:) unphysical flavour combination\n"
     ]
    },
    {
     "name": "stderr",
     "output_type": "stream",
     "text": [
      " 37%|███▋      | 11229/30000 [03:00<03:39, 85.43it/s]"
     ]
    },
    {
     "name": "stdout",
     "output_type": "stream",
     "text": [
      "\n",
      "     Error type 4 has occured after    85697 PYEXEC calls:\n",
      "     (PYSTRF:) caught in infinite loop\n"
     ]
    },
    {
     "name": "stderr",
     "output_type": "stream",
     "text": [
      " 39%|███▉      | 11804/30000 [03:06<03:21, 90.20it/s]"
     ]
    },
    {
     "name": "stdout",
     "output_type": "stream",
     "text": [
      "\n",
      "     Error type 4 has occured after    90146 PYEXEC calls:\n",
      "     (PYSTRF:) caught in infinite loop\n",
      "\n",
      "     Error type 2 has occured after    90146 PYEXEC calls:\n",
      "     (PYINDF:) unphysical flavour combination\n",
      "\n",
      "     Error type 4 has occured after    90147 PYEXEC calls:\n",
      "     (PYSTRF:) caught in infinite loop\n"
     ]
    },
    {
     "name": "stderr",
     "output_type": "stream",
     "text": [
      " 40%|███▉      | 11863/30000 [03:07<03:30, 86.16it/s]"
     ]
    },
    {
     "name": "stdout",
     "output_type": "stream",
     "text": [
      "\n",
      "     Error type 4 has occured after    90597 PYEXEC calls:\n",
      "     (PYSTRF:) caught in infinite loop\n",
      "\n",
      "     Error type 4 has occured after    90598 PYEXEC calls:\n",
      "     (PYSTRF:) caught in infinite loop\n",
      "\n",
      "     Error type 2 has occured after    90598 PYEXEC calls:\n",
      "     (PYINDF:) unphysical flavour combination\n"
     ]
    },
    {
     "name": "stderr",
     "output_type": "stream",
     "text": [
      " 40%|███▉      | 11924/30000 [03:08<03:16, 91.93it/s]"
     ]
    },
    {
     "name": "stdout",
     "output_type": "stream",
     "text": [
      "\n",
      "     Error type 4 has occured after    91071 PYEXEC calls:\n",
      "     (PYSTRF:) caught in infinite loop\n",
      "\n",
      "     Error type 4 has occured after    91072 PYEXEC calls:\n",
      "     (PYSTRF:) caught in infinite loop\n",
      "\n",
      "     Error type 4 has occured after    91074 PYEXEC calls:\n",
      "     (PYSTRF:) caught in infinite loop\n"
     ]
    },
    {
     "name": "stderr",
     "output_type": "stream",
     "text": [
      " 40%|████      | 12015/30000 [03:09<03:32, 84.49it/s]"
     ]
    },
    {
     "name": "stdout",
     "output_type": "stream",
     "text": [
      "\n",
      "     Error type 4 has occured after    91732 PYEXEC calls:\n",
      "     (PYSTRF:) caught in infinite loop\n"
     ]
    },
    {
     "name": "stderr",
     "output_type": "stream",
     "text": [
      " 41%|████      | 12226/30000 [03:11<03:10, 93.19it/s]"
     ]
    },
    {
     "name": "stdout",
     "output_type": "stream",
     "text": [
      "\n",
      "     Error type 4 has occured after    93356 PYEXEC calls:\n",
      "     (PYSTRF:) caught in infinite loop\n"
     ]
    },
    {
     "name": "stderr",
     "output_type": "stream",
     "text": [
      " 43%|████▎     | 12875/30000 [03:18<03:06, 91.75it/s]"
     ]
    },
    {
     "name": "stdout",
     "output_type": "stream",
     "text": [
      "\n",
      "     Error type 4 has occured after    98314 PYEXEC calls:\n",
      "     (PYSTRF:) caught in infinite loop\n",
      "\n",
      "     Error type 2 has occured after    98314 PYEXEC calls:\n",
      "     (PYINDF:) unphysical flavour combination\n"
     ]
    },
    {
     "name": "stderr",
     "output_type": "stream",
     "text": [
      " 43%|████▎     | 12986/30000 [03:19<03:04, 92.08it/s]"
     ]
    },
    {
     "name": "stdout",
     "output_type": "stream",
     "text": [
      "\n",
      "     Error type 4 has occured after    99252 PYEXEC calls:\n",
      "     (PYSTRF:) caught in infinite loop\n",
      "\n",
      "     Error type 2 has occured after    99252 PYEXEC calls:\n",
      "     (PYINDF:) unphysical flavour combination\n",
      "\n",
      "     Error type 4 has occured after    99366 PYEXEC calls:\n",
      "     (PYSTRF:) caught in infinite loop\n",
      "\n",
      "     Error type 2 has occured after    99366 PYEXEC calls:\n",
      "     (PYINDF:) unphysical flavour combination\n"
     ]
    },
    {
     "name": "stderr",
     "output_type": "stream",
     "text": [
      " 44%|████▍     | 13133/30000 [03:21<03:12, 87.42it/s]"
     ]
    },
    {
     "name": "stdout",
     "output_type": "stream",
     "text": [
      "\n",
      "     Error type 4 has occured after   100448 PYEXEC calls:\n",
      "     (PYSTRF:) caught in infinite loop\n",
      "\n",
      "     Error type 2 has occured after   100448 PYEXEC calls:\n",
      "     (PYINDF:) unphysical flavour combination\n"
     ]
    },
    {
     "name": "stderr",
     "output_type": "stream",
     "text": [
      " 44%|████▍     | 13151/30000 [03:21<03:22, 83.36it/s]"
     ]
    },
    {
     "name": "stdout",
     "output_type": "stream",
     "text": [
      "\n",
      "     Error type 4 has occured after   100631 PYEXEC calls:\n",
      "     (PYSTRF:) caught in infinite loop\n",
      "\n",
      "     Error type 2 has occured after   100631 PYEXEC calls:\n",
      "     (PYINDF:) unphysical flavour combination\n"
     ]
    },
    {
     "name": "stderr",
     "output_type": "stream",
     "text": [
      " 44%|████▍     | 13277/30000 [03:23<03:08, 88.87it/s]"
     ]
    },
    {
     "name": "stdout",
     "output_type": "stream",
     "text": [
      "\n",
      "     Error type 4 has occured after   101591 PYEXEC calls:\n",
      "     (PYSTRF:) caught in infinite loop\n"
     ]
    },
    {
     "name": "stderr",
     "output_type": "stream",
     "text": [
      " 47%|████▋     | 14017/30000 [03:31<03:36, 73.76it/s]"
     ]
    },
    {
     "name": "stdout",
     "output_type": "stream",
     "text": [
      "\n",
      "     Error type 4 has occured after   107426 PYEXEC calls:\n",
      "     (PYSTRF:) caught in infinite loop\n",
      "\n",
      "     Error type 2 has occured after   107426 PYEXEC calls:\n",
      "     (PYINDF:) unphysical flavour combination\n"
     ]
    },
    {
     "name": "stderr",
     "output_type": "stream",
     "text": [
      " 47%|████▋     | 14183/30000 [03:33<03:21, 78.34it/s]"
     ]
    },
    {
     "name": "stdout",
     "output_type": "stream",
     "text": [
      "\n",
      "     Error type 4 has occured after   108547 PYEXEC calls:\n",
      "     (PYSTRF:) caught in infinite loop\n",
      "\n",
      "     Error type 2 has occured after   108547 PYEXEC calls:\n",
      "     (PYINDF:) unphysical flavour combination\n",
      "\n",
      "     Error type 4 has occured after   108612 PYEXEC calls:\n",
      "     (PYSTRF:) caught in infinite loop\n"
     ]
    },
    {
     "name": "stderr",
     "output_type": "stream",
     "text": [
      " 49%|████▊     | 14570/30000 [03:38<02:49, 90.86it/s]"
     ]
    },
    {
     "name": "stdout",
     "output_type": "stream",
     "text": [
      "\n",
      "     Error type 4 has occured after   111564 PYEXEC calls:\n",
      "     (PYSTRF:) caught in infinite loop\n",
      "\n",
      "     Error type 2 has occured after   111564 PYEXEC calls:\n",
      "     (PYINDF:) unphysical flavour combination\n"
     ]
    },
    {
     "name": "stderr",
     "output_type": "stream",
     "text": [
      " 49%|████▉     | 14630/30000 [03:38<02:48, 90.99it/s]"
     ]
    },
    {
     "name": "stdout",
     "output_type": "stream",
     "text": [
      "\n",
      "     Error type 4 has occured after   111963 PYEXEC calls:\n",
      "     (PYSTRF:) caught in infinite loop\n",
      "\n",
      "     Error type 4 has occured after   112015 PYEXEC calls:\n",
      "     (PYSTRF:) caught in infinite loop\n",
      "\n",
      "     Error type 2 has occured after   112015 PYEXEC calls:\n",
      "     (PYINDF:) unphysical flavour combination\n",
      "\n",
      "     Error type 4 has occured after   112016 PYEXEC calls:\n",
      "     (PYSTRF:) caught in infinite loop\n",
      "\n",
      "     Error type 4 has occured after   112017 PYEXEC calls:\n",
      "     (PYSTRF:) caught in infinite loop\n"
     ]
    },
    {
     "name": "stderr",
     "output_type": "stream",
     "text": [
      " 49%|████▉     | 14706/30000 [03:39<02:58, 85.76it/s]"
     ]
    },
    {
     "name": "stdout",
     "output_type": "stream",
     "text": [
      "\n",
      "     Error type 4 has occured after   112587 PYEXEC calls:\n",
      "     (PYSTRF:) caught in infinite loop\n",
      "\n",
      "     Error type 2 has occured after   112587 PYEXEC calls:\n",
      "     (PYINDF:) unphysical flavour combination\n"
     ]
    },
    {
     "name": "stderr",
     "output_type": "stream",
     "text": [
      " 50%|█████     | 15065/30000 [03:43<02:52, 86.42it/s]"
     ]
    },
    {
     "name": "stdout",
     "output_type": "stream",
     "text": [
      "\n",
      "     Error type 4 has occured after   115474 PYEXEC calls:\n",
      "     (PYSTRF:) caught in infinite loop\n",
      "\n",
      "     Error type 4 has occured after   115475 PYEXEC calls:\n",
      "     (PYSTRF:) caught in infinite loop\n",
      "\n",
      "     Error type 2 has occured after   115475 PYEXEC calls:\n",
      "     (PYINDF:) unphysical flavour combination\n",
      "\n",
      "     Error type 4 has occured after   115513 PYEXEC calls:\n",
      "     (PYSTRF:) caught in infinite loop\n"
     ]
    },
    {
     "name": "stderr",
     "output_type": "stream",
     "text": [
      " 50%|█████     | 15084/30000 [03:44<02:55, 85.00it/s]"
     ]
    },
    {
     "name": "stdout",
     "output_type": "stream",
     "text": [
      "\n",
      "     Error type 4 has occured after   115677 PYEXEC calls:\n",
      "     (PYSTRF:) caught in infinite loop\n"
     ]
    },
    {
     "name": "stderr",
     "output_type": "stream",
     "text": [
      " 51%|█████▏    | 15401/30000 [03:47<02:48, 86.79it/s]"
     ]
    },
    {
     "name": "stdout",
     "output_type": "stream",
     "text": [
      "\n",
      "     Error type 4 has occured after   118095 PYEXEC calls:\n",
      "     (PYSTRF:) caught in infinite loop\n"
     ]
    },
    {
     "name": "stderr",
     "output_type": "stream",
     "text": [
      " 52%|█████▏    | 15733/30000 [03:51<02:44, 86.95it/s]"
     ]
    },
    {
     "name": "stdout",
     "output_type": "stream",
     "text": [
      "\n",
      "     Error type 4 has occured after   120742 PYEXEC calls:\n",
      "     (PYSTRF:) caught in infinite loop\n"
     ]
    },
    {
     "name": "stderr",
     "output_type": "stream",
     "text": [
      " 53%|█████▎    | 15832/30000 [03:52<02:42, 87.18it/s]"
     ]
    },
    {
     "name": "stdout",
     "output_type": "stream",
     "text": [
      "\n",
      "     Error type 4 has occured after   121495 PYEXEC calls:\n",
      "     (PYSTRF:) caught in infinite loop\n",
      "\n",
      "     Error type 2 has occured after   121495 PYEXEC calls:\n",
      "     (PYINDF:) unphysical flavour combination\n"
     ]
    },
    {
     "name": "stderr",
     "output_type": "stream",
     "text": [
      " 54%|█████▍    | 16143/30000 [03:55<02:31, 91.28it/s]"
     ]
    },
    {
     "name": "stdout",
     "output_type": "stream",
     "text": [
      "\n",
      "     Error type 4 has occured after   123931 PYEXEC calls:\n",
      "     (PYSTRF:) caught in infinite loop\n",
      "\n",
      "     Error type 4 has occured after   123932 PYEXEC calls:\n",
      "     (PYSTRF:) caught in infinite loop\n",
      "\n",
      "     Error type 4 has occured after   123934 PYEXEC calls:\n",
      "     (PYSTRF:) caught in infinite loop\n"
     ]
    },
    {
     "name": "stderr",
     "output_type": "stream",
     "text": [
      " 54%|█████▍    | 16242/30000 [03:57<02:46, 82.54it/s]"
     ]
    },
    {
     "name": "stdout",
     "output_type": "stream",
     "text": [
      "\n",
      "     Error type 4 has occured after   124709 PYEXEC calls:\n",
      "     (PYSTRF:) caught in infinite loop\n"
     ]
    },
    {
     "name": "stderr",
     "output_type": "stream",
     "text": [
      " 54%|█████▍    | 16299/30000 [03:57<02:39, 85.79it/s]"
     ]
    },
    {
     "name": "stdout",
     "output_type": "stream",
     "text": [
      "\n",
      "     Error type 4 has occured after   125116 PYEXEC calls:\n",
      "     (PYSTRF:) caught in infinite loop\n",
      "\n",
      "     Error type 2 has occured after   125116 PYEXEC calls:\n",
      "     (PYINDF:) unphysical flavour combination\n"
     ]
    },
    {
     "name": "stderr",
     "output_type": "stream",
     "text": [
      " 54%|█████▍    | 16336/30000 [03:58<02:42, 84.16it/s]"
     ]
    },
    {
     "name": "stdout",
     "output_type": "stream",
     "text": [
      "\n",
      "     Error type 4 has occured after   125413 PYEXEC calls:\n",
      "     (PYSTRF:) caught in infinite loop\n"
     ]
    },
    {
     "name": "stderr",
     "output_type": "stream",
     "text": [
      " 55%|█████▍    | 16355/30000 [03:58<02:39, 85.61it/s]"
     ]
    },
    {
     "name": "stdout",
     "output_type": "stream",
     "text": [
      "\n",
      "     Error type 4 has occured after   125581 PYEXEC calls:\n",
      "     (PYSTRF:) caught in infinite loop\n"
     ]
    },
    {
     "name": "stderr",
     "output_type": "stream",
     "text": [
      " 55%|█████▍    | 16419/30000 [03:59<02:43, 82.82it/s]"
     ]
    },
    {
     "name": "stdout",
     "output_type": "stream",
     "text": [
      "\n",
      "     Error type 4 has occured after   126005 PYEXEC calls:\n",
      "     (PYSTRF:) caught in infinite loop\n",
      "\n",
      "     Error type 4 has occured after   126053 PYEXEC calls:\n",
      "     (PYSTRF:) caught in infinite loop\n",
      "\n",
      "     Error type 2 has occured after   126053 PYEXEC calls:\n",
      "     (PYINDF:) unphysical flavour combination\n"
     ]
    },
    {
     "name": "stderr",
     "output_type": "stream",
     "text": [
      " 56%|█████▌    | 16752/30000 [04:03<02:30, 87.85it/s]"
     ]
    },
    {
     "name": "stdout",
     "output_type": "stream",
     "text": [
      "\n",
      "     Error type 4 has occured after   128552 PYEXEC calls:\n",
      "     (PYSTRF:) caught in infinite loop\n",
      "\n",
      "     Error type 2 has occured after   128552 PYEXEC calls:\n",
      "     (PYINDF:) unphysical flavour combination\n",
      "\n",
      "     Error type 4 has occured after   128553 PYEXEC calls:\n",
      "     (PYSTRF:) caught in infinite loop\n"
     ]
    },
    {
     "name": "stderr",
     "output_type": "stream",
     "text": [
      " 57%|█████▋    | 17047/30000 [04:06<02:27, 87.64it/s]"
     ]
    },
    {
     "name": "stdout",
     "output_type": "stream",
     "text": [
      "\n",
      "     Error type 4 has occured after   130877 PYEXEC calls:\n",
      "     (PYSTRF:) caught in infinite loop\n"
     ]
    },
    {
     "name": "stderr",
     "output_type": "stream",
     "text": [
      " 57%|█████▋    | 17147/30000 [04:07<02:18, 92.97it/s]"
     ]
    },
    {
     "name": "stdout",
     "output_type": "stream",
     "text": [
      "\n",
      "     Error type 4 has occured after   131576 PYEXEC calls:\n",
      "     (PYSTRF:) caught in infinite loop\n",
      "\n",
      "     Error type 2 has occured after   131576 PYEXEC calls:\n",
      "     (PYSTRF:) unphysical flavour combination\n"
     ]
    },
    {
     "name": "stderr",
     "output_type": "stream",
     "text": [
      " 58%|█████▊    | 17319/30000 [04:09<02:23, 88.13it/s]"
     ]
    },
    {
     "name": "stdout",
     "output_type": "stream",
     "text": [
      "\n",
      "     Error type 4 has occured after   132917 PYEXEC calls:\n",
      "     (PYSTRF:) caught in infinite loop\n",
      "\n",
      "     Error type 2 has occured after   132917 PYEXEC calls:\n",
      "     (PYINDF:) unphysical flavour combination\n",
      "\n",
      "     Error type 4 has occured after   133028 PYEXEC calls:\n",
      "     (PYSTRF:) caught in infinite loop\n",
      "\n",
      "     Error type 2 has occured after   133028 PYEXEC calls:\n",
      "     (PYINDF:) unphysical flavour combination\n",
      "\n",
      "     Error type 4 has occured after   133029 PYEXEC calls:\n",
      "     (PYSTRF:) caught in infinite loop\n",
      "\n",
      "     Error type 2 has occured after   133029 PYEXEC calls:\n",
      "     (PYINDF:) unphysical flavour combination\n"
     ]
    },
    {
     "name": "stderr",
     "output_type": "stream",
     "text": [
      " 58%|█████▊    | 17540/30000 [04:11<02:20, 88.79it/s]"
     ]
    },
    {
     "name": "stdout",
     "output_type": "stream",
     "text": [
      "\n",
      "     Error type 4 has occured after   134591 PYEXEC calls:\n",
      "     (PYSTRF:) caught in infinite loop\n",
      "\n",
      "     Error type 2 has occured after   134591 PYEXEC calls:\n",
      "     (PYINDF:) unphysical flavour combination\n",
      "\n",
      "     Error type 4 has occured after   134592 PYEXEC calls:\n",
      "     (PYSTRF:) caught in infinite loop\n"
     ]
    },
    {
     "name": "stderr",
     "output_type": "stream",
     "text": [
      " 59%|█████▉    | 17708/30000 [04:13<02:16, 89.82it/s]"
     ]
    },
    {
     "name": "stdout",
     "output_type": "stream",
     "text": [
      "\n",
      "     Error type 4 has occured after   135949 PYEXEC calls:\n",
      "     (PYSTRF:) caught in infinite loop\n"
     ]
    },
    {
     "name": "stderr",
     "output_type": "stream",
     "text": [
      " 59%|█████▉    | 17765/30000 [04:14<02:19, 87.73it/s]"
     ]
    },
    {
     "name": "stdout",
     "output_type": "stream",
     "text": [
      "\n",
      "     Error type 4 has occured after   136418 PYEXEC calls:\n",
      "     (PYSTRF:) caught in infinite loop\n"
     ]
    },
    {
     "name": "stderr",
     "output_type": "stream",
     "text": [
      " 61%|██████    | 18370/30000 [04:21<02:16, 85.00it/s]"
     ]
    },
    {
     "name": "stdout",
     "output_type": "stream",
     "text": [
      "\n",
      "     Error type 4 has occured after   140824 PYEXEC calls:\n",
      "     (PYSTRF:) caught in infinite loop\n",
      "\n",
      "     Error type 4 has occured after   140825 PYEXEC calls:\n",
      "     (PYSTRF:) caught in infinite loop\n",
      "\n",
      "     Error type 2 has occured after   140825 PYEXEC calls:\n",
      "     (PYINDF:) unphysical flavour combination\n"
     ]
    },
    {
     "name": "stderr",
     "output_type": "stream",
     "text": [
      " 61%|██████▏   | 18398/30000 [04:21<02:12, 87.38it/s]"
     ]
    },
    {
     "name": "stdout",
     "output_type": "stream",
     "text": [
      "\n",
      "     Error type 4 has occured after   140993 PYEXEC calls:\n",
      "     (PYSTRF:) caught in infinite loop\n",
      "\n",
      "     Error type 4 has occured after   141094 PYEXEC calls:\n",
      "     (PYSTRF:) caught in infinite loop\n",
      "\n",
      "     Error type 4 has occured after   141116 PYEXEC calls:\n",
      "     (PYSTRF:) caught in infinite loop\n",
      "\n",
      "     Error type 4 has occured after   141117 PYEXEC calls:\n",
      "     (PYSTRF:) caught in infinite loop\n"
     ]
    },
    {
     "name": "stderr",
     "output_type": "stream",
     "text": [
      " 62%|██████▏   | 18500/30000 [04:23<02:57, 64.91it/s]"
     ]
    },
    {
     "name": "stdout",
     "output_type": "stream",
     "text": [
      "\n",
      "     Error type 4 has occured after   141860 PYEXEC calls:\n",
      "     (PYSTRF:) caught in infinite loop\n",
      "\n",
      "     Error type 4 has occured after   141861 PYEXEC calls:\n",
      "     (PYSTRF:) caught in infinite loop\n",
      "\n",
      "     Error type 2 has occured after   141861 PYEXEC calls:\n",
      "     (PYINDF:) unphysical flavour combination\n"
     ]
    },
    {
     "name": "stderr",
     "output_type": "stream",
     "text": [
      " 62%|██████▏   | 18634/30000 [04:24<02:20, 80.99it/s]"
     ]
    },
    {
     "name": "stdout",
     "output_type": "stream",
     "text": [
      "\n",
      "     Error type 4 has occured after   142933 PYEXEC calls:\n",
      "     (PYSTRF:) caught in infinite loop\n",
      "\n",
      "     Error type 2 has occured after   142933 PYEXEC calls:\n",
      "     (PYINDF:) unphysical flavour combination\n"
     ]
    },
    {
     "name": "stderr",
     "output_type": "stream",
     "text": [
      " 62%|██████▏   | 18683/30000 [04:25<02:00, 93.93it/s]"
     ]
    },
    {
     "name": "stdout",
     "output_type": "stream",
     "text": [
      "\n",
      "     Error type 4 has occured after   143254 PYEXEC calls:\n",
      "     (PYSTRF:) caught in infinite loop\n",
      "\n",
      "     Error type 2 has occured after   143254 PYEXEC calls:\n",
      "     (PYINDF:) unphysical flavour combination\n"
     ]
    },
    {
     "name": "stderr",
     "output_type": "stream",
     "text": [
      " 63%|██████▎   | 18760/30000 [04:26<02:25, 77.05it/s]"
     ]
    },
    {
     "name": "stdout",
     "output_type": "stream",
     "text": [
      "\n",
      "     Error type 4 has occured after   143878 PYEXEC calls:\n",
      "     (PYSTRF:) caught in infinite loop\n"
     ]
    },
    {
     "name": "stderr",
     "output_type": "stream",
     "text": [
      " 63%|██████▎   | 18887/30000 [04:28<02:00, 92.27it/s]"
     ]
    },
    {
     "name": "stdout",
     "output_type": "stream",
     "text": [
      "\n",
      "     Error type 4 has occured after   144774 PYEXEC calls:\n",
      "     (PYSTRF:) caught in infinite loop\n",
      "\n",
      "     Error type 2 has occured after   144774 PYEXEC calls:\n",
      "     (PYINDF:) unphysical flavour combination\n"
     ]
    },
    {
     "name": "stderr",
     "output_type": "stream",
     "text": [
      " 63%|██████▎   | 18939/30000 [04:28<01:53, 97.40it/s]"
     ]
    },
    {
     "name": "stdout",
     "output_type": "stream",
     "text": [
      "\n",
      "     Error type 4 has occured after   145132 PYEXEC calls:\n",
      "     (PYSTRF:) caught in infinite loop\n",
      "\n",
      "     Error type 2 has occured after   145132 PYEXEC calls:\n",
      "     (PYINDF:) unphysical flavour combination\n"
     ]
    },
    {
     "name": "stderr",
     "output_type": "stream",
     "text": [
      " 65%|██████▍   | 19388/30000 [04:34<02:23, 74.02it/s]"
     ]
    },
    {
     "name": "stdout",
     "output_type": "stream",
     "text": [
      "\n",
      "     Error type 4 has occured after   148673 PYEXEC calls:\n",
      "     (PYSTRF:) caught in infinite loop\n",
      "\n",
      "     Error type 2 has occured after   148673 PYEXEC calls:\n",
      "     (PYINDF:) unphysical flavour combination\n",
      "\n",
      "     Error type 4 has occured after   148674 PYEXEC calls:\n",
      "     (PYSTRF:) caught in infinite loop\n",
      "\n",
      "     Error type 2 has occured after   148674 PYEXEC calls:\n",
      "     (PYINDF:) unphysical flavour combination\n"
     ]
    },
    {
     "name": "stderr",
     "output_type": "stream",
     "text": [
      " 65%|██████▌   | 19612/30000 [04:36<01:50, 93.87it/s]"
     ]
    },
    {
     "name": "stdout",
     "output_type": "stream",
     "text": [
      "\n",
      "     Error type 4 has occured after   150276 PYEXEC calls:\n",
      "     (PYSTRF:) caught in infinite loop\n",
      "\n",
      "     Error type 2 has occured after   150276 PYEXEC calls:\n",
      "     (PYINDF:) unphysical flavour combination\n"
     ]
    },
    {
     "name": "stderr",
     "output_type": "stream",
     "text": [
      " 66%|██████▌   | 19720/30000 [04:37<01:54, 89.61it/s]"
     ]
    },
    {
     "name": "stdout",
     "output_type": "stream",
     "text": [
      "\n",
      "     Error type 4 has occured after   151094 PYEXEC calls:\n",
      "     (PYSTRF:) caught in infinite loop\n",
      "\n",
      "     Error type 2 has occured after   151094 PYEXEC calls:\n",
      "     (PYINDF:) unphysical flavour combination\n"
     ]
    },
    {
     "name": "stderr",
     "output_type": "stream",
     "text": [
      " 69%|██████▊   | 20617/30000 [04:48<01:42, 91.98it/s]"
     ]
    },
    {
     "name": "stdout",
     "output_type": "stream",
     "text": [
      "\n",
      "     Error type 4 has occured after   157823 PYEXEC calls:\n",
      "     (PYSTRF:) caught in infinite loop\n"
     ]
    },
    {
     "name": "stderr",
     "output_type": "stream",
     "text": [
      " 69%|██████▉   | 20677/30000 [04:49<01:39, 94.08it/s]"
     ]
    },
    {
     "name": "stdout",
     "output_type": "stream",
     "text": [
      "\n",
      "     Error type 4 has occured after   158295 PYEXEC calls:\n",
      "     (PYSTRF:) caught in infinite loop\n",
      "\n",
      "     Error type 4 has occured after   158296 PYEXEC calls:\n",
      "     (PYSTRF:) caught in infinite loop\n"
     ]
    },
    {
     "name": "stderr",
     "output_type": "stream",
     "text": [
      " 69%|██████▉   | 20755/30000 [04:49<01:38, 93.69it/s]"
     ]
    },
    {
     "name": "stdout",
     "output_type": "stream",
     "text": [
      "\n",
      "     Error type 4 has occured after   158858 PYEXEC calls:\n",
      "     (PYSTRF:) caught in infinite loop\n"
     ]
    },
    {
     "name": "stderr",
     "output_type": "stream",
     "text": [
      " 70%|██████▉   | 20907/30000 [04:51<01:41, 89.81it/s]"
     ]
    },
    {
     "name": "stdout",
     "output_type": "stream",
     "text": [
      "\n",
      "     Error type 4 has occured after   160006 PYEXEC calls:\n",
      "     (PYSTRF:) caught in infinite loop\n"
     ]
    },
    {
     "name": "stderr",
     "output_type": "stream",
     "text": [
      " 70%|███████   | 21131/30000 [04:53<01:35, 92.77it/s]"
     ]
    },
    {
     "name": "stdout",
     "output_type": "stream",
     "text": [
      "\n",
      "     Error type 4 has occured after   161756 PYEXEC calls:\n",
      "     (PYSTRF:) caught in infinite loop\n"
     ]
    },
    {
     "name": "stderr",
     "output_type": "stream",
     "text": [
      " 71%|███████   | 21365/30000 [04:56<01:34, 91.54it/s]"
     ]
    },
    {
     "name": "stdout",
     "output_type": "stream",
     "text": [
      "\n",
      "     Error type 4 has occured after   163509 PYEXEC calls:\n",
      "     (PYSTRF:) caught in infinite loop\n",
      "\n",
      "     Error type 2 has occured after   163509 PYEXEC calls:\n",
      "     (PYINDF:) unphysical flavour combination\n"
     ]
    },
    {
     "name": "stderr",
     "output_type": "stream",
     "text": [
      " 72%|███████▏  | 21651/30000 [05:00<02:07, 65.35it/s]"
     ]
    },
    {
     "name": "stdout",
     "output_type": "stream",
     "text": [
      "\n",
      "     Error type 4 has occured after   165751 PYEXEC calls:\n",
      "     (PYSTRF:) caught in infinite loop\n",
      "\n",
      "     Error type 4 has occured after   165753 PYEXEC calls:\n",
      "     (PYSTRF:) caught in infinite loop\n"
     ]
    },
    {
     "name": "stderr",
     "output_type": "stream",
     "text": [
      " 72%|███████▏  | 21692/30000 [05:00<01:37, 84.82it/s]"
     ]
    },
    {
     "name": "stdout",
     "output_type": "stream",
     "text": [
      "\n",
      "     Error type 4 has occured after   166057 PYEXEC calls:\n",
      "     (PYSTRF:) caught in infinite loop\n"
     ]
    },
    {
     "name": "stderr",
     "output_type": "stream",
     "text": [
      " 73%|███████▎  | 21783/30000 [05:01<01:30, 90.78it/s]"
     ]
    },
    {
     "name": "stdout",
     "output_type": "stream",
     "text": [
      "\n",
      "     Error type 4 has occured after   166731 PYEXEC calls:\n",
      "     (PYSTRF:) caught in infinite loop\n"
     ]
    },
    {
     "name": "stderr",
     "output_type": "stream",
     "text": [
      " 73%|███████▎  | 21910/30000 [05:03<01:32, 87.44it/s]"
     ]
    },
    {
     "name": "stdout",
     "output_type": "stream",
     "text": [
      "\n",
      "     Error type 4 has occured after   167714 PYEXEC calls:\n",
      "     (PYSTRF:) caught in infinite loop\n"
     ]
    },
    {
     "name": "stderr",
     "output_type": "stream",
     "text": [
      " 73%|███████▎  | 21959/30000 [05:03<01:29, 90.04it/s]"
     ]
    },
    {
     "name": "stdout",
     "output_type": "stream",
     "text": [
      "\n",
      "     Error type 4 has occured after   168050 PYEXEC calls:\n",
      "     (PYSTRF:) caught in infinite loop\n"
     ]
    },
    {
     "name": "stderr",
     "output_type": "stream",
     "text": [
      " 74%|███████▍  | 22294/30000 [05:07<01:28, 87.38it/s]"
     ]
    },
    {
     "name": "stdout",
     "output_type": "stream",
     "text": [
      "\n",
      "     Error type 4 has occured after   170684 PYEXEC calls:\n",
      "     (PYSTRF:) caught in infinite loop\n"
     ]
    },
    {
     "name": "stderr",
     "output_type": "stream",
     "text": [
      " 74%|███████▍  | 22330/30000 [05:08<01:33, 81.85it/s]"
     ]
    },
    {
     "name": "stdout",
     "output_type": "stream",
     "text": [
      "\n",
      "     Error type 4 has occured after   170979 PYEXEC calls:\n",
      "     (PYSTRF:) caught in infinite loop\n",
      "\n",
      "     Error type 2 has occured after   170979 PYEXEC calls:\n",
      "     (PYINDF:) unphysical flavour combination\n"
     ]
    },
    {
     "name": "stderr",
     "output_type": "stream",
     "text": [
      " 75%|███████▍  | 22449/30000 [05:09<01:30, 83.23it/s]"
     ]
    },
    {
     "name": "stdout",
     "output_type": "stream",
     "text": [
      "\n",
      "     Error type 4 has occured after   171853 PYEXEC calls:\n",
      "     (PYSTRF:) caught in infinite loop\n",
      "\n",
      "     Error type 4 has occured after   171922 PYEXEC calls:\n",
      "     (PYSTRF:) caught in infinite loop\n",
      "\n",
      "     Error type 2 has occured after   171922 PYEXEC calls:\n",
      "     (PYINDF:) unphysical flavour combination\n"
     ]
    },
    {
     "name": "stderr",
     "output_type": "stream",
     "text": [
      " 76%|███████▌  | 22735/30000 [05:12<01:24, 85.71it/s]"
     ]
    },
    {
     "name": "stdout",
     "output_type": "stream",
     "text": [
      "\n",
      "     Error type 4 has occured after   173967 PYEXEC calls:\n",
      "     (PYSTRF:) caught in infinite loop\n",
      "\n",
      "     Error type 2 has occured after   173967 PYEXEC calls:\n",
      "     (PYINDF:) unphysical flavour combination\n",
      "\n",
      "     Error type 4 has occured after   174066 PYEXEC calls:\n",
      "     (PYSTRF:) caught in infinite loop\n"
     ]
    },
    {
     "name": "stderr",
     "output_type": "stream",
     "text": [
      " 77%|███████▋  | 23039/30000 [05:16<01:15, 92.56it/s]"
     ]
    },
    {
     "name": "stdout",
     "output_type": "stream",
     "text": [
      "\n",
      "     Error type 4 has occured after   176275 PYEXEC calls:\n",
      "     (PYSTRF:) caught in infinite loop\n",
      "\n",
      "     Error type 2 has occured after   176275 PYEXEC calls:\n",
      "     (PYINDF:) unphysical flavour combination\n"
     ]
    },
    {
     "name": "stderr",
     "output_type": "stream",
     "text": [
      " 77%|███████▋  | 23081/30000 [05:16<01:13, 94.74it/s]"
     ]
    },
    {
     "name": "stdout",
     "output_type": "stream",
     "text": [
      "\n",
      "     Error type 4 has occured after   176621 PYEXEC calls:\n",
      "     (PYSTRF:) caught in infinite loop\n",
      "\n",
      "     Error type 2 has occured after   176621 PYEXEC calls:\n",
      "     (PYINDF:) unphysical flavour combination\n"
     ]
    },
    {
     "name": "stderr",
     "output_type": "stream",
     "text": [
      " 78%|███████▊  | 23371/30000 [05:19<01:19, 83.14it/s]"
     ]
    },
    {
     "name": "stdout",
     "output_type": "stream",
     "text": [
      "\n",
      "     Error type 4 has occured after   178748 PYEXEC calls:\n",
      "     (PYSTRF:) caught in infinite loop\n"
     ]
    },
    {
     "name": "stderr",
     "output_type": "stream",
     "text": [
      " 78%|███████▊  | 23480/30000 [05:21<01:09, 94.25it/s]"
     ]
    },
    {
     "name": "stdout",
     "output_type": "stream",
     "text": [
      "\n",
      "     Error type 4 has occured after   179612 PYEXEC calls:\n",
      "     (PYSTRF:) caught in infinite loop\n"
     ]
    },
    {
     "name": "stderr",
     "output_type": "stream",
     "text": [
      " 79%|███████▉  | 23646/30000 [05:23<01:10, 90.20it/s]"
     ]
    },
    {
     "name": "stdout",
     "output_type": "stream",
     "text": [
      "\n",
      "     Error type 4 has occured after   180893 PYEXEC calls:\n",
      "     (PYSTRF:) caught in infinite loop\n",
      "\n",
      "     Error type 2 has occured after   180893 PYEXEC calls:\n",
      "     (PYINDF:) unphysical flavour combination\n",
      "\n",
      "     Error type 4 has occured after   180894 PYEXEC calls:\n",
      "     (PYSTRF:) caught in infinite loop\n",
      "\n",
      "     Error type 2 has occured after   180894 PYEXEC calls:\n",
      "     (PYINDF:) unphysical flavour combination\n"
     ]
    },
    {
     "name": "stderr",
     "output_type": "stream",
     "text": [
      " 80%|███████▉  | 23982/30000 [05:26<01:02, 96.13it/s]"
     ]
    },
    {
     "name": "stdout",
     "output_type": "stream",
     "text": [
      "\n",
      "     Error type 4 has occured after   183513 PYEXEC calls:\n",
      "     (PYSTRF:) caught in infinite loop\n"
     ]
    },
    {
     "name": "stderr",
     "output_type": "stream",
     "text": [
      " 80%|████████  | 24069/30000 [05:27<01:08, 86.16it/s]"
     ]
    },
    {
     "name": "stdout",
     "output_type": "stream",
     "text": [
      "\n",
      "     Error type 4 has occured after   184226 PYEXEC calls:\n",
      "     (PYSTRF:) caught in infinite loop\n"
     ]
    },
    {
     "name": "stderr",
     "output_type": "stream",
     "text": [
      " 81%|████████  | 24209/30000 [05:29<01:05, 88.96it/s]"
     ]
    },
    {
     "name": "stdout",
     "output_type": "stream",
     "text": [
      "\n",
      "     Error type 4 has occured after   185277 PYEXEC calls:\n",
      "     (PYSTRF:) caught in infinite loop\n",
      "\n",
      "     Error type 4 has occured after   185278 PYEXEC calls:\n",
      "     (PYSTRF:) caught in infinite loop\n",
      "\n",
      "     Error type 2 has occured after   185278 PYEXEC calls:\n",
      "     (PYINDF:) unphysical flavour combination\n"
     ]
    },
    {
     "name": "stderr",
     "output_type": "stream",
     "text": [
      " 81%|████████  | 24321/30000 [05:30<01:01, 92.88it/s]"
     ]
    },
    {
     "name": "stdout",
     "output_type": "stream",
     "text": [
      "\n",
      "     Error type 4 has occured after   186177 PYEXEC calls:\n",
      "     (PYSTRF:) caught in infinite loop\n"
     ]
    },
    {
     "name": "stderr",
     "output_type": "stream",
     "text": [
      " 82%|████████▏ | 24485/30000 [05:32<00:57, 96.56it/s] "
     ]
    },
    {
     "name": "stdout",
     "output_type": "stream",
     "text": [
      "\n",
      "     Error type 4 has occured after   187352 PYEXEC calls:\n",
      "     (PYSTRF:) caught in infinite loop\n"
     ]
    },
    {
     "name": "stderr",
     "output_type": "stream",
     "text": [
      " 84%|████████▍ | 25163/30000 [05:41<01:16, 63.45it/s]"
     ]
    },
    {
     "name": "stdout",
     "output_type": "stream",
     "text": [
      "\n",
      "     Error type 4 has occured after   192534 PYEXEC calls:\n",
      "     (PYSTRF:) caught in infinite loop\n",
      "\n",
      "     Error type 4 has occured after   192589 PYEXEC calls:\n",
      "     (PYSTRF:) caught in infinite loop\n",
      "\n",
      "     Error type 2 has occured after   192589 PYEXEC calls:\n",
      "     (PYINDF:) unphysical flavour combination\n"
     ]
    },
    {
     "name": "stderr",
     "output_type": "stream",
     "text": [
      " 85%|████████▌ | 25589/30000 [05:46<01:09, 63.39it/s]"
     ]
    },
    {
     "name": "stdout",
     "output_type": "stream",
     "text": [
      "\n",
      "     Error type 4 has occured after   195803 PYEXEC calls:\n",
      "     (PYSTRF:) caught in infinite loop\n"
     ]
    },
    {
     "name": "stderr",
     "output_type": "stream",
     "text": [
      " 86%|████████▌ | 25780/30000 [05:48<00:50, 83.68it/s]"
     ]
    },
    {
     "name": "stdout",
     "output_type": "stream",
     "text": [
      "\n",
      "     Error type 4 has occured after   197275 PYEXEC calls:\n",
      "     (PYSTRF:) caught in infinite loop\n",
      "\n",
      "     Error type 2 has occured after   197275 PYEXEC calls:\n",
      "     (PYINDF:) unphysical flavour combination\n"
     ]
    },
    {
     "name": "stderr",
     "output_type": "stream",
     "text": [
      " 86%|████████▌ | 25869/30000 [05:49<00:46, 88.53it/s]"
     ]
    },
    {
     "name": "stdout",
     "output_type": "stream",
     "text": [
      "\n",
      "     Error type 4 has occured after   197960 PYEXEC calls:\n",
      "     (PYSTRF:) caught in infinite loop\n"
     ]
    },
    {
     "name": "stderr",
     "output_type": "stream",
     "text": [
      " 87%|████████▋ | 26158/30000 [05:53<00:44, 86.95it/s]"
     ]
    },
    {
     "name": "stdout",
     "output_type": "stream",
     "text": [
      "\n",
      "     Error type 4 has occured after   200109 PYEXEC calls:\n",
      "     (PYSTRF:) caught in infinite loop\n",
      "\n",
      "     Error type 2 has occured after   200109 PYEXEC calls:\n",
      "     (PYINDF:) unphysical flavour combination\n"
     ]
    },
    {
     "name": "stderr",
     "output_type": "stream",
     "text": [
      " 88%|████████▊ | 26494/30000 [05:57<00:55, 63.25it/s]"
     ]
    },
    {
     "name": "stdout",
     "output_type": "stream",
     "text": [
      "\n",
      "     Error type 4 has occured after   202779 PYEXEC calls:\n",
      "     (PYSTRF:) caught in infinite loop\n",
      "\n",
      "     Error type 2 has occured after   202779 PYEXEC calls:\n",
      "     (PYINDF:) unphysical flavour combination\n",
      "\n",
      "     Error type 4 has occured after   202780 PYEXEC calls:\n",
      "     (PYSTRF:) caught in infinite loop\n",
      "\n",
      "     Error type 2 has occured after   202780 PYEXEC calls:\n",
      "     (PYINDF:) unphysical flavour combination\n"
     ]
    },
    {
     "name": "stderr",
     "output_type": "stream",
     "text": [
      " 89%|████████▊ | 26591/30000 [05:58<00:45, 74.28it/s]"
     ]
    },
    {
     "name": "stdout",
     "output_type": "stream",
     "text": [
      "\n",
      "     Error type 4 has occured after   203464 PYEXEC calls:\n",
      "     (PYSTRF:) caught in infinite loop\n",
      "\n",
      "     Error type 2 has occured after   203464 PYEXEC calls:\n",
      "     (PYINDF:) unphysical flavour combination\n"
     ]
    },
    {
     "name": "stderr",
     "output_type": "stream",
     "text": [
      " 89%|████████▉ | 26752/30000 [06:00<00:40, 80.95it/s]"
     ]
    },
    {
     "name": "stdout",
     "output_type": "stream",
     "text": [
      "\n",
      "     Error type 4 has occured after   204714 PYEXEC calls:\n",
      "     (PYSTRF:) caught in infinite loop\n"
     ]
    },
    {
     "name": "stderr",
     "output_type": "stream",
     "text": [
      " 89%|████████▉ | 26776/30000 [06:01<00:50, 63.85it/s]"
     ]
    },
    {
     "name": "stdout",
     "output_type": "stream",
     "text": [
      "\n",
      "     Error type 4 has occured after   204904 PYEXEC calls:\n",
      "     (PYSTRF:) caught in infinite loop\n",
      "\n",
      "     Error type 2 has occured after   204904 PYEXEC calls:\n",
      "     (PYINDF:) unphysical flavour combination\n"
     ]
    },
    {
     "name": "stderr",
     "output_type": "stream",
     "text": [
      " 90%|████████▉ | 26856/30000 [06:02<00:39, 80.45it/s]"
     ]
    },
    {
     "name": "stdout",
     "output_type": "stream",
     "text": [
      "\n",
      "     Error type 4 has occured after   205479 PYEXEC calls:\n",
      "     (PYSTRF:) caught in infinite loop\n"
     ]
    },
    {
     "name": "stderr",
     "output_type": "stream",
     "text": [
      " 90%|████████▉ | 26935/30000 [06:03<00:46, 66.44it/s]"
     ]
    },
    {
     "name": "stdout",
     "output_type": "stream",
     "text": [
      "\n",
      "     Error type 4 has occured after   206087 PYEXEC calls:\n",
      "     (PYSTRF:) caught in infinite loop\n",
      "\n",
      "     Error type 2 has occured after   206087 PYEXEC calls:\n",
      "     (PYINDF:) unphysical flavour combination\n"
     ]
    },
    {
     "name": "stderr",
     "output_type": "stream",
     "text": [
      " 90%|█████████ | 27069/30000 [06:05<00:37, 78.88it/s]"
     ]
    },
    {
     "name": "stdout",
     "output_type": "stream",
     "text": [
      "\n",
      "     Error type 4 has occured after   207107 PYEXEC calls:\n",
      "     (PYSTRF:) caught in infinite loop\n",
      "\n",
      "     Error type 2 has occured after   207107 PYEXEC calls:\n",
      "     (PYINDF:) unphysical flavour combination\n"
     ]
    },
    {
     "name": "stderr",
     "output_type": "stream",
     "text": [
      " 91%|█████████ | 27193/30000 [06:06<00:40, 69.07it/s]"
     ]
    },
    {
     "name": "stdout",
     "output_type": "stream",
     "text": [
      "\n",
      "     Error type 4 has occured after   208039 PYEXEC calls:\n",
      "     (PYSTRF:) caught in infinite loop\n"
     ]
    },
    {
     "name": "stderr",
     "output_type": "stream",
     "text": [
      " 91%|█████████ | 27240/30000 [06:07<00:32, 84.81it/s]"
     ]
    },
    {
     "name": "stdout",
     "output_type": "stream",
     "text": [
      "\n",
      "     Error type 4 has occured after   208361 PYEXEC calls:\n",
      "     (PYSTRF:) caught in infinite loop\n",
      "\n",
      "     Error type 4 has occured after   208362 PYEXEC calls:\n",
      "     (PYSTRF:) caught in infinite loop\n",
      "\n",
      "     Error type 2 has occured after   208362 PYEXEC calls:\n",
      "     (PYINDF:) unphysical flavour combination\n"
     ]
    },
    {
     "name": "stderr",
     "output_type": "stream",
     "text": [
      " 92%|█████████▏| 27546/30000 [06:10<00:28, 87.31it/s]"
     ]
    },
    {
     "name": "stdout",
     "output_type": "stream",
     "text": [
      "\n",
      "     Error type 4 has occured after   210747 PYEXEC calls:\n",
      "     (PYSTRF:) caught in infinite loop\n"
     ]
    },
    {
     "name": "stderr",
     "output_type": "stream",
     "text": [
      " 94%|█████████▍| 28149/30000 [06:17<00:21, 84.82it/s]"
     ]
    },
    {
     "name": "stdout",
     "output_type": "stream",
     "text": [
      "\n",
      "     Error type 4 has occured after   215321 PYEXEC calls:\n",
      "     (PYSTRF:) caught in infinite loop\n",
      "\n",
      "     Error type 2 has occured after   215321 PYEXEC calls:\n",
      "     (PYINDF:) unphysical flavour combination\n",
      "\n",
      "     Error type 4 has occured after   215343 PYEXEC calls:\n",
      "     (PYSTRF:) caught in infinite loop\n",
      "\n",
      "     Error type 4 has occured after   215344 PYEXEC calls:\n",
      "     (PYSTRF:) caught in infinite loop\n"
     ]
    },
    {
     "name": "stderr",
     "output_type": "stream",
     "text": [
      " 95%|█████████▍| 28371/30000 [06:20<00:17, 91.45it/s]"
     ]
    },
    {
     "name": "stdout",
     "output_type": "stream",
     "text": [
      "\n",
      "     Error type 4 has occured after   217047 PYEXEC calls:\n",
      "     (PYSTRF:) caught in infinite loop\n",
      "\n",
      "     Error type 2 has occured after   217047 PYEXEC calls:\n",
      "     (PYINDF:) unphysical flavour combination\n",
      "\n",
      "     Error type 4 has occured after   217048 PYEXEC calls:\n",
      "     (PYSTRF:) caught in infinite loop\n",
      "\n",
      "     Error type 2 has occured after   217048 PYEXEC calls:\n",
      "     (PYINDF:) unphysical flavour combination\n",
      "\n",
      "     Error type 4 has occured after   217136 PYEXEC calls:\n",
      "     (PYSTRF:) caught in infinite loop\n",
      "\n",
      "     Error type 2 has occured after   217136 PYEXEC calls:\n",
      "     (PYINDF:) unphysical flavour combination\n"
     ]
    },
    {
     "name": "stderr",
     "output_type": "stream",
     "text": [
      " 95%|█████████▍| 28390/30000 [06:20<00:19, 84.13it/s]"
     ]
    },
    {
     "name": "stdout",
     "output_type": "stream",
     "text": [
      "\n",
      "     Error type 4 has occured after   217257 PYEXEC calls:\n",
      "     (PYSTRF:) caught in infinite loop\n"
     ]
    },
    {
     "name": "stderr",
     "output_type": "stream",
     "text": [
      " 95%|█████████▍| 28489/30000 [06:21<00:16, 89.99it/s]"
     ]
    },
    {
     "name": "stdout",
     "output_type": "stream",
     "text": [
      "\n",
      "     Error type 4 has occured after   217953 PYEXEC calls:\n",
      "     (PYSTRF:) caught in infinite loop\n"
     ]
    },
    {
     "name": "stderr",
     "output_type": "stream",
     "text": [
      " 96%|█████████▌| 28664/30000 [06:23<00:15, 86.31it/s]"
     ]
    },
    {
     "name": "stdout",
     "output_type": "stream",
     "text": [
      "\n",
      "     Error type 4 has occured after   219270 PYEXEC calls:\n",
      "     (PYSTRF:) caught in infinite loop\n"
     ]
    },
    {
     "name": "stderr",
     "output_type": "stream",
     "text": [
      " 96%|█████████▌| 28807/30000 [06:25<00:13, 86.80it/s]"
     ]
    },
    {
     "name": "stdout",
     "output_type": "stream",
     "text": [
      "\n",
      "     Error type 4 has occured after   220371 PYEXEC calls:\n",
      "     (PYSTRF:) caught in infinite loop\n",
      "\n",
      "     Error type 2 has occured after   220371 PYEXEC calls:\n",
      "     (PYINDF:) unphysical flavour combination\n"
     ]
    },
    {
     "name": "stderr",
     "output_type": "stream",
     "text": [
      " 96%|█████████▋| 28875/30000 [06:26<00:12, 88.78it/s]"
     ]
    },
    {
     "name": "stdout",
     "output_type": "stream",
     "text": [
      "\n",
      "     Error type 4 has occured after   220833 PYEXEC calls:\n",
      "     (PYSTRF:) caught in infinite loop\n"
     ]
    },
    {
     "name": "stderr",
     "output_type": "stream",
     "text": [
      " 97%|█████████▋| 29028/30000 [06:27<00:10, 93.71it/s]"
     ]
    },
    {
     "name": "stdout",
     "output_type": "stream",
     "text": [
      "\n",
      "     Error type 4 has occured after   222024 PYEXEC calls:\n",
      "     (PYSTRF:) caught in infinite loop\n",
      "\n",
      "     Error type 4 has occured after   222026 PYEXEC calls:\n",
      "     (PYSTRF:) caught in infinite loop\n"
     ]
    },
    {
     "name": "stderr",
     "output_type": "stream",
     "text": [
      " 97%|█████████▋| 29102/30000 [06:28<00:10, 82.92it/s]"
     ]
    },
    {
     "name": "stdout",
     "output_type": "stream",
     "text": [
      "\n",
      "     Error type 4 has occured after   222628 PYEXEC calls:\n",
      "     (PYSTRF:) caught in infinite loop\n",
      "\n",
      "     Error type 4 has occured after   222671 PYEXEC calls:\n",
      "     (PYSTRF:) caught in infinite loop\n",
      "\n",
      "     Error type 2 has occured after   222671 PYEXEC calls:\n",
      "     (PYINDF:) unphysical flavour combination\n"
     ]
    },
    {
     "name": "stderr",
     "output_type": "stream",
     "text": [
      " 97%|█████████▋| 29140/30000 [06:29<00:11, 72.12it/s]"
     ]
    },
    {
     "name": "stdout",
     "output_type": "stream",
     "text": [
      "\n",
      "     Error type 4 has occured after   222940 PYEXEC calls:\n",
      "     (PYSTRF:) caught in infinite loop\n",
      "\n",
      "     Error type 4 has occured after   223044 PYEXEC calls:\n",
      "     (PYSTRF:) caught in infinite loop\n",
      "\n",
      "     Error type 2 has occured after   223044 PYEXEC calls:\n",
      "     (PYINDF:) unphysical flavour combination\n"
     ]
    },
    {
     "name": "stderr",
     "output_type": "stream",
     "text": [
      " 99%|█████████▉| 29678/30000 [06:35<00:03, 85.07it/s]"
     ]
    },
    {
     "name": "stdout",
     "output_type": "stream",
     "text": [
      "\n",
      "     Error type 4 has occured after   227012 PYEXEC calls:\n",
      "     (PYSTRF:) caught in infinite loop\n"
     ]
    },
    {
     "name": "stderr",
     "output_type": "stream",
     "text": [
      " 99%|█████████▉| 29838/30000 [06:37<00:02, 63.77it/s]"
     ]
    },
    {
     "name": "stdout",
     "output_type": "stream",
     "text": [
      "\n",
      "     Error type 4 has occured after   228185 PYEXEC calls:\n",
      "     (PYSTRF:) caught in infinite loop\n"
     ]
    },
    {
     "name": "stderr",
     "output_type": "stream",
     "text": [
      "100%|██████████| 30000/30000 [06:39<00:00, 75.10it/s]\n"
     ]
    }
   ],
   "source": [
    "from tqdm import tqdm\n",
    "# mceq_decaying_pdgs = [111, -211, 211]\n",
    "\n",
    "# mceq_decaying_pdgs = [-11, 11, -12, 12, -14, 14, 16, 22,\n",
    "#                         111, 130, -211, 211, 310,\n",
    "#                         -321, 321, -2112, 2112, \n",
    "#                         -2212, 2212, -3122, 3122]\n",
    "\n",
    "# mceq_decaying_pdgs = [111, 130, 310, -13, 13, -211, 211]\n",
    "# mceq_decaying_pdgs = [111, 130, 310]\n",
    "\n",
    "# mceq_decaying_pdgs = [-11, 11, -12, 12, -14, 14, \n",
    "#                       -16, 16, 22, \n",
    "#                         111, 130, 310, -321, 321, \n",
    "#                         -411, 411, -421, 421, -431, 431, \n",
    "#                         -2112, 2112, -2212, 2212, -3122, 3122\n",
    "#                         ]\n",
    "\n",
    "mceq_decaying_pdgs = [-11, 11, -12, 12, -13, 13, -14, 14, \n",
    "                      -16, 16, 22, \n",
    "                        111, 130, -211, 211, 310, -321, 321, \n",
    "                        -411, 411, -421, 421, -431, 431, \n",
    "                        -2112, 2112, -2212, 2212, -3122, 3122\n",
    "                        ]\n",
    "\n",
    "\n",
    "cas_driver.simulation_parameters(pdg = 2212, energy = 1e2, \n",
    "                                 zenith_angle = 30, xdepth = 0,\n",
    "                                 threshold_energy = 1e-6, stop_height = 0,\n",
    "                                 accumulate_runs = True, reset_ids = True,\n",
    "                                 mceq_decaying_pdgs = mceq_decaying_pdgs)\n",
    "\n",
    "niter = 30000\n",
    "for i in tqdm(range(niter), total = niter):\n",
    "    cas_driver.run()"
   ]
  },
  {
   "cell_type": "code",
   "execution_count": 3,
   "metadata": {},
   "outputs": [
    {
     "name": "stdout",
     "output_type": "stream",
     "text": [
      "Number of runs = 30000\n",
      "Initial state:\n",
      "  $p$(2212) with energy = 1.000e+02\n",
      "\n",
      "Final state:\n",
      "  Number of all particles in cascade = 6572643\n",
      "  Number of final particles = 4388788\n",
      "  Number of interactions = 193041\n",
      "  Number of decays = 1990814\n",
      "  Max number of generations = 15\n",
      "\n",
      "  Max xdepth = 1195.9290875457918\n",
      "  Exectution time = 395.19 s\n",
      "  Exectution time per run = 0.01 s\n",
      "  Size of cascade_driver object = 1564.51 Mb\n",
      "\n",
      "Energy conservation in cascade:\n",
      "  Initial energy = 1.00000e+02 GeV\n",
      "  Energy in final particles = 1.13900e+02 GeV\n",
      "  Relative loss(+)/gain(-) -1.390e-01\n",
      "All final ids are unique, min = 5, max = 6572642\n"
     ]
    }
   ],
   "source": [
    "from cascade.cascade_analysis import CascadeAnalysis\n",
    "\n",
    "cascade_analysis = CascadeAnalysis(cas_driver)\n",
    "cascade_analysis.print_stats()\n",
    "# cascade_analysis.search_for_parents()"
   ]
  },
  {
   "cell_type": "code",
   "execution_count": 71,
   "metadata": {},
   "outputs": [
    {
     "name": "stdout",
     "output_type": "stream",
     "text": [
      "{22: 283321, 14: 223293, -14: 220973, 11: 159053, -12: 157329, 2212: 136035, -11: 107777, 12: 106076, 2112: 26304, -13: 17914, 13: 15594, -2212: 1444, -2112: 9, -211: 1, 211: 1}\n"
     ]
    },
    {
     "data": {
      "image/png": "[encoded data removed]",
      "text/plain": [
       "<Figure size 960x720 with 1 Axes>"
      ]
     },
     "metadata": {},
     "output_type": "display_data"
    }
   ],
   "source": [
    "cascade_analysis.plot_ptypes_dist(from_ = 1)"
   ]
  },
  {
   "cell_type": "code",
   "execution_count": 6,
   "metadata": {},
   "outputs": [
    {
     "name": "stdout",
     "output_type": "stream",
     "text": [
      "        22 : 0.19908\n",
      "        14 : 0.05195\n",
      "       -14 : 0.04268\n",
      "      2212 : 0.40527\n",
      "        11 : 0.01173\n",
      "       -12 : 0.00945\n",
      "       -11 : 0.01293\n",
      "        12 : 0.01075\n",
      "       -13 : 0.10417\n",
      "        13 : 0.07938\n",
      "      2112 : 0.09267\n",
      "     -2212 : 0.00568\n",
      "       211 : 0.00912\n",
      "      -211 : 0.00587\n",
      "     -2112 : 0.00446\n",
      "       130 : 0.00063\n",
      "       321 : 0.00014\n",
      "      -321 : 0.00008\n",
      "      3122 : 0.00004\n",
      "Total energy = 1.0460652769669545\n"
     ]
    },
    {
     "data": {
      "image/png": "[encoded data removed]",
      "text/plain": [
       "<Figure size 640x480 with 1 Axes>"
      ]
     },
     "metadata": {},
     "output_type": "display_data"
    }
   ],
   "source": [
    "cascade_analysis.plot_ptypes_energy_dist(from_ = 1)"
   ]
  },
  {
   "cell_type": "code",
   "execution_count": 7,
   "metadata": {},
   "outputs": [
    {
     "name": "stdout",
     "output_type": "stream",
     "text": [
      "Min = 1.91e+04 eV, Max = 1.00e+11 eV\n"
     ]
    },
    {
     "data": {
      "image/png": "[encoded data removed]",
      "text/plain": [
       "<Figure size 640x480 with 1 Axes>"
      ]
     },
     "metadata": {},
     "output_type": "display_data"
    }
   ],
   "source": [
    "cascade_analysis.plot_energy()"
   ]
  },
  {
   "cell_type": "code",
   "execution_count": 8,
   "metadata": {},
   "outputs": [
    {
     "data": {
      "image/png": "[encoded data removed]",
      "text/plain": [
       "<Figure size 640x480 with 1 Axes>"
      ]
     },
     "metadata": {},
     "output_type": "display_data"
    }
   ],
   "source": [
    "cascade_analysis.plot_energy_list(pids = [-11, 11, -12, 12, -13, 13, -14, 14, \n",
    "                                          -211, 211])"
   ]
  },
  {
   "cell_type": "code",
   "execution_count": 167,
   "metadata": {},
   "outputs": [
    {
     "data": {
      "image/png": "[encoded data removed]",
      "text/plain": [
       "<Figure size 960x720 with 1 Axes>"
      ]
     },
     "metadata": {},
     "output_type": "display_data"
    }
   ],
   "source": [
    "cascade_analysis.plot_energy_list(pids = [-11, 11, -13, 13])"
   ]
  },
  {
   "cell_type": "code",
   "execution_count": 4,
   "metadata": {},
   "outputs": [
    {
     "name": "stdout",
     "output_type": "stream",
     "text": [
      "MCEqRun::set_interaction_model(): DPMJETIII191\n",
      "ParticleManager::_init_default_tracking(): Initializing default tracking categories (pi, K, mu)\n",
      "MCEqRun::set_density_model(): Setting density profile to CORSIKA ('BK_USStd', None)\n",
      "MCEqRun::set_primary_model(): Primary model set to Hillas-Gaisser (H3a)\n"
     ]
    }
   ],
   "source": [
    "# %autoreload 2\n",
    "from mceq_comparison import MCEQDistributions\n",
    "import matplotlib.pylab as plt\n",
    "mceq_noloss = MCEQDistributions(\n",
    "                 energy = 1e2,\n",
    "                 pdg_id = 2212,\n",
    "                 theta_deg = 30,\n",
    "                #  slant_depth = 800,\n",
    "                #  slant_depth = 635.9540964571235,\n",
    "                #  slant_depth= 313.4599011471651,\n",
    "                #  slant_depth=1193,\n",
    "                #  slant_depth=2997,\n",
    "                 energy_range=[0.01, 1e4],\n",
    "                 slant_depth=1193.2842407419078,\n",
    "                 pname_tuples = [\n",
    "                     (\"mu\", \"mu+\", \"mu-\"),\n",
    "                     (\"numu\", \"numu\", \"antinumu\"),\n",
    "                     (\"nue\", \"nue\", \"antinue\"),\n",
    "                     (\"pi\", \"pi+\", \"pi-\"),\n",
    "                     (\"el\", \"e+\", \"e-\"),\n",
    "                     (\"e+\", \"e+\"),\n",
    "                     (\"e-\", \"e-\")],\n",
    "                 interaction_model = \"DPMJET-III-19.1\",\n",
    "                 generic_losses_all_charged = False, \n",
    "                 enable_energy_loss = False, \n",
    "                 muon_helicity_dependence = False,\n",
    "                 disable_decays = [],\n",
    "                 hybrid_crossover=0.01,\n",
    "                 density_model = (\"CORSIKA\", (\"BK_USStd\", None)))\n",
    "                #  disable_decays = [-13, 13, -211, 211]\n",
    "mceq_dist = mceq_noloss"
   ]
  },
  {
   "cell_type": "code",
   "execution_count": 25,
   "metadata": {},
   "outputs": [
    {
     "name": "stdout",
     "output_type": "stream",
     "text": [
      "MCEqRun::set_interaction_model(): DPMJETIII191\n",
      "ParticleManager::_init_default_tracking(): Initializing default tracking categories (pi, K, mu)\n",
      "MCEqRun::set_density_model(): Setting density profile to CORSIKA ('BK_USStd', None)\n",
      "MCEqRun::set_primary_model(): Primary model set to Hillas-Gaisser (H3a)\n"
     ]
    }
   ],
   "source": [
    "# %autoreload 2\n",
    "from mceq_comparison import MCEQDistributions\n",
    "import matplotlib.pylab as plt\n",
    "mceq_loss = MCEQDistributions(\n",
    "                 energy = 1e2,\n",
    "                 pdg_id = 2212,\n",
    "                 theta_deg = 30,\n",
    "                #  slant_depth = 800,\n",
    "                #  slant_depth = 635.9540964571235,\n",
    "                #  slant_depth= 313.4599011471651,\n",
    "                #  slant_depth=1193,\n",
    "                #  slant_depth=2997,\n",
    "                 energy_range=[0.1, 1e4],\n",
    "                 slant_depth=1193.2842407419078,\n",
    "                 pname_tuples = [\n",
    "                     (\"mu\", \"mu+\", \"mu-\"),\n",
    "                     (\"numu\", \"numu\", \"antinumu\"),\n",
    "                     (\"nue\", \"nue\", \"antinue\"),\n",
    "                     (\"pi\", \"pi+\", \"pi-\"),\n",
    "                     (\"el\", \"e+\", \"e-\"),\n",
    "                     (\"e+\", \"e+\"),\n",
    "                     (\"e-\", \"e-\")],\n",
    "                 interaction_model = \"DPMJET-III-19.1\",\n",
    "                 generic_losses_all_charged = True, \n",
    "                 enable_energy_loss = True, \n",
    "                 muon_helicity_dependence = True,\n",
    "                 disable_decays = [],\n",
    "                 hybrid_crossover=0.01,\n",
    "                 density_model = (\"CORSIKA\", (\"BK_USStd\", None)))\n",
    "                #  disable_decays = [-13, 13, -211, 211]"
   ]
  },
  {
   "cell_type": "code",
   "execution_count": null,
   "metadata": {},
   "outputs": [],
   "source": [
    "%autoreload 2\n",
    "mceq_loss = MCEQDistributions(\n",
    "                 energy = 1e2,\n",
    "                 pdg_id = 2212,\n",
    "                 theta_deg = 30,\n",
    "                #  slant_depth = 635.9540964571235,\n",
    "                 slant_depth = 638,\n",
    "                 pname_tuples = [\n",
    "                     (\"mu\", \"mu+\", \"mu-\"),\n",
    "                     (\"numu\", \"numu\", \"antinumu\"),\n",
    "                     (\"nue\", \"nue\", \"antinue\"),\n",
    "                     (\"pi\", \"pi+\", \"pi-\")],\n",
    "                 interaction_model = \"DPMJET-III-19.1\",\n",
    "                #  generic_losses_all_charged = False, \n",
    "                 enable_energy_loss = True, \n",
    "                 muon_helicity_dependence = True,\n",
    "                 disable_decays = [],\n",
    "                 density_model = (\"CORSIKA\", (\"USStd\", None)))\n",
    "\n"
   ]
  },
  {
   "cell_type": "code",
   "execution_count": 1,
   "metadata": {},
   "outputs": [
    {
     "ename": "NameError",
     "evalue": "name 'MCEQDistributions' is not defined",
     "output_type": "error",
     "traceback": [
      "\u001b[0;31m---------------------------------------------------------------------------\u001b[0m",
      "\u001b[0;31mNameError\u001b[0m                                 Traceback (most recent call last)",
      "Cell \u001b[0;32mIn[1], line 1\u001b[0m\n\u001b[0;32m----> 1\u001b[0m mceq_loss_bk \u001b[39m=\u001b[39m MCEQDistributions(\n\u001b[1;32m      2\u001b[0m                  energy \u001b[39m=\u001b[39m \u001b[39m1e2\u001b[39m,\n\u001b[1;32m      3\u001b[0m                  pdg_id \u001b[39m=\u001b[39m \u001b[39m2212\u001b[39m,\n\u001b[1;32m      4\u001b[0m                  theta_deg \u001b[39m=\u001b[39m \u001b[39m30\u001b[39m,\n\u001b[1;32m      5\u001b[0m                 \u001b[39m#  slant_depth = 635.9540964571235,\u001b[39;00m\n\u001b[1;32m      6\u001b[0m                  slant_depth \u001b[39m=\u001b[39m \u001b[39m638\u001b[39m,\n\u001b[1;32m      7\u001b[0m                  pname_tuples \u001b[39m=\u001b[39m [\n\u001b[1;32m      8\u001b[0m                      (\u001b[39m\"\u001b[39m\u001b[39mmu\u001b[39m\u001b[39m\"\u001b[39m, \u001b[39m\"\u001b[39m\u001b[39mmu+\u001b[39m\u001b[39m\"\u001b[39m, \u001b[39m\"\u001b[39m\u001b[39mmu-\u001b[39m\u001b[39m\"\u001b[39m),\n\u001b[1;32m      9\u001b[0m                      (\u001b[39m\"\u001b[39m\u001b[39mnumu\u001b[39m\u001b[39m\"\u001b[39m, \u001b[39m\"\u001b[39m\u001b[39mnumu\u001b[39m\u001b[39m\"\u001b[39m, \u001b[39m\"\u001b[39m\u001b[39mantinumu\u001b[39m\u001b[39m\"\u001b[39m),\n\u001b[1;32m     10\u001b[0m                      (\u001b[39m\"\u001b[39m\u001b[39mnue\u001b[39m\u001b[39m\"\u001b[39m, \u001b[39m\"\u001b[39m\u001b[39mnue\u001b[39m\u001b[39m\"\u001b[39m, \u001b[39m\"\u001b[39m\u001b[39mantinue\u001b[39m\u001b[39m\"\u001b[39m),\n\u001b[1;32m     11\u001b[0m                      (\u001b[39m\"\u001b[39m\u001b[39mpi\u001b[39m\u001b[39m\"\u001b[39m, \u001b[39m\"\u001b[39m\u001b[39mpi+\u001b[39m\u001b[39m\"\u001b[39m, \u001b[39m\"\u001b[39m\u001b[39mpi-\u001b[39m\u001b[39m\"\u001b[39m)],\n\u001b[1;32m     12\u001b[0m                  interaction_model \u001b[39m=\u001b[39m \u001b[39m\"\u001b[39m\u001b[39mDPMJET-III-19.1\u001b[39m\u001b[39m\"\u001b[39m,\n\u001b[1;32m     13\u001b[0m                 \u001b[39m#  generic_losses_all_charged = False, \u001b[39;00m\n\u001b[1;32m     14\u001b[0m                  enable_energy_loss \u001b[39m=\u001b[39m \u001b[39mTrue\u001b[39;00m, \n\u001b[1;32m     15\u001b[0m                  muon_helicity_dependence \u001b[39m=\u001b[39m \u001b[39mTrue\u001b[39;00m,\n\u001b[1;32m     16\u001b[0m                  disable_decays \u001b[39m=\u001b[39m [],\n\u001b[1;32m     17\u001b[0m                  density_model \u001b[39m=\u001b[39m (\u001b[39m\"\u001b[39m\u001b[39mCORSIKA\u001b[39m\u001b[39m\"\u001b[39m, (\u001b[39m\"\u001b[39m\u001b[39mBK_USStd\u001b[39m\u001b[39m\"\u001b[39m, \u001b[39mNone\u001b[39;00m)))\n",
      "\u001b[0;31mNameError\u001b[0m: name 'MCEQDistributions' is not defined"
     ]
    }
   ],
   "source": [
    "mceq_loss_bk = MCEQDistributions(\n",
    "                 energy = 1e2,\n",
    "                 pdg_id = 2212,\n",
    "                 theta_deg = 30,\n",
    "                #  slant_depth = 635.9540964571235,\n",
    "                 slant_depth = 638,\n",
    "                 pname_tuples = [\n",
    "                     (\"mu\", \"mu+\", \"mu-\"),\n",
    "                     (\"numu\", \"numu\", \"antinumu\"),\n",
    "                     (\"nue\", \"nue\", \"antinue\"),\n",
    "                     (\"pi\", \"pi+\", \"pi-\")],\n",
    "                 interaction_model = \"DPMJET-III-19.1\",\n",
    "                #  generic_losses_all_charged = False, \n",
    "                 enable_energy_loss = True, \n",
    "                 muon_helicity_dependence = True,\n",
    "                 disable_decays = [],\n",
    "                 density_model = (\"CORSIKA\", (\"BK_USStd\", None)))"
   ]
  },
  {
   "cell_type": "code",
   "execution_count": null,
   "metadata": {},
   "outputs": [],
   "source": [
    "\n",
    "cascade_analysis.search_for_parents()"
   ]
  },
  {
   "cell_type": "code",
   "execution_count": 10,
   "metadata": {},
   "outputs": [
    {
     "name": "stdout",
     "output_type": "stream",
     "text": [
      "['/hetghome/antonpr/xmax_sigma/flincpy', '/hetghome/antonpr/miniconda3/envs/env_impy/lib/python39.zip', '/hetghome/antonpr/miniconda3/envs/env_impy/lib/python3.9', '/hetghome/antonpr/miniconda3/envs/env_impy/lib/python3.9/lib-dynload', '', '/hetghome/antonpr/miniconda3/envs/env_impy/lib/python3.9/site-packages', '/hetghome/antonpr/chromo/src', '/hetghome/antonpr/MCEq', '/hetghome/antonpr/xmax_sigma/flincpy/scripts/corsika_flincpy']\n"
     ]
    }
   ],
   "source": [
    "import sys\n",
    "sys.path.append(\"/hetghome/antonpr/xmax_sigma/flincpy/scripts/corsika_flincpy\")\n",
    "print(sys.path)"
   ]
  },
  {
   "cell_type": "code",
   "execution_count": 11,
   "metadata": {},
   "outputs": [],
   "source": [
    "\n",
    "from corsika_comparison import (corsika_hist, combined_data, \n",
    "                                corsika_en_theta_2dhist)"
   ]
  },
  {
   "cell_type": "code",
   "execution_count": 27,
   "metadata": {},
   "outputs": [],
   "source": [
    "en_hist = corsika_hist(en_bins = mceq_loss.e_bins)\n",
    "en_hist_tanya = corsika_hist(en_bins = mceq_loss.e_bins, \n",
    "                            h5file=\"corsika_leptons.h5\")"
   ]
  },
  {
   "cell_type": "code",
   "execution_count": 37,
   "metadata": {},
   "outputs": [
    {
     "data": {
      "image/png": "[encoded data removed]",
      "text/plain": [
       "<Figure size 640x480 with 1 Axes>"
      ]
     },
     "metadata": {},
     "output_type": "display_data"
    }
   ],
   "source": [
    "cdata = combined_data(en_hist_tanya, (-13, 13), 3)\n",
    "plt.stairs(*cdata[0:2], label = f\"Tanya corsika {cdata[2]}\")\n",
    "\n",
    "cdata = combined_data(en_hist, (-13, 13), 3)\n",
    "plt.stairs(*cdata[0:2], label = f\"corsika {cdata[2]}\")\n",
    "\n",
    "# plt.stairs(mceq_loss.flux[\"mu\"], mceq_loss.e_bins, \n",
    "#            label = r\"${\\mu}^{+} + {\\mu}^{-}$ mceq\", linestyle='--')\n",
    "\n",
    "plt.xscale(\"log\")\n",
    "# plt.yscale(\"log\")\n",
    "plt.xlim(1e-2, 2e2)\n",
    "# plt.ylim(-0.01, 0.5)\n",
    "plt.legend()\n",
    "plt.grid()"
   ]
  },
  {
   "cell_type": "code",
   "execution_count": 22,
   "metadata": {},
   "outputs": [
    {
     "name": "stdout",
     "output_type": "stream",
     "text": [
      "Histogram of -13 with mass 0.1056583745\n",
      "Histogram of 13 with mass 0.1056583745\n"
     ]
    },
    {
     "data": {
      "image/png": "[encoded data removed]",
      "text/plain": [
       "<Figure size 640x480 with 1 Axes>"
      ]
     },
     "metadata": {},
     "output_type": "display_data"
    }
   ],
   "source": [
    "bins, hist, label = cascade_analysis.kin_energy_histogram(pdgs = (-13, 13), bins = mceq_dist.e_bins)\n",
    "plt.stairs(hist, bins, label = label, linestyle='-')\n",
    "\n",
    "# bins, hist, label = cascade_analysis.kin_energy_histogram(pdgs = (-12, -12), bins = mceq_dist.e_bins)\n",
    "# plt.stairs(hist, bins, label = label, linestyle='-')\n",
    "\n",
    "# bins, hist, label = cascade_analysis.kin_energy_histogram(pdgs = (-14, 14), bins = mceq_dist.e_bins)\n",
    "# plt.stairs(hist, bins, label = label, linestyle='-')\n",
    "\n",
    "cdata = combined_data(en_hist_tanya, (-13, 13), 2)\n",
    "plt.stairs(*cdata[0:2], label = f\"corsika_{cdata[2]}\")\n",
    "# bins, hist, label = cascade_analysis.kin_energy_histogram(pdgs = (-211, 211), bins = mceq_dist.e_bins)\n",
    "# plt.stairs(hist, bins, label = label, linestyle='-')\n",
    "\n",
    "# bins, hist, label = cascade_analysis.kin_energy_histogram(pdgs = (111,), bins = mceq_dist.e_bins)\n",
    "# plt.stairs(hist, bins, label = label, linestyle='-')\n",
    "\n",
    "# bins, hist, label = cascade_analysis.kin_energy_histogram(pdgs = (-11, 11), bins = mceq_dist.e_bins)\n",
    "# plt.stairs(hist, bins, label = label, linestyle='-')\n",
    "\n",
    "# bins, hist, label = cascade_analysis.kin_energy_histogram(pdgs = (-11,), bins = mceq_dist.e_bins)\n",
    "# plt.stairs(hist, bins, label = label, linestyle='-')\n",
    "\n",
    "# bins, hist, label = cascade_analysis.kin_energy_histogram(pdgs = (11,), bins = mceq_dist.e_bins)\n",
    "# plt.stairs(hist, bins, label = label, linestyle='-')\n",
    "\n",
    "plt.stairs(mceq_dist.flux[\"mu\"], mceq_dist.e_bins, \n",
    "           label = r\"${\\mu}^{+} + {\\mu}^{-}$ mceq\", linestyle='--')\n",
    "# plt.stairs(mceq_dist.flux[\"numu\"], mceq_dist.e_bins, \n",
    "#            label = r\"$\\bar{\\nu}_{\\mu} + {\\nu}_{\\mu}$ mceq\", linestyle='--')\n",
    "# plt.stairs(mceq_dist.flux[\"nue\"], mceq_dist.e_bins, \n",
    "#            label = r\"$\\bar{\\nu}_{e} + {\\nu}_{e}$ mceq\", linestyle='--')\n",
    "# plt.stairs(mceq_dist.flux[\"pi\"], mceq_dist.e_bins, \n",
    "#            label = r\"$\\bar{\\pi}^{+} + {\\pi}^{-}$ mceq\", linestyle='--')\n",
    "\n",
    "# plt.stairs(mceq_dist.flux[\"el\"], mceq_dist.e_bins, \n",
    "#            label = r\"$\\bar{e}^{+} + {e}^{-}$ mceq\", linestyle='--')\n",
    "\n",
    "# plt.stairs(mceq_dist.flux[\"e+\"], mceq_dist.e_bins, \n",
    "#            label = r\"${e}^{+}$ mceq\", linestyle='--')\n",
    "\n",
    "# plt.stairs(mceq_dist.flux[\"e-\"], mceq_dist.e_bins, \n",
    "#            label = r\"${e}^{-}$ mceq\", linestyle='--')\n",
    "\n",
    "plt.xscale(\"log\")\n",
    "# plt.yscale(\"log\")\n",
    "plt.xlim(1e-2, 2e2)\n",
    "# plt.ylim(-0.01, 0.5)\n",
    "plt.legend()\n",
    "plt.grid()"
   ]
  },
  {
   "cell_type": "code",
   "execution_count": 95,
   "metadata": {},
   "outputs": [
    {
     "name": "stdout",
     "output_type": "stream",
     "text": [
      "Histogram of -13 with mass 0.1056583745\n",
      "Histogram of 13 with mass 0.1056583745\n"
     ]
    },
    {
     "data": {
      "image/png": "[encoded data removed]",
      "text/plain": [
       "<Figure size 960x720 with 1 Axes>"
      ]
     },
     "metadata": {},
     "output_type": "display_data"
    }
   ],
   "source": [
    "plt.rcParams[\"figure.dpi\"] = 150\n",
    "\n",
    "bins, hist, label = cascade_analysis.kin_energy_histogram(pdgs = (-13, 13), bins = mceq_dist.e_bins)\n",
    "plt.stairs(hist, bins, label = label, linestyle='-')\n",
    "\n",
    "# bins, hist, label = cascade_analysis.kin_energy_histogram(pdgs = (-12, -12), bins = mceq_dist.e_bins)\n",
    "# plt.stairs(hist, bins, label = label, linestyle='-')\n",
    "\n",
    "# bins, hist, label = cascade_analysis.kin_energy_histogram(pdgs = (-14, 14), bins = mceq_dist.e_bins)\n",
    "# plt.stairs(hist, bins, label = label, linestyle='-')\n",
    "\n",
    "# bins, hist, label = cascade_analysis.kin_energy_histogram(pdgs = (-211, 211), bins = mceq_dist.e_bins)\n",
    "# plt.stairs(hist, bins, label = label, linestyle='-')\n",
    "\n",
    "# bins, hist, label = cascade_analysis.kin_energy_histogram(pdgs = (-11, 11), bins = mceq_dist.e_bins)\n",
    "# plt.stairs(hist, bins, label = label, linestyle='-')\n",
    "\n",
    "# bins, hist, label = cascade_analysis.kin_energy_histogram(pdgs = (-11,), bins = mceq_dist.e_bins)\n",
    "# plt.stairs(hist, bins, label = label, linestyle='-')\n",
    "\n",
    "# bins, hist, label = cascade_analysis.kin_energy_histogram(pdgs = (11,), bins = mceq_dist.e_bins)\n",
    "# plt.stairs(hist, bins, label = label, linestyle='-')\n",
    "\n",
    "plt.stairs(mceq_dist.flux[\"mu\"], mceq_dist.e_bins, \n",
    "           label = r\"${\\mu}^{+} + {\\mu}^{-}$ mceq\", linestyle='--')\n",
    "\n",
    "# plt.stairs(mceq_hybrid.flux[\"mu\"], mceq_dist.e_bins, \n",
    "#            label = r\"${\\mu}^{+} + {\\mu}^{-}$ mceq hb\", linestyle='--')\n",
    "# plt.stairs(mceq_dist.flux[\"numu\"], mceq_dist.e_bins, \n",
    "#            label = r\"$\\bar{\\nu}_{\\mu} + {\\nu}_{\\mu}$ mceq\", linestyle='--')\n",
    "# plt.stairs(mceq_dist.flux[\"nue\"], mceq_dist.e_bins, \n",
    "#            label = r\"$\\bar{\\nu}_{e} + {\\nu}_{e}$ mceq\", linestyle='--')\n",
    "# plt.stairs(mceq_dist.flux[\"pi\"], mceq_dist.e_bins, \n",
    "#            label = r\"$\\bar{\\pi}^{+} + {\\pi}^{-}$ mceq\", linestyle='--')\n",
    "\n",
    "# plt.stairs(mceq_dist.flux[\"el\"], mceq_dist.e_bins, \n",
    "#            label = r\"$\\bar{e}^{+} + {e}^{-}$ mceq\", linestyle='--')\n",
    "\n",
    "# plt.stairs(mceq_dist.flux[\"e+\"], mceq_dist.e_bins, \n",
    "#            label = r\"${e}^{+}$ mceq\", linestyle='--')\n",
    "\n",
    "# plt.stairs(mceq_dist.flux[\"e-\"], mceq_dist.e_bins, \n",
    "#            label = r\"${e}^{-}$ mceq\", linestyle='--')\n",
    "\n",
    "plt.xscale(\"log\")\n",
    "plt.yscale(\"log\")\n",
    "plt.xlim(1e-3, 2e2)\n",
    "# plt.ylim(-0.01, 0.5)\n",
    "plt.legend()\n",
    "plt.grid()\n",
    "# plt.savefig('temp.png', transparent=True)"
   ]
  },
  {
   "cell_type": "code",
   "execution_count": 96,
   "metadata": {},
   "outputs": [
    {
     "name": "stdout",
     "output_type": "stream",
     "text": [
      "Histogram of -13 with mass 0.1056583745\n",
      "Histogram of 13 with mass 0.1056583745\n"
     ]
    },
    {
     "name": "stderr",
     "output_type": "stream",
     "text": [
      "/tmp/ipykernel_849944/659946842.py:3: RuntimeWarning: invalid value encountered in divide\n",
      "  plt.stairs(hist/mceq_dist.flux[\"mu\"], mceq_dist.e_bins,\n"
     ]
    },
    {
     "data": {
      "image/png": "[encoded data removed]",
      "text/plain": [
       "<Figure size 960x720 with 1 Axes>"
      ]
     },
     "metadata": {},
     "output_type": "display_data"
    }
   ],
   "source": [
    "bins, hist, label = cascade_analysis.kin_energy_histogram(pdgs = (-13, 13), bins = mceq_dist.e_bins)\n",
    "# plt.stairs(hist, bins, label = label, linestyle='-')\n",
    "plt.stairs(hist/mceq_dist.flux[\"mu\"], mceq_dist.e_bins, \n",
    "           label = r\"${\\mu}^{+} + {\\mu}^{-}$ mceq no loss\", linestyle='-')\n",
    "\n",
    "# bins, hist, label = cascade_analysis.kin_energy_histogram(pdgs = (-12, 12), bins = mceq_dist.e_bins)\n",
    "# # plt.stairs(hist, bins, label = label, linestyle='-')\n",
    "# plt.stairs(hist/mceq_dist.flux[\"nue\"], mceq_dist.e_bins, \n",
    "#            label = r\"${\\nu}^{+} + {\\nu}^{-}$ mceq no loss\", linestyle='-')\n",
    "\n",
    "# bins, hist, label = cascade_analysis.kin_energy_histogram(pdgs = (-14, 14), bins = mceq_dist.e_bins)\n",
    "# # plt.stairs(hist, bins, label = label, linestyle='-')\n",
    "# plt.stairs(hist/mceq_dist.flux[\"numu\"], mceq_dist.e_bins, \n",
    "#            label = r\"${\\nu}^{+} + {\\nu}^{-}$ mceq no loss\", linestyle='-')\n",
    "\n",
    "# bins, hist, label = cascade_analysis.kin_energy_histogram(pdgs = (-11, 11), bins = mceq_dist.e_bins)\n",
    "# # plt.stairs(hist, bins, label = label, linestyle='-')\n",
    "# plt.stairs(hist/mceq_dist.flux[\"el\"], mceq_dist.e_bins, \n",
    "#            label = r\"${e}^{+} + {e}^{-}$ mceq no loss\", linestyle='-')\n",
    "\n",
    "# plt.stairs(mceq_loss.flux[\"mu\"], mceq_loss.e_bins, \n",
    "#            label = r\"${\\mu}^{+} + {\\mu}^{-}$ mceq loss\", linestyle='--')\n",
    "\n",
    "plt.xscale(\"log\")\n",
    "plt.xlim(4e-1, 1e2)\n",
    "plt.ylim(0.8, 1.2)\n",
    "plt.legend()\n",
    "plt.grid()"
   ]
  },
  {
   "cell_type": "code",
   "execution_count": 127,
   "metadata": {},
   "outputs": [
    {
     "name": "stdout",
     "output_type": "stream",
     "text": [
      "Histogram of -211 with mass 0.13957039000000002\n",
      "Histogram of 211 with mass 0.13957039000000002\n"
     ]
    },
    {
     "data": {
      "image/png": "[encoded data removed]",
      "text/plain": [
       "<Figure size 960x720 with 1 Axes>"
      ]
     },
     "metadata": {},
     "output_type": "display_data"
    }
   ],
   "source": [
    "bins, hist, label = cascade_analysis.kin_energy_histogram(pdgs = (-211, 211), bins = mceq_dist.e_bins)\n",
    "plt.stairs(hist, bins, label = label, linestyle='-')\n",
    "\n",
    "\n",
    "plt.stairs(mceq_dist.flux[\"pi\"], mceq_dist.e_bins, \n",
    "           label = r\"${\\pi}^{+} + {\\pi}^{-}$ mceq no loss\", linestyle='--')\n",
    "\n",
    "# plt.stairs(mceq_loss.flux[\"mu\"], mceq_loss.e_bins, \n",
    "#            label = r\"${\\mu}^{+} + {\\mu}^{-}$ mceq loss\", linestyle='--')\n",
    "\n",
    "plt.xscale(\"log\")\n",
    "# plt.xlim(1e-2, 2e2)\n",
    "# plt.ylim(-0.01, 0.5)\n",
    "plt.legend()\n",
    "plt.grid()"
   ]
  },
  {
   "cell_type": "code",
   "execution_count": 172,
   "metadata": {},
   "outputs": [
    {
     "name": "stdout",
     "output_type": "stream",
     "text": [
      "Histogram of -13 with mass 0.1056583745\n",
      "Histogram of 13 with mass 0.1056583745\n",
      "Histogram of -12 with mass 0.0\n",
      "Histogram of 12 with mass 0.0\n",
      "Histogram of -14 with mass 0.0\n",
      "Histogram of 14 with mass 0.0\n"
     ]
    },
    {
     "name": "stderr",
     "output_type": "stream",
     "text": [
      "/tmp/ipykernel_2938205/1991008938.py:2: RuntimeWarning: invalid value encountered in divide\n",
      "  plt.stairs(hist/mceq_dist.flux[\"mu\"], bins, label = f\"{label} cas/mceq\", linestyle='-')\n",
      "/tmp/ipykernel_2938205/1991008938.py:5: RuntimeWarning: invalid value encountered in divide\n",
      "  plt.stairs(hist/mceq_dist.flux[\"nue\"], bins, label = f\"{label} cas/mceq\", linestyle='-')\n",
      "/tmp/ipykernel_2938205/1991008938.py:8: RuntimeWarning: invalid value encountered in divide\n",
      "  plt.stairs(hist/mceq_dist.flux[\"numu\"], bins, label = f\"{label} cas/mceq\", linestyle='-')\n"
     ]
    },
    {
     "data": {
      "image/png": "[encoded data removed]",
      "text/plain": [
       "<Figure size 960x720 with 1 Axes>"
      ]
     },
     "metadata": {},
     "output_type": "display_data"
    }
   ],
   "source": [
    "bins, hist, label = cascade_analysis.kin_energy_histogram(pdgs = (-13, 13), bins = mceq_dist.e_bins)\n",
    "plt.stairs(hist/mceq_dist.flux[\"mu\"], bins, label = f\"{label} cas/mceq\", linestyle='-')\n",
    "\n",
    "bins, hist, label = cascade_analysis.kin_energy_histogram(pdgs = (-12, 12), bins = mceq_dist.e_bins)\n",
    "plt.stairs(hist/mceq_dist.flux[\"nue\"], bins, label = f\"{label} cas/mceq\", linestyle='-')\n",
    "\n",
    "bins, hist, label = cascade_analysis.kin_energy_histogram(pdgs = (-14, 14), bins = mceq_dist.e_bins)\n",
    "plt.stairs(hist/mceq_dist.flux[\"numu\"], bins, label = f\"{label} cas/mceq\", linestyle='-')\n",
    "\n",
    "\n",
    "# plt.stairs(mceq_dist.flux[\"mu\"]/1.1, mceq_dist.e_bins, \n",
    "#            label = r\"${\\mu}^{+} + {\\mu}^{-}$ mceq no loss\", linestyle='--')\n",
    "\n",
    "# plt.stairs(mceq_loss.flux[\"mu\"], mceq_loss.e_bins, \n",
    "#            label = r\"${\\mu}^{+} + {\\mu}^{-}$ mceq loss\", linestyle='--')\n",
    "\n",
    "plt.xscale(\"log\")\n",
    "plt.xlim(1e-2, 3e2)\n",
    "# plt.xlim(4e-1, 3e2)\n",
    "# plt.ylim(0.8, 1.2)\n",
    "plt.legend()\n",
    "plt.grid()"
   ]
  },
  {
   "cell_type": "code",
   "execution_count": 15,
   "metadata": {},
   "outputs": [
    {
     "ename": "NameError",
     "evalue": "name 'mceq_loss' is not defined",
     "output_type": "error",
     "traceback": [
      "\u001b[0;31m---------------------------------------------------------------------------\u001b[0m",
      "\u001b[0;31mNameError\u001b[0m                                 Traceback (most recent call last)",
      "Cell \u001b[0;32mIn[15], line 1\u001b[0m\n\u001b[0;32m----> 1\u001b[0m plt\u001b[39m.\u001b[39mplot(mceq_loss\u001b[39m.\u001b[39me_grid, mceq_loss\u001b[39m.\u001b[39mflux[\u001b[39m\"\u001b[39m\u001b[39mmu\u001b[39m\u001b[39m\"\u001b[39m], \n\u001b[1;32m      2\u001b[0m          label \u001b[39m=\u001b[39m \u001b[39mr\u001b[39m\u001b[39m\"\u001b[39m\u001b[39m$\u001b[39m\u001b[39m{\u001b[39m\u001b[39m\\\u001b[39m\u001b[39mmu}^\u001b[39m\u001b[39m{\u001b[39m\u001b[39m+} + \u001b[39m\u001b[39m{\u001b[39m\u001b[39m\\\u001b[39m\u001b[39mmu}^\u001b[39m\u001b[39m{\u001b[39m\u001b[39m-}$ USStd\u001b[39m\u001b[39m\"\u001b[39m, linestyle\u001b[39m=\u001b[39m\u001b[39m'\u001b[39m\u001b[39m--\u001b[39m\u001b[39m'\u001b[39m)\n\u001b[1;32m      4\u001b[0m \u001b[39m# plt.plot(mceq_loss_bk.e_grid, mceq_loss_bk.flux[\"mu\"], \u001b[39;00m\n\u001b[1;32m      5\u001b[0m \u001b[39m#          label = r\"${\\mu}^{+} + {\\mu}^{-}$ BK_USStd\", linestyle='-')\u001b[39;00m\n\u001b[1;32m      7\u001b[0m plt\u001b[39m.\u001b[39mxscale(\u001b[39m\"\u001b[39m\u001b[39mlog\u001b[39m\u001b[39m\"\u001b[39m)\n",
      "\u001b[0;31mNameError\u001b[0m: name 'mceq_loss' is not defined"
     ]
    }
   ],
   "source": [
    "plt.plot(mceq_loss.e_grid, mceq_loss.flux[\"mu\"], \n",
    "         label = r\"${\\mu}^{+} + {\\mu}^{-}$ USStd\", linestyle='--')\n",
    "\n",
    "# plt.plot(mceq_loss_bk.e_grid, mceq_loss_bk.flux[\"mu\"], \n",
    "#          label = r\"${\\mu}^{+} + {\\mu}^{-}$ BK_USStd\", linestyle='-')\n",
    "\n",
    "plt.xscale(\"log\")\n",
    "plt.xlim(4e-1, 2e2)\n",
    "plt.ylim(-0.01, 0.31)\n",
    "plt.legend()\n",
    "plt.savefig('temp1.png', transparent=True)"
   ]
  },
  {
   "cell_type": "code",
   "execution_count": null,
   "metadata": {},
   "outputs": [],
   "source": [
    "plt.plot(mceq_loss.e_grid, mceq_loss_bk.flux[\"mu\"]/mceq_loss.flux[\"mu\"], \n",
    "         label = r\"${\\mu}^{+} + {\\mu}^{-}$ (BK_USStd/USStd)\", linestyle='--')\n",
    "\n",
    "# plt.plot(mceq_loss_bk.e_grid, mceq_loss_bk.flux[\"mu\"], \n",
    "#          label = r\"${\\mu}^{+} + {\\mu}^{-}$ bk\", linestyle='-')\n",
    "\n",
    "plt.xscale(\"log\")\n",
    "plt.xlim(4e-1, 2e2)\n",
    "# plt.ylim(-0.01, 0.31)\n",
    "plt.legend()\n",
    "plt.savefig('temp.png', transparent=True)"
   ]
  },
  {
   "cell_type": "code",
   "execution_count": null,
   "metadata": {},
   "outputs": [],
   "source": [
    "plt.plot(res_mceq.egrid, res_mceq.mu_spec[1], label = f\"{res_mceq.mu_spec[2]}\", linestyle='--')\n",
    "\n",
    "plt.xscale(\"log\")\n",
    "plt.xlim(4e-1, 2e2)\n",
    "plt.ylim(-0.01, 0.31)\n",
    "plt.legend()\n",
    "plt.savefig('temp.png', transparent=True)"
   ]
  },
  {
   "cell_type": "code",
   "execution_count": null,
   "metadata": {},
   "outputs": [],
   "source": [
    "plt.plot(res_mceq.egrid, res_mceq.numu_spec[1], label = f\"{res_mceq.numu_spec[2]} stairs\", linestyle='--')\n",
    "\n",
    "plt.xscale(\"log\")\n",
    "plt.xlim(4e-1, 2e2)\n",
    "plt.ylim(-0.01, 2.5)\n",
    "plt.legend()\n",
    "plt.savefig('temp_line.png', transparent=True)"
   ]
  },
  {
   "cell_type": "code",
   "execution_count": null,
   "metadata": {},
   "outputs": [],
   "source": [
    "plt.xscale(\"log\")\n",
    "plt.xlim(1e-1, 1e2)\n",
    "plt.ylim(0.8, 1.2)\n",
    "plt.step(res_mceq.mu_spec[0], cascade_analysis.mu/res_mceq.mu_spec[1], \n",
    "         label = r\"${\\mu}^{+} + {\\mu}^{-}$ casc/mceq\", linestyle='-', color = 'red')\n",
    "plt.step(res_mceq.mu_spec[0], cascade_analysis.numu/res_mceq.numu_spec[1], \n",
    "         label = r\"$\\bar{\\nu}_{\\mu} + {\\nu}_{\\mu}$ casc/mceq\", linestyle='-', color = 'green')\n",
    "plt.step(res_mceq.mu_spec[0], cascade_analysis.nue/res_mceq.nue_spec[1], \n",
    "         label = r\"$\\bar{\\nu}_{e} + {\\nu}_{e}$ casc/mceq\", linestyle='-', color = 'blue')\n",
    "plt.step(res_mceq.mu_spec[0], res_mceq.nue_spec[1]/res_mceq.nue_spec[1], color = 'grey')\n",
    "plt.legend()"
   ]
  },
  {
   "cell_type": "code",
   "execution_count": null,
   "metadata": {},
   "outputs": [],
   "source": [
    "plt.xscale(\"log\")\n",
    "# plt.yscale(\"log\")\n",
    "plt.step(res_mceq.mu_spec[0], res_mceq.mu_spec[1], \n",
    "         label = r\"${\\mu}^{+} + {\\mu}^{-}$ mceq\", linestyle='--', color = 'red')\n",
    "plt.step(res_mceq.mu_spec[0], cascade_analysis.mu, \n",
    "         label = r\"${\\mu}^{+} + {\\mu}^{-}$ casc\", linestyle='-', color = 'red')\n",
    "plt.step(res_mceq.mu_spec[0], res_mceq.numu_spec[1], \n",
    "         label = r\"$\\bar{\\nu}_{\\mu} + {\\nu}_{\\mu}$ mceq\", linestyle=':', color = 'green')\n",
    "plt.step(res_mceq.mu_spec[0], cascade_analysis.numu, \n",
    "         label = r\"$\\bar{\\nu}_{\\mu} + {\\nu}_{\\mu}$ casc\", linestyle='-', color = 'green')\n",
    "plt.step(res_mceq.mu_spec[0], res_mceq.nue_spec[1], \n",
    "         label = r\"$\\bar{\\nu}_{e} + {\\nu}_{e}$ mceq\", linestyle=':', color = 'blue')\n",
    "plt.step(res_mceq.mu_spec[0], cascade_analysis.nue, \n",
    "         label = r\"$\\bar{\\nu}_{e} + {\\nu}_{e}$ casc\", linestyle='-', color = 'blue')\n",
    "# plt.step(res_mceq.numu_spec[0], res_mceq.numu_spec[1], label = res_mceq.numu_spec[2], linestyle='--')\n",
    "# plt.step(res_mceq.nue_spec[0], res_mceq.nue_spec[1], label = res_mceq.nue_spec[2], linestyle='--')\n",
    "plt.xlim(1e-1, 1e3)\n",
    "# plt.ylim(0, 0.5)\n",
    "plt.legend()"
   ]
  },
  {
   "cell_type": "code",
   "execution_count": null,
   "metadata": {},
   "outputs": [],
   "source": [
    "plt.xscale(\"log\")\n",
    "plt.yscale(\"log\")\n",
    "plt.step(res_mceq.mu_spec[0], cascade_analysis.numu_from_mu, \n",
    "         label = r\"$\\bar{\\nu}_{\\mu} + {\\nu}_{\\mu}$ from muons\", linestyle='--', color = 'green')\n",
    "plt.step(res_mceq.mu_spec[0], cascade_analysis.numu_from_other, \n",
    "         label = r\"$\\bar{\\nu}_{\\mu} + {\\nu}_{\\mu}$ from other\", linestyle=':', color = 'green')\n",
    "plt.step(res_mceq.mu_spec[0], cascade_analysis.numu, \n",
    "         label = r\"$\\bar{\\nu}_{\\mu} + {\\nu}_{\\mu}$ total\", linestyle='-', color = 'green')\n",
    "plt.step(res_mceq.mu_spec[0], cascade_analysis.nue_from_mu, \n",
    "         label = r\"$\\bar{\\nu}_{e} + {\\nu}_{e}$ from muons\", linestyle='--', color = 'blue')\n",
    "plt.step(res_mceq.mu_spec[0], cascade_analysis.nue_from_other, \n",
    "         label = r\"$\\bar{\\nu}_{e} + {\\nu}_{e}$ from other\", linestyle=':', color = 'blue')\n",
    "plt.step(res_mceq.mu_spec[0], cascade_analysis.nue, \n",
    "         label = r\"$\\bar{\\nu}_{e} + {\\nu}_{e}$ total\", linestyle='-', color = 'blue')\n",
    "# plt.step(res_mceq.numu_spec[0], res_mceq.numu_spec[1], label = res_mceq.numu_spec[2], linestyle='--')\n",
    "# plt.step(res_mceq.nue_spec[0], res_mceq.nue_spec[1], label = res_mceq.nue_spec[2], linestyle='--')\n",
    "plt.xlim(1e-1, 1e3)\n",
    "plt.legend()"
   ]
  },
  {
   "cell_type": "code",
   "execution_count": null,
   "metadata": {},
   "outputs": [],
   "source": [
    "from fluka_comparison.fluka_muon_data import fluka_en_dist"
   ]
  },
  {
   "cell_type": "code",
   "execution_count": null,
   "metadata": {},
   "outputs": [],
   "source": [
    "for name, value in fluka_en_dist().items():\n",
    "    # plt.steps(value[0], value[1])\n",
    "    plt.stairs(value[1], value[0], label = f\"depth = {name}\")\n",
    "    en_bins = value[0]\n",
    "\n",
    "gr, cnt = np.histogram(cascade_analysis.raw_muon_data[0], bins=en_bins)\n",
    "gr = gr/cascade_analysis.raw_muon_data[1] \n",
    "print(cnt, gr)\n",
    "plt.stairs(gr, cnt, label = \"depth = 635.955, cas\")\n",
    "plt.legend()\n",
    "plt.ylim(0, 2) \n",
    "\n",
    "# gr1, cnt = np.histogram(self.neutrinos_from_muons[muon_neut].energy, bins = nbins, range = xrange)\n",
    "#         gr1 = gr1/runs_number\n",
    "#         plt.step(mceq_egrid, gr1, lab"
   ]
  },
  {
   "cell_type": "code",
   "execution_count": null,
   "metadata": {},
   "outputs": [],
   "source": [
    "cascade_analysis.plot_xdepth_list(nbins = 100, pids = [-14, 14, 2212, -13, 13], \n",
    "                                  xrange = (0, 1012), per_run = True)"
   ]
  },
  {
   "cell_type": "code",
   "execution_count": null,
   "metadata": {},
   "outputs": [],
   "source": [
    "cascade_analysis.plot_xdepth_stop(nbins = 100, pids = [-14, 14, 2212, -13, 13, 22], #pids = None, \n",
    "                                  all_pids = True, \n",
    "                                  xrange = (0, 1168), per_run = False)"
   ]
  },
  {
   "cell_type": "code",
   "execution_count": null,
   "metadata": {},
   "outputs": [],
   "source": [
    "cascade_analysis.plot_height_list(pids = [22, -13, 13, -11, 11], all_pids=True)"
   ]
  },
  {
   "cell_type": "code",
   "execution_count": null,
   "metadata": {},
   "outputs": [],
   "source": [
    "cascade_analysis.digitize()"
   ]
  },
  {
   "cell_type": "code",
   "execution_count": null,
   "metadata": {},
   "outputs": [],
   "source": [
    "import matplotlib.pylab as plt\n",
    "plt.semilogx(cascade_analysis.egrid, cascade_analysis.hist_dict[22][0][99])\n",
    "\n",
    "\n",
    "\n",
    "len(cascade_analysis.hist_dict[22][0])"
   ]
  }
 ],
 "metadata": {
  "kernelspec": {
   "display_name": "env_impy",
   "language": "python",
   "name": "python3"
  },
  "language_info": {
   "codemirror_mode": {
    "name": "ipython",
    "version": 3
   },
   "file_extension": ".py",
   "mimetype": "text/x-python",
   "name": "python",
   "nbconvert_exporter": "python",
   "pygments_lexer": "ipython3",
   "version": "3.9.13"
  },
  "orig_nbformat": 4,
  "vscode": {
   "interpreter": {
    "hash": "1da578f5b0770234c97b8a63f26035023e8d4f78965379356887400dcec38bc8"
   }
  }
 },
 "nbformat": 4,
 "nbformat_minor": 2
}
