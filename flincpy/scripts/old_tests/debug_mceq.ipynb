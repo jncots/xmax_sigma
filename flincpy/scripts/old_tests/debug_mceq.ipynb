{
 "cells": [
  {
   "cell_type": "code",
   "execution_count": null,
   "metadata": {},
   "outputs": [],
   "source": [
    "from MCEq.core import MCEqRun\n",
    "import mceq_config as config\n",
    "#import primary model choices\n",
    "import crflux.models as pm"
   ]
  },
  {
   "cell_type": "code",
   "execution_count": null,
   "metadata": {},
   "outputs": [],
   "source": [
    "mceq_run = MCEqRun(\n",
    "            #provide the string of the interaction model\n",
    "            interaction_model=\"DPMJET-III-19.1\",\n",
    "            #primary cosmic ray flux model\n",
    "            primary_model = (pm.HillasGaisser2012, \"H3a\"),\n",
    "            # Zenith angle in degrees. 0=vertical, 90=horizontal\n",
    "            theta_deg=0,\n",
    "            density_model = (\"CORSIKA\", (\"USStd\", None))\n",
    "        )"
   ]
  },
  {
   "cell_type": "code",
   "execution_count": null,
   "metadata": {},
   "outputs": [],
   "source": [
    "mceq_run.set_theta_deg(0)\n",
    "mceq_run.set_single_primary_particle(1e2, pdg_id = 2212)\n",
    "mceq_run.solve(int_grid=[500])"
   ]
  },
  {
   "cell_type": "code",
   "execution_count": null,
   "metadata": {},
   "outputs": [],
   "source": [
    "part_long_spectra = {}\n",
    "for p in mceq_run.pman.all_particles:\n",
    "    # print(f\"Spectrum for {p.name}\")\n",
    "    try: \n",
    "        part_long_spectra[p.name] = mceq_run.get_solution(p.name, grid_idx=0)\n",
    "    except Exception as ex:\n",
    "        pass\n",
    "        # print(ex)    "
   ]
  },
  {
   "cell_type": "code",
   "execution_count": null,
   "metadata": {},
   "outputs": [],
   "source": [
    "part_long_spectra"
   ]
  }
 ],
 "metadata": {
  "kernelspec": {
   "display_name": "env_impy",
   "language": "python",
   "name": "python3"
  },
  "language_info": {
   "codemirror_mode": {
    "name": "ipython",
    "version": 3
   },
   "file_extension": ".py",
   "mimetype": "text/x-python",
   "name": "python",
   "nbconvert_exporter": "python",
   "pygments_lexer": "ipython3",
   "version": "3.9.13"
  },
  "orig_nbformat": 4
 },
 "nbformat": 4,
 "nbformat_minor": 2
}
