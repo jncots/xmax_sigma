{
 "cells": [
  {
   "cell_type": "code",
   "execution_count": 1,
   "metadata": {},
   "outputs": [],
   "source": [
    "import matplotlib.pyplot as plt\n",
    "import numpy as np\n",
    "\n",
    "#import solver related modules\n",
    "from MCEq.core import MCEqRun\n",
    "import mceq_config as config\n",
    "#import primary model choices\n",
    "import crflux.models as pm"
   ]
  },
  {
   "cell_type": "code",
   "execution_count": 26,
   "metadata": {},
   "outputs": [],
   "source": [
    "def rejection_sampler(p,xbounds,pmax):\n",
    "    while True:\n",
    "        x = np.random.rand(1)*(xbounds[1]-xbounds[0])+xbounds[0]\n",
    "        y = np.random.rand(1)*pmax\n",
    "        if y<=p(x):\n",
    "            return x"
   ]
  },
  {
   "cell_type": "code",
   "execution_count": 25,
   "metadata": {},
   "outputs": [],
   "source": [
    "def restricted_rej_sampler(p, xbounds, pmax, xlimits):\n",
    "    while True:\n",
    "        x = np.random.rand(1)*(xbounds[1]-xbounds[0])+xbounds[0]\n",
    "        if not (xlimits[0] <= x <= xlimits[1]):\n",
    "            continue\n",
    "        y = np.random.rand(1)*pmax\n",
    "        if y<=p(x):\n",
    "            return x"
   ]
  },
  {
   "cell_type": "code",
   "execution_count": 31,
   "metadata": {},
   "outputs": [],
   "source": [
    "def plim(x):\n",
    "    return np.sin(x)\n",
    "\n",
    "nevents = 100000\n",
    "dist1 = [restricted_rej_sampler(plim,(0, 3.14),1.1, (0.5, 2.5)) for _ in range(nevents)]\n"
   ]
  },
  {
   "cell_type": "code",
   "execution_count": 32,
   "metadata": {},
   "outputs": [
    {
     "data": {
      "text/plain": [
       "Text(0.5, 0, 'Energy, eV')"
      ]
     },
     "execution_count": 32,
     "metadata": {},
     "output_type": "execute_result"
    },
    {
     "data": {
      "image/png": "[encoded data removed]",
      "text/plain": [
       "<Figure size 640x480 with 1 Axes>"
      ]
     },
     "metadata": {},
     "output_type": "display_data"
    }
   ],
   "source": [
    "gr, cnt = np.histogram(dist1, 30)\n",
    "# plt.semilogx()\n",
    "plt.step(cnt[:-1], gr/((cnt[1]-cnt[0])*nevents))\n",
    "# plt.step(10**cnt[:-1]*1e9, gr)\n",
    "plt.title(\"Energy distribution\")\n",
    "plt.ylim(0,1)\n",
    "plt.xlim(0,4)\n",
    "plt.xlabel(\"Energy, eV\")\n"
   ]
  },
  {
   "cell_type": "code",
   "execution_count": 2,
   "metadata": {},
   "outputs": [
    {
     "name": "stdout",
     "output_type": "stream",
     "text": [
      "MCEqRun::set_interaction_model(): SIBYLL23C\n",
      "ParticleManager::_init_default_tracking(): Initializing default tracking categories (pi, K, mu)\n",
      "MCEqRun::set_density_model(): Setting density profile to CORSIKA ('BK_USStd', None)\n",
      "MCEqRun::set_primary_model(): HillasGaisser2012 H3a\n"
     ]
    }
   ],
   "source": [
    "mceq_run = MCEqRun(\n",
    "#provide the string of the interaction model\n",
    "interaction_model='SIBYLL2.3c',\n",
    "#primary cosmic ray flux model\n",
    "primary_model = (pm.HillasGaisser2012, \"H3a\"),\n",
    "# Zenith angle in degrees. 0=vertical, 90=horizontal\n",
    "theta_deg=0.0\n",
    ")"
   ]
  },
  {
   "cell_type": "code",
   "execution_count": 170,
   "metadata": {},
   "outputs": [
    {
     "data": {
      "text/plain": [
       "{(-11, 0): 0,\n",
       " (11, 0): 1,\n",
       " (-12, 0): 2,\n",
       " (12, 0): 3,\n",
       " (-13, -1): 4,\n",
       " (-13, 0): 5,\n",
       " (-13, 1): 6,\n",
       " (13, -1): 7,\n",
       " (13, 0): 8,\n",
       " (13, 1): 9,\n",
       " (-14, 0): 10,\n",
       " (14, 0): 11,\n",
       " (-16, 0): 12,\n",
       " (16, 0): 13,\n",
       " (22, 0): 14,\n",
       " (111, 0): 15,\n",
       " (130, 0): 16,\n",
       " (-211, 0): 17,\n",
       " (211, 0): 18,\n",
       " (310, 0): 19,\n",
       " (-321, 0): 20,\n",
       " (321, 0): 21,\n",
       " (-411, 0): 22,\n",
       " (411, 0): 23,\n",
       " (-421, 0): 24,\n",
       " (421, 0): 25,\n",
       " (-431, 0): 26,\n",
       " (431, 0): 27,\n",
       " (-2112, 0): 28,\n",
       " (2112, 0): 29,\n",
       " (-2212, 0): 30,\n",
       " (2212, 0): 31,\n",
       " (-3122, 0): 32,\n",
       " (3122, 0): 33,\n",
       " (-1000012, 0): 34,\n",
       " (1000012, 0): 35,\n",
       " (-1000013, -1): 36,\n",
       " (-1000013, 1): 37,\n",
       " (1000013, -1): 38,\n",
       " (1000013, 1): 39,\n",
       " (-1000014, 0): 40,\n",
       " (1000014, 0): 41,\n",
       " (-1010012, 0): 42,\n",
       " (1010012, 0): 43,\n",
       " (-1010013, -1): 44,\n",
       " (-1010013, 1): 45,\n",
       " (1010013, -1): 46,\n",
       " (1010013, 1): 47,\n",
       " (-1010014, 0): 48,\n",
       " (1010014, 0): 49,\n",
       " (-1020012, 0): 50,\n",
       " (1020012, 0): 51,\n",
       " (-1020014, 0): 52,\n",
       " (1020014, 0): 53,\n",
       " (-1030012, 0): 54,\n",
       " (1030012, 0): 55,\n",
       " (-1030014, 0): 56,\n",
       " (1030014, 0): 57,\n",
       " (-1040012, 0): 58,\n",
       " (1040012, 0): 59,\n",
       " (-1040014, 0): 60,\n",
       " (1040014, 0): 61,\n",
       " (-1050012, 0): 62,\n",
       " (1050012, 0): 63,\n",
       " (-1000013, 0): 64,\n",
       " (1000013, 0): 65,\n",
       " (-1050014, 0): 66,\n",
       " (1050014, 0): 67,\n",
       " (-1060012, 0): 68,\n",
       " (1060012, 0): 69,\n",
       " (-1010013, 0): 70,\n",
       " (1010013, 0): 71,\n",
       " (-1060014, 0): 72,\n",
       " (1060014, 0): 73,\n",
       " (-1000016, 0): 74,\n",
       " (1000016, 0): 75,\n",
       " (-1070012, 0): 76,\n",
       " (1070012, 0): 77,\n",
       " (-1020013, 0): 78,\n",
       " (1020013, 0): 79,\n",
       " (-1070014, 0): 80,\n",
       " (1070014, 0): 81}"
      ]
     },
     "execution_count": 170,
     "metadata": {},
     "output_type": "execute_result"
    }
   ],
   "source": [
    "mceq_run.pman.pdg2mceqidx"
   ]
  },
  {
   "cell_type": "code",
   "execution_count": 3,
   "metadata": {},
   "outputs": [],
   "source": [
    "e_grid = mceq_run._energy_grid\n",
    "# print(e_grid)"
   ]
  },
  {
   "cell_type": "code",
   "execution_count": 4,
   "metadata": {},
   "outputs": [
    {
     "name": "stdout",
     "output_type": "stream",
     "text": [
      "[(1.0, [-12, 11, 14])]\n"
     ]
    }
   ],
   "source": [
    "from MCEq import particlemanager\n",
    "from particletools.tables import PYTHIAParticleData\n",
    "\n",
    "pythia_pdata = PYTHIAParticleData()\n",
    "print(pythia_pdata.decay_channels(13))"
   ]
  },
  {
   "cell_type": "code",
   "execution_count": 27,
   "metadata": {},
   "outputs": [],
   "source": [
    "\n",
    "class ParticleDecay:\n",
    "    from MCEq.core import MCEqRun\n",
    "    import crflux.models as pm\n",
    "    from particletools.tables import PYTHIAParticleData\n",
    "    from scipy.interpolate import interp1d\n",
    "    \n",
    "    def __init__(self):\n",
    "        self.pythia_pdata = self.PYTHIAParticleData()\n",
    "        self.mceq_run = self.MCEqRun(\n",
    "            interaction_model='SIBYLL2.3c',\n",
    "            primary_model = (self.pm.HillasGaisser2012, \"H3a\"),\n",
    "            theta_deg=0.0)\n",
    "        \n",
    "    def set_decayed_particle(self, pid, etot):\n",
    "        \n",
    "        mcr = self.mceq_run    \n",
    "        self.particle = particlemanager.MCEqParticle(pid, 0, mcr._energy_grid)\n",
    "        self.particle.set_decay_channels(mcr._decays, mcr.pman)\n",
    "        self.particle_mass = pythia_pdata.mass(pid)\n",
    "        \n",
    "        \n",
    "        self.etot = etot\n",
    "        self.ekin = self.etot - self.particle_mass\n",
    "        \n",
    "        # Set decay channels\n",
    "        self.decay_channels = self.pythia_pdata.decay_channels(pid)\n",
    "        self.decay_probabilities = [channel[0] for channel in self.decay_channels]  \n",
    "    \n",
    "    \n",
    "    def _child_particle_pdf(self, pid):\n",
    "        self.child = self.get_mceq_particle(pid)\n",
    "        data = self.particle.dNdec_dxlab(self.ekin, self.child)\n",
    "        self.xgrid = data[0]\n",
    "        self.pdf_max = np.max(data[1])\n",
    "        self.pdf = self.interp1d(*data)\n",
    "        \n",
    "    def decay_products(self):\n",
    "        ind = np.argmax(np.random.multinomial(1, self.decay_probabilities, size=1))\n",
    "        decay_pids = self.decay_channels[ind][1]\n",
    "        return self.decay_channels[ind][1]\n",
    "    \n",
    "    \n",
    "    def get_child_particle(self, pid):\n",
    "        child = self.get_mceq_particle(pid)\n",
    "        data = self.particle.dNdec_dxlab(self.ekin, child)\n",
    "        self.xgrid = data[0]\n",
    "        self.pdf_max = np.max(data[1])\n",
    "        self.pdf = self.interp1d(*data)\n",
    "        \n",
    "        xpart = restricted_rej_sampler(self.pdf,\n",
    "                                  (self.xgrid[0], self.xgrid[-1]),\n",
    "                                  self.pdf_max,\n",
    "                                  (self.xgrid[0], self.xleft))\n",
    "        \n",
    "        self.xleft -= (xpart + pythia_pdata.mass(pid)/self.ekin)\n",
    "        return (pid, xpart*self.ekin + pythia_pdata.mass(pid))\n",
    "    \n",
    "    def get_last_child_particle(self, pid):\n",
    "        return (pid, self.xleft*self.ekin + self.particle_mass)   \n",
    "    \n",
    "    \n",
    "    def get_mceq_particle(self, pid):\n",
    "        for child in self.particle.decay_dists:\n",
    "            if child.pdg_id[0] == pid:\n",
    "                return mceq_run.pman[child.pdg_id]\n",
    "    \n",
    "    \n",
    "    \n",
    "    def get_products(self):\n",
    "        \n",
    "        self.xleft = 1.0 # part of kinetic energy left for child particle\n",
    "        self.xarray = []\n",
    "        \n",
    "        \n",
    "        decay_products = self.decay_products()\n",
    "        decay_size = len(decay_products)\n",
    "        \n",
    "        result = []\n",
    "        \n",
    "        for pid in decay_products:\n",
    "            if decay_size > 1:\n",
    "                result.append(self.get_child_particle(pid))\n",
    "                decay_size -= 1\n",
    "            else:   \n",
    "                result.append(self.get_last_child_particle(pid))\n",
    "            \n",
    "        return result    \n",
    "                "
   ]
  },
  {
   "cell_type": "code",
   "execution_count": 28,
   "metadata": {},
   "outputs": [
    {
     "name": "stdout",
     "output_type": "stream",
     "text": [
      "MCEqRun::set_interaction_model(): SIBYLL23C\n",
      "ParticleManager::_init_default_tracking(): Initializing default tracking categories (pi, K, mu)\n",
      "MCEqRun::set_density_model(): Setting density profile to CORSIKA ('BK_USStd', None)\n",
      "MCEqRun::set_primary_model(): HillasGaisser2012 H3a\n"
     ]
    }
   ],
   "source": [
    "pdec = ParticleDecay()\n"
   ]
  },
  {
   "cell_type": "code",
   "execution_count": 45,
   "metadata": {},
   "outputs": [
    {
     "data": {
      "text/plain": [
       "[(211, array([51.52223474])), (111, array([48.47776526]))]"
      ]
     },
     "execution_count": 45,
     "metadata": {},
     "output_type": "execute_result"
    }
   ],
   "source": [
    "pdec.set_decayed_particle(321, 100)\n",
    "\n",
    "pdec.get_products()"
   ]
  },
  {
   "cell_type": "code",
   "execution_count": 165,
   "metadata": {},
   "outputs": [
    {
     "name": "stdout",
     "output_type": "stream",
     "text": [
      "[100.]\n"
     ]
    }
   ],
   "source": [
    "tot = 0\n",
    "for ipr in pdec.get_products():\n",
    "    tot += ipr[1]\n",
    "\n",
    "print(tot)    "
   ]
  },
  {
   "cell_type": "code",
   "execution_count": null,
   "metadata": {},
   "outputs": [],
   "source": [
    "\n",
    "# tot = 0\n",
    "# br_ratio = []\n",
    "# for i, val in  enumerate(pythia_pdata.decay_channels(321)):\n",
    "#     br_ratio.append(val[0])\n",
    "# print(br_ratio) \n",
    "# ind = np.argmax(np.random.multinomial(1, br_ratio, size=1)) \n",
    "# part = pythia_pdata.decay_channels(321)[ind]\n",
    "# part[1] \n",
    "\n",
    "ch = pythia_pdata.decay_channels(321)\n",
    "ind = np.argmax(np.random.multinomial(1, [x[0] for x in ch], size=1))\n",
    "part = ch[ind]\n",
    "part"
   ]
  },
  {
   "cell_type": "code",
   "execution_count": 18,
   "metadata": {},
   "outputs": [
    {
     "data": {
      "text/plain": [
       "\n",
       "        mu+_l:\n",
       "        is_hadron     : False\n",
       "        is_lepton     : True\n",
       "        is_nucleus    : False\n",
       "        is_stable     : False\n",
       "        is_mixed      : False\n",
       "        is_resonance  : False\n",
       "        is_tracking   : False\n",
       "        is_projectile : False\n",
       "        mceqidx       : 4\n",
       "        E_mix         : 0.0e+00 GeV"
      ]
     },
     "execution_count": 18,
     "metadata": {},
     "output_type": "execute_result"
    }
   ],
   "source": [
    "pp = particlemanager.MCEqParticle(321, 0, mceq_run._energy_grid)\n",
    "pp.set_decay_channels(mceq_run._decays, mceq_run.pman)\n",
    "\n",
    "res = None\n",
    "for pps in pp.decay_dists:\n",
    "    # print(pps.pdg_id)\n",
    "    if pps.pdg_id[0] == -13:\n",
    "        res = mceq_run.pman[pps.pdg_id]\n",
    "        break\n",
    "        \n",
    "res\n",
    "\n",
    "def find_particle(pid):\n",
    "    for pps in pp.decay_dists:\n",
    "        if pps.pdg_id[0] == pid:\n",
    "            return mceq_run.pman[pps.pdg_id]\n",
    "    \n",
    "# pp.decay_dists[(-13, -1)]\n",
    "# pp.pdg2mceqidx\n",
    "\n",
    "# mceq_run.pman[(-13, -1)]\n",
    "\n",
    "# def get"
   ]
  },
  {
   "cell_type": "code",
   "execution_count": null,
   "metadata": {},
   "outputs": [],
   "source": [
    "\n",
    "\n",
    "data = pp.dNdec_dxlab(1e3, mceq_run.pman[11])\n",
    "from scipy.interpolate import interp1d\n",
    "f = interp1d(*data)\n",
    "pmax1 = np.max(data[1])\n",
    "xgrid = data[0]\n",
    "# pp.decay_dists\n",
    "# # pp.\n",
    "plt.plot(xgrid, f(xgrid))"
   ]
  },
  {
   "cell_type": "code",
   "execution_count": 214,
   "metadata": {},
   "outputs": [
    {
     "data": {
      "text/plain": [
       "Text(0.5, 0, 'Energy, eV')"
      ]
     },
     "execution_count": 214,
     "metadata": {},
     "output_type": "execute_result"
    },
    {
     "data": {
      "image/png": "[encoded data removed]",
      "text/plain": [
       "<Figure size 640x480 with 1 Axes>"
      ]
     },
     "metadata": {},
     "output_type": "display_data"
    }
   ],
   "source": [
    "# dist = [rejection_sampler(f,(xgrid[0], xgrid[-1]),pmax1) for _ in range(10000)]\n",
    "dist = [rejection_sampler(f,(xgrid[0], xgrid[-1]),pmax1) for _ in range(100000)]\n",
    "gr, cnt = np.histogram(dist, 50)\n",
    "# plt.semilogx()\n",
    "plt.step(cnt[:-1], gr)\n",
    "# plt.step(10**cnt[:-1]*1e9, gr)\n",
    "plt.title(\"Energy distribution\")\n",
    "plt.xlabel(\"Energy, eV\")"
   ]
  },
  {
   "cell_type": "code",
   "execution_count": 157,
   "metadata": {},
   "outputs": [
    {
     "data": {
      "text/plain": [
       "\n",
       "        mu+:\n",
       "        is_hadron     : False\n",
       "        is_lepton     : True\n",
       "        is_nucleus    : False\n",
       "        is_stable     : False\n",
       "        is_mixed      : False\n",
       "        is_resonance  : False\n",
       "        is_tracking   : False\n",
       "        is_projectile : False\n",
       "        mceqidx       : 5\n",
       "        E_mix         : 0.0e+00 GeV"
      ]
     },
     "execution_count": 157,
     "metadata": {},
     "output_type": "execute_result"
    }
   ],
   "source": [
    "mceq_run.pman[\"mu+\"]"
   ]
  },
  {
   "cell_type": "code",
   "execution_count": 162,
   "metadata": {},
   "outputs": [
    {
     "name": "stdout",
     "output_type": "stream",
     "text": [
      "0.9931736212002785\n"
     ]
    },
    {
     "data": {
      "image/png": "[encoded data removed]",
      "text/plain": [
       "<Figure size 640x480 with 1 Axes>"
      ]
     },
     "metadata": {},
     "output_type": "display_data"
    }
   ],
   "source": [
    "\n",
    "mceq_run._decays\n",
    "mceq_run.pman[13]\n",
    "\n",
    "pp = particlemanager.MCEqParticle(13, 0, e_grid)\n",
    "pp.set_decay_channels(mceq_run._decays, mceq_run.pman)\n",
    "\n",
    "#pp.decay_dists[11]\n",
    "\n",
    "# pp.dNdec_dxlab(1e4, mceq_run.pman[14])\n",
    "\n",
    "# plt.loglog(*pp.dNdec_dxlab(1e4, mceq_run.pman[-12]))\n",
    "# plt.loglog(*pp.dNdec_dxlab(1e4, mceq_run.pman[11]))\n",
    "# plt.loglog(*pp.dNdec_dxlab(1e4, mceq_run.pman[14]))\n",
    "# pp.dNdec_dxlab(1e1, mceq_run.pman[11])[0]\n",
    "from scipy.interpolate import interp1d\n",
    "f = interp1d(*pp.dNdec_dxlab(1e6, mceq_run.pman[11]))\n",
    "xgrid = pp.dNdec_dxlab(1e6, mceq_run.pman[11])[0]\n",
    "xlin = np.linspace(0, 1, 100)\n",
    "\n",
    "f(xgrid)\n",
    "x0 = xgrid[0]\n",
    "# plt.plot(xlin, f(x0*(1/x0)**xlin)*x0*(1/x0)**xlin*np.log(1/x0))\n",
    "plt.semilogx(xgrid, f(xgrid))\n",
    "\n",
    "from scipy import integrate\n",
    "I1 = integrate.simpson(f(xgrid), xgrid)\n",
    "print(I1)"
   ]
  }
 ],
 "metadata": {
  "kernelspec": {
   "display_name": "env_impy",
   "language": "python",
   "name": "python3"
  },
  "language_info": {
   "codemirror_mode": {
    "name": "ipython",
    "version": 3
   },
   "file_extension": ".py",
   "mimetype": "text/x-python",
   "name": "python",
   "nbconvert_exporter": "python",
   "pygments_lexer": "ipython3",
   "version": "3.9.13 (main, Oct 13 2022, 21:15:33) \n[GCC 11.2.0]"
  },
  "orig_nbformat": 4,
  "vscode": {
   "interpreter": {
    "hash": "1da578f5b0770234c97b8a63f26035023e8d4f78965379356887400dcec38bc8"
   }
  }
 },
 "nbformat": 4,
 "nbformat_minor": 2
}
