{
 "cells": [
  {
   "cell_type": "code",
   "execution_count": 18,
   "metadata": {},
   "outputs": [
    {
     "name": "stdout",
     "output_type": "stream",
     "text": [
      "1 0.0\n",
      "2 0.0\n",
      "3 0.0\n",
      "4 0.0\n",
      "5 0.0\n",
      "6 1.4094783080387039e-14\n",
      "7 0.0\n",
      "8 0.0\n",
      "11 inf\n",
      "12 inf\n",
      "13 65865.40000000001\n",
      "14 inf\n",
      "15 0.008711000000000002\n",
      "16 inf\n",
      "17 0.0\n"
     ]
    },
    {
     "ename": "KeyError",
     "evalue": "20",
     "output_type": "error",
     "traceback": [
      "\u001b[0;31m---------------------------------------------------------------------------\u001b[0m",
      "\u001b[0;31mKeyError\u001b[0m                                  Traceback (most recent call last)",
      "\u001b[1;32m/hetghome/antonpr/xmax_sigma/ShowerStart/test_decay.ipynb Cell 1\u001b[0m in \u001b[0;36m<cell line: 8>\u001b[0;34m()\u001b[0m\n\u001b[1;32m      <a href='vscode-notebook-cell://ssh-remote%2Bvscode/hetghome/antonpr/xmax_sigma/ShowerStart/test_decay.ipynb#W3sdnNjb2RlLXJlbW90ZQ%3D%3D?line=7'>8</a>\u001b[0m \u001b[39mfor\u001b[39;00m i \u001b[39min\u001b[39;00m \u001b[39mrange\u001b[39m(\u001b[39m100\u001b[39m):\n\u001b[1;32m      <a href='vscode-notebook-cell://ssh-remote%2Bvscode/hetghome/antonpr/xmax_sigma/ShowerStart/test_decay.ipynb#W3sdnNjb2RlLXJlbW90ZQ%3D%3D?line=8'>9</a>\u001b[0m     \u001b[39mif\u001b[39;00m (i \u001b[39m+\u001b[39m \u001b[39m1\u001b[39m) \u001b[39mnot\u001b[39;00m \u001b[39min\u001b[39;00m (\u001b[39m9\u001b[39m, \u001b[39m10\u001b[39m, \u001b[39m18\u001b[39m, \u001b[39m19\u001b[39m):\n\u001b[0;32m---> <a href='vscode-notebook-cell://ssh-remote%2Bvscode/hetghome/antonpr/xmax_sigma/ShowerStart/test_decay.ipynb#W3sdnNjb2RlLXJlbW90ZQ%3D%3D?line=9'>10</a>\u001b[0m         \u001b[39mprint\u001b[39m(i\u001b[39m+\u001b[39m\u001b[39m1\u001b[39m, pythia_pdata\u001b[39m.\u001b[39;49mctau(i\u001b[39m+\u001b[39;49m\u001b[39m1\u001b[39;49m))\n",
      "File \u001b[0;32m~/miniconda3/envs/env_impy/lib/python3.9/site-packages/particletools/tables.py:243\u001b[0m, in \u001b[0;36mPYTHIAParticleData.ctau\u001b[0;34m(self, pid_or_name)\u001b[0m\n\u001b[1;32m    234\u001b[0m \u001b[39mdef\u001b[39;00m \u001b[39mctau\u001b[39m(\u001b[39mself\u001b[39m, pid_or_name):\n\u001b[1;32m    235\u001b[0m     \u001b[39m\"\"\"Returns decay length in cm.\u001b[39;00m\n\u001b[1;32m    236\u001b[0m \n\u001b[1;32m    237\u001b[0m \u001b[39m    Args:\u001b[39;00m\n\u001b[0;32m   (...)\u001b[0m\n\u001b[1;32m    241\u001b[0m \u001b[39m      (float): decay length :math:`ctau` in cm\u001b[39;00m\n\u001b[1;32m    242\u001b[0m \u001b[39m    \"\"\"\u001b[39;00m\n\u001b[0;32m--> 243\u001b[0m     \u001b[39mreturn\u001b[39;00m \u001b[39mself\u001b[39;49m\u001b[39m.\u001b[39;49m_particle_data[pid_or_name]\u001b[39m.\u001b[39mctau\n",
      "File \u001b[0;32m~/miniconda3/envs/env_impy/lib/python3.9/site-packages/particletools/tables.py:61\u001b[0m, in \u001b[0;36mParticleDataDict.__getitem__\u001b[0;34m(self, pid_or_name)\u001b[0m\n\u001b[1;32m     58\u001b[0m \u001b[39mdef\u001b[39;00m \u001b[39m__getitem__\u001b[39m(\u001b[39mself\u001b[39m, pid_or_name):\n\u001b[1;32m     59\u001b[0m     \u001b[39m# accept pdg_id or particle name\u001b[39;00m\n\u001b[1;32m     60\u001b[0m     \u001b[39mif\u001b[39;00m \u001b[39misinstance\u001b[39m(pid_or_name, six\u001b[39m.\u001b[39minteger_types):\n\u001b[0;32m---> 61\u001b[0m         \u001b[39mreturn\u001b[39;00m \u001b[39mself\u001b[39;49m\u001b[39m.\u001b[39;49m_data[pid_or_name]\n\u001b[1;32m     62\u001b[0m     \u001b[39melse\u001b[39;00m:\n\u001b[1;32m     63\u001b[0m         i \u001b[39m=\u001b[39m \u001b[39mself\u001b[39m\u001b[39m.\u001b[39m_name2id[pid_or_name]\n",
      "\u001b[0;31mKeyError\u001b[0m: 20"
     ]
    }
   ],
   "source": [
    "from particletools.tables import PYTHIAParticleData\n",
    "import numpy as np\n",
    "\n",
    "pythia_pdata = PYTHIAParticleData()\n",
    "pythia_pdata.ctau(13)\n",
    "\n",
    "\n",
    "for i in range(100):\n",
    "    if (i + 1) not in (9, 10, 18, 19):\n",
    "        print(i+1, pythia_pdata.ctau(i+1))"
   ]
  },
  {
   "cell_type": "code",
   "execution_count": 19,
   "metadata": {},
   "outputs": [
    {
     "name": "stdout",
     "output_type": "stream",
     "text": [
      "MCEqRun::set_interaction_model(): SIBYLL23C\n",
      "ParticleManager::_init_default_tracking(): Initializing default tracking categories (pi, K, mu)\n",
      "MCEqRun::set_density_model(): Setting density profile to CORSIKA ('BK_USStd', None)\n",
      "MCEqRun::set_primary_model(): HillasGaisser2012 H3a\n"
     ]
    }
   ],
   "source": [
    "from particle_decay import MCEqDBFactory, ParticleDecay\n",
    "mceq_db = MCEqDBFactory().get_db()"
   ]
  },
  {
   "cell_type": "code",
   "execution_count": 35,
   "metadata": {},
   "outputs": [],
   "source": [
    "pdecay =  ParticleDecay(mceq_db, pid = 321, etot = 1000)"
   ]
  },
  {
   "cell_type": "code",
   "execution_count": 58,
   "metadata": {},
   "outputs": [
    {
     "name": "stdout",
     "output_type": "stream",
     "text": [
      "[(-13, array([618.62145577])), (14, array([381.37854423]))]\n"
     ]
    }
   ],
   "source": [
    "print(pdecay.get_decay_products())"
   ]
  }
 ],
 "metadata": {
  "kernelspec": {
   "display_name": "env_impy",
   "language": "python",
   "name": "python3"
  },
  "language_info": {
   "codemirror_mode": {
    "name": "ipython",
    "version": 3
   },
   "file_extension": ".py",
   "mimetype": "text/x-python",
   "name": "python",
   "nbconvert_exporter": "python",
   "pygments_lexer": "ipython3",
   "version": "3.9.13"
  },
  "orig_nbformat": 4,
  "vscode": {
   "interpreter": {
    "hash": "1da578f5b0770234c97b8a63f26035023e8d4f78965379356887400dcec38bc8"
   }
  }
 },
 "nbformat": 4,
 "nbformat_minor": 2
}
