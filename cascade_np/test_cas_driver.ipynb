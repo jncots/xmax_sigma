{
 "cells": [
  {
   "cell_type": "code",
   "execution_count": 1,
   "metadata": {},
   "outputs": [
    {
     "name": "stdout",
     "output_type": "stream",
     "text": [
      "MCEqRun::set_interaction_model(): DPMJETIII191\n",
      "MCEqRun::set_density_model(): Setting density profile to CORSIKA ('BK_USStd', None)\n",
      "MCEqRun::set_primary_model(): HillasGaisser2012 H3a\n"
     ]
    }
   ],
   "source": [
    "import numpy as np\n",
    "from cascade_driver import CascadeDriver"
   ]
  },
  {
   "cell_type": "code",
   "execution_count": 2,
   "metadata": {},
   "outputs": [
    {
     "name": "stdout",
     "output_type": "stream",
     "text": [
      " ====================================================\n",
      " |                                                  |\n",
      " |                 S I B Y L L  2.3d                |\n",
      " |                                                  |\n",
      " |         HADRONIC INTERACTION MONTE CARLO         |\n",
      " |                        BY                        |\n",
      " |            Eun-Joo AHN, Felix RIEHN              |\n",
      " |      R. ENGEL, A. FEDYNITCH, R.S. FLETCHER,      |\n",
      " |       T.K. GAISSER, P. LIPARI, T. STANEV         |\n",
      " |                                                  |\n",
      " | Publication to be cited when using this program: |\n",
      " | Eun-Joo AHN et al., Phys.Rev. D80 (2009) 094003  |\n",
      " | F. RIEHN et al., hep-ph: 1912.03300              |\n",
      " | last modifications: F. Riehn (05/20/2020)        |\n",
      " ====================================================\n",
      "\n",
      " SIG_AIR_INI: initializing target: (i,A)           1           0 air..\n",
      " SIG_AIR_INI: initializing target: (i,A)           2          14 nit..\n",
      " SIG_AIR_INI: initializing target: (i,A)           3          16 oxy..\n",
      "Stable pdgs = [-211, 211, -13, 13]\n",
      "Decaying pdgs = [111]\n"
     ]
    }
   ],
   "source": [
    "%load_ext autoreload\n",
    "%autoreload 2\n",
    "cas_driver = CascadeDriver(threshold_energy = 1e3)"
   ]
  },
  {
   "cell_type": "code",
   "execution_count": 3,
   "metadata": {},
   "outputs": [
    {
     "name": "stdout",
     "output_type": "stream",
     "text": [
      "1 Number of inter = 0 number of decays = 0\n",
      "2 Number of inter = 1 number of decays = 0\n",
      "3 children_stack has 3 muons\n",
      "4 final_stack has 3 muons\n",
      "4 children_stack has 3 muons\n",
      "3 Number of inter = 485 number of decays = 0\n",
      "1 final_stack has 3 muons\n",
      "1 children_stack has 3 muons\n",
      "2 final_stack has 3 muons\n",
      "2 children_stack has 3 muons\n",
      "3 final_stack has 3 muons\n",
      "3 children_stack has 21 muons\n",
      "4 final_stack has 24 muons\n",
      "4 children_stack has 21 muons\n",
      "4 Number of inter = 5877 number of decays = 0\n",
      "1 final_stack has 24 muons\n",
      "1 children_stack has 21 muons\n",
      "2 final_stack has 24 muons\n",
      "2 children_stack has 21 muons\n",
      "3 final_stack has 24 muons\n",
      "3 children_stack has 35 muons\n",
      "4 final_stack has 59 muons\n",
      "4 children_stack has 35 muons\n",
      "5 Number of inter = 21257 number of decays = 0\n",
      "1 final_stack has 59 muons\n",
      "1 children_stack has 35 muons\n",
      "2 final_stack has 59 muons\n",
      "2 children_stack has 35 muons\n",
      "3 final_stack has 59 muons\n",
      "3 children_stack has 43 muons\n",
      "4 final_stack has 102 muons\n",
      "4 children_stack has 43 muons\n",
      "6 Number of inter = 43551 number of decays = 0\n",
      "1 final_stack has 102 muons\n",
      "1 children_stack has 43 muons\n",
      "2 final_stack has 102 muons\n",
      "2 children_stack has 43 muons\n",
      "3 final_stack has 102 muons\n",
      "3 children_stack has 21 muons\n",
      "4 final_stack has 123 muons\n",
      "4 children_stack has 21 muons\n",
      "7 Number of inter = 63787 number of decays = 0\n",
      "1 final_stack has 123 muons\n",
      "1 children_stack has 21 muons\n",
      "2 final_stack has 123 muons\n",
      "2 children_stack has 21 muons\n",
      "3 final_stack has 123 muons\n",
      "3 children_stack has 20 muons\n",
      "4 final_stack has 143 muons\n",
      "4 children_stack has 20 muons\n",
      "8 Number of inter = 77158 number of decays = 0\n",
      "1 final_stack has 143 muons\n",
      "1 children_stack has 20 muons\n",
      "2 final_stack has 143 muons\n",
      "2 children_stack has 20 muons\n",
      "3 final_stack has 143 muons\n",
      "3 children_stack has 6 muons\n",
      "4 final_stack has 149 muons\n",
      "4 children_stack has 6 muons\n",
      "9 Number of inter = 83944 number of decays = 0\n",
      "1 final_stack has 149 muons\n",
      "1 children_stack has 6 muons\n",
      "2 final_stack has 149 muons\n",
      "2 children_stack has 6 muons\n",
      "3 final_stack has 149 muons\n",
      "3 children_stack has 6 muons\n",
      "4 final_stack has 155 muons\n",
      "4 children_stack has 6 muons\n",
      "10 Number of inter = 86808 number of decays = 0\n",
      "1 final_stack has 155 muons\n",
      "1 children_stack has 6 muons\n",
      "2 final_stack has 155 muons\n",
      "2 children_stack has 6 muons\n",
      "3 final_stack has 155 muons\n",
      "4 final_stack has 155 muons\n",
      "11 Number of inter = 87774 number of decays = 0\n",
      "1 final_stack has 155 muons\n",
      "2 final_stack has 155 muons\n",
      "3 final_stack has 155 muons\n",
      "4 final_stack has 155 muons\n",
      "12 Number of inter = 88070 number of decays = 0\n",
      "1 final_stack has 155 muons\n",
      "2 final_stack has 155 muons\n",
      "3 final_stack has 155 muons\n",
      "4 final_stack has 155 muons\n",
      "13 Number of inter = 88156 number of decays = 0\n",
      "1 final_stack has 155 muons\n",
      "2 final_stack has 155 muons\n",
      "3 final_stack has 155 muons\n",
      "4 final_stack has 155 muons\n",
      "14 Number of inter = 88177 number of decays = 0\n",
      "1 final_stack has 155 muons\n",
      "2 final_stack has 155 muons\n",
      "3 final_stack has 155 muons\n",
      "4 final_stack has 155 muons\n",
      "15 Number of inter = 88182 number of decays = 0\n",
      "1 final_stack has 155 muons\n",
      "2 final_stack has 155 muons\n",
      "3 final_stack has 155 muons\n",
      "4 final_stack has 155 muons\n",
      "16 Number of inter = 88184 number of decays = 824906\n",
      "1 final_stack has 155 muons\n",
      "2 final_stack has 156 muons\n",
      "3 final_stack has 156 muons\n",
      "3 children_stack has 12 muons\n",
      "4 final_stack has 168 muons\n",
      "4 children_stack has 12 muons\n",
      "17 Number of inter = 99467 number of decays = 824906\n",
      "1 final_stack has 168 muons\n",
      "1 children_stack has 12 muons\n",
      "2 final_stack has 168 muons\n",
      "2 children_stack has 12 muons\n",
      "3 final_stack has 168 muons\n",
      "3 children_stack has 14 muons\n",
      "4 final_stack has 182 muons\n",
      "4 children_stack has 14 muons\n",
      "18 Number of inter = 104459 number of decays = 824906\n",
      "1 final_stack has 182 muons\n",
      "1 children_stack has 14 muons\n",
      "2 final_stack has 182 muons\n",
      "2 children_stack has 14 muons\n",
      "3 final_stack has 182 muons\n",
      "3 children_stack has 5 muons\n",
      "4 final_stack has 187 muons\n",
      "4 children_stack has 5 muons\n",
      "19 Number of inter = 107661 number of decays = 824906\n",
      "1 final_stack has 187 muons\n",
      "1 children_stack has 5 muons\n",
      "2 final_stack has 187 muons\n",
      "2 children_stack has 5 muons\n",
      "3 final_stack has 187 muons\n",
      "3 children_stack has 2 muons\n",
      "4 final_stack has 189 muons\n",
      "4 children_stack has 2 muons\n",
      "20 Number of inter = 109247 number of decays = 824906\n",
      "1 final_stack has 189 muons\n",
      "1 children_stack has 2 muons\n",
      "2 final_stack has 189 muons\n",
      "2 children_stack has 2 muons\n",
      "3 final_stack has 189 muons\n",
      "4 final_stack has 189 muons\n",
      "21 Number of inter = 109871 number of decays = 824906\n",
      "1 final_stack has 189 muons\n",
      "2 final_stack has 189 muons\n",
      "3 final_stack has 189 muons\n",
      "4 final_stack has 189 muons\n",
      "22 Number of inter = 110078 number of decays = 824906\n",
      "1 final_stack has 189 muons\n",
      "2 final_stack has 189 muons\n",
      "3 final_stack has 189 muons\n",
      "4 final_stack has 189 muons\n",
      "23 Number of inter = 110140 number of decays = 824906\n",
      "1 final_stack has 189 muons\n",
      "2 final_stack has 189 muons\n",
      "3 final_stack has 189 muons\n",
      "4 final_stack has 189 muons\n",
      "24 Number of inter = 110152 number of decays = 824906\n",
      "1 final_stack has 189 muons\n",
      "2 final_stack has 189 muons\n",
      "3 final_stack has 189 muons\n",
      "4 final_stack has 189 muons\n",
      "25 Number of inter = 110156 number of decays = 824906\n",
      "1 final_stack has 189 muons\n",
      "2 final_stack has 189 muons\n",
      "3 final_stack has 189 muons\n",
      "4 final_stack has 189 muons\n",
      "26 Number of inter = 110159 number of decays = 824906\n",
      "1 final_stack has 189 muons\n",
      "2 final_stack has 189 muons\n",
      "3 final_stack has 189 muons\n",
      "4 final_stack has 189 muons\n",
      "27 Number of inter = 110162 number of decays = 824906\n",
      "1 final_stack has 189 muons\n",
      "2 final_stack has 189 muons\n",
      "3 final_stack has 189 muons\n",
      "4 final_stack has 189 muons\n",
      "28 Number of inter = 110163 number of decays = 1008673\n",
      "1 final_stack has 189 muons\n",
      "2 final_stack has 189 muons\n",
      "3 final_stack has 189 muons\n",
      "3 children_stack has 2 muons\n",
      "4 final_stack has 191 muons\n",
      "4 children_stack has 2 muons\n",
      "29 Number of inter = 111580 number of decays = 1008673\n",
      "1 final_stack has 191 muons\n",
      "1 children_stack has 2 muons\n",
      "2 final_stack has 191 muons\n",
      "2 children_stack has 2 muons\n",
      "3 final_stack has 191 muons\n",
      "4 final_stack has 192 muons\n",
      "30 Number of inter = 111996 number of decays = 1008673\n",
      "1 final_stack has 192 muons\n",
      "2 final_stack has 192 muons\n",
      "3 final_stack has 192 muons\n",
      "4 final_stack has 192 muons\n",
      "31 Number of inter = 112157 number of decays = 1008673\n",
      "1 final_stack has 192 muons\n",
      "2 final_stack has 192 muons\n",
      "3 final_stack has 192 muons\n",
      "4 final_stack has 192 muons\n",
      "32 Number of inter = 112219 number of decays = 1008673\n",
      "1 final_stack has 192 muons\n",
      "2 final_stack has 192 muons\n",
      "3 final_stack has 192 muons\n",
      "4 final_stack has 192 muons\n",
      "33 Number of inter = 112250 number of decays = 1008673\n",
      "1 final_stack has 192 muons\n",
      "2 final_stack has 192 muons\n",
      "3 final_stack has 192 muons\n",
      "4 final_stack has 192 muons\n",
      "34 Number of inter = 112261 number of decays = 1008673\n",
      "1 final_stack has 192 muons\n",
      "2 final_stack has 192 muons\n",
      "3 final_stack has 192 muons\n",
      "4 final_stack has 192 muons\n",
      "35 Number of inter = 112265 number of decays = 1008673\n",
      "1 final_stack has 192 muons\n",
      "2 final_stack has 192 muons\n",
      "3 final_stack has 192 muons\n",
      "4 final_stack has 192 muons\n",
      "36 Number of inter = 112266 number of decays = 1025193\n",
      "1 final_stack has 192 muons\n",
      "2 final_stack has 192 muons\n",
      "3 final_stack has 192 muons\n",
      "4 final_stack has 192 muons\n",
      "37 Number of inter = 112356 number of decays = 1025193\n",
      "1 final_stack has 192 muons\n",
      "2 final_stack has 192 muons\n",
      "3 final_stack has 192 muons\n",
      "4 final_stack has 192 muons\n",
      "38 Number of inter = 112369 number of decays = 1025193\n",
      "1 final_stack has 192 muons\n",
      "2 final_stack has 192 muons\n",
      "3 final_stack has 192 muons\n",
      "4 final_stack has 192 muons\n",
      "39 Number of inter = 112371 number of decays = 1025926\n",
      "1 final_stack has 192 muons\n",
      "2 final_stack has 192 muons\n",
      "3 final_stack has 192 muons\n",
      "4 final_stack has 192 muons\n",
      "40 Number of inter = 112372 number of decays = 1025941\n",
      "1 final_stack has 192 muons\n",
      "2 final_stack has 192 muons\n",
      "3 final_stack has 192 muons\n",
      "4 final_stack has 192 muons\n"
     ]
    }
   ],
   "source": [
    "%autoreload 2\n",
    "cas_driver.run(pdg = 2212, energy = 1e9)"
   ]
  },
  {
   "cell_type": "code",
   "execution_count": 6,
   "metadata": {},
   "outputs": [],
   "source": [
    "from cascade_analysis import CascadeAnalysis\n",
    "\n",
    "cascade_analysis = CascadeAnalysis(cas_driver)"
   ]
  },
  {
   "cell_type": "code",
   "execution_count": 7,
   "metadata": {},
   "outputs": [
    {
     "name": "stdout",
     "output_type": "stream",
     "text": [
      "Initial state:\n",
      "  $p$(2212) with energy = 1.000e+09\n",
      "\n",
      "Final state:\n",
      "  Number of final particles = 4582340\n",
      "  Number of interactions = 112372\n",
      "  Number of decays = 1025941\n",
      "  Max number of generations = 17\n",
      "\n",
      "  Max xdepth = 1011.4568036341915\n",
      "  Exectution time = 34.16 s\n",
      "  Size of cascade_driver object = 489.53 Mb\n",
      "\n",
      "Energy conservation in cascade:\n",
      "  Initial energy = 1.00000e+09 GeV\n",
      "  Energy in final particles = 1.00013e+09 GeV\n",
      "  Relative loss(+)/gain(-) -1.312e-04\n"
     ]
    }
   ],
   "source": [
    "cascade_analysis.print_stats()"
   ]
  },
  {
   "cell_type": "code",
   "execution_count": null,
   "metadata": {},
   "outputs": [],
   "source": [
    "cascade_analysis.plot_pid(from_ = 1)"
   ]
  },
  {
   "cell_type": "code",
   "execution_count": 10,
   "metadata": {},
   "outputs": [
    {
     "ename": "AttributeError",
     "evalue": "'CascadeDriver' object has no attribute 'initial_energy'",
     "output_type": "error",
     "traceback": [
      "\u001b[0;31m---------------------------------------------------------------------------\u001b[0m",
      "\u001b[0;31mAttributeError\u001b[0m                            Traceback (most recent call last)",
      "Cell \u001b[0;32mIn[10], line 1\u001b[0m\n\u001b[0;32m----> 1\u001b[0m cascade_analysis\u001b[39m.\u001b[39;49menergy_conservation()\n",
      "File \u001b[0;32m~/xmax_sigma/cascade_np/cascade_analysis.py:36\u001b[0m, in \u001b[0;36mCascadeAnalysis.energy_conservation\u001b[0;34m(self)\u001b[0m\n\u001b[1;32m     34\u001b[0m \u001b[39mdef\u001b[39;00m \u001b[39menergy_conservation\u001b[39m(\u001b[39mself\u001b[39m):     \n\u001b[1;32m     35\u001b[0m     etot \u001b[39m=\u001b[39m np\u001b[39m.\u001b[39msum(\u001b[39mself\u001b[39m\u001b[39m.\u001b[39menergy_data)\n\u001b[0;32m---> 36\u001b[0m     init_energy \u001b[39m=\u001b[39m \u001b[39mself\u001b[39;49m\u001b[39m.\u001b[39;49mcascade_driver\u001b[39m.\u001b[39;49minitial_energy\n\u001b[1;32m     37\u001b[0m     conservation \u001b[39m=\u001b[39m (init_energy \u001b[39m-\u001b[39m etot)\u001b[39m/\u001b[39minit_energy\n\u001b[1;32m     39\u001b[0m     \u001b[39mprint\u001b[39m(\u001b[39m\"\u001b[39m\u001b[39mEnergy conservation in cascade:\u001b[39m\u001b[39m\"\u001b[39m)\n",
      "\u001b[0;31mAttributeError\u001b[0m: 'CascadeDriver' object has no attribute 'initial_energy'"
     ]
    }
   ],
   "source": [
    "cascade_analysis.energy_conservation()"
   ]
  },
  {
   "cell_type": "code",
   "execution_count": 7,
   "metadata": {},
   "outputs": [
    {
     "name": "stdout",
     "output_type": "stream",
     "text": [
      "Min = 2.59e+08 eV, Max = 9.04e+12 eV\n"
     ]
    },
    {
     "data": {
      "image/png": "[encoded data removed]",
      "text/plain": [
       "<Figure size 640x480 with 1 Axes>"
      ]
     },
     "metadata": {},
     "output_type": "display_data"
    }
   ],
   "source": [
    "cascade_analysis.plot_energy(13)"
   ]
  },
  {
   "cell_type": "code",
   "execution_count": 37,
   "metadata": {},
   "outputs": [
    {
     "data": {
      "image/png": "[encoded data removed]",
      "text/plain": [
       "<Figure size 640x480 with 1 Axes>"
      ]
     },
     "metadata": {},
     "output_type": "display_data"
    }
   ],
   "source": [
    "cascade_analysis.plot_energy_list([-13, 13, 2212, 2112])"
   ]
  },
  {
   "cell_type": "code",
   "execution_count": 29,
   "metadata": {},
   "outputs": [
    {
     "name": "stdout",
     "output_type": "stream",
     "text": [
      "Min = 40.34, Max = 1011.46\n"
     ]
    },
    {
     "data": {
      "image/png": "[encoded data removed]",
      "text/plain": [
       "<Figure size 640x480 with 1 Axes>"
      ]
     },
     "metadata": {},
     "output_type": "display_data"
    }
   ],
   "source": [
    "cascade_analysis.plot_xdepth()"
   ]
  }
 ],
 "metadata": {
  "kernelspec": {
   "display_name": "env_impy",
   "language": "python",
   "name": "python3"
  },
  "language_info": {
   "codemirror_mode": {
    "name": "ipython",
    "version": 3
   },
   "file_extension": ".py",
   "mimetype": "text/x-python",
   "name": "python",
   "nbconvert_exporter": "python",
   "pygments_lexer": "ipython3",
   "version": "3.9.13"
  },
  "orig_nbformat": 4,
  "vscode": {
   "interpreter": {
    "hash": "1da578f5b0770234c97b8a63f26035023e8d4f78965379356887400dcec38bc8"
   }
  }
 },
 "nbformat": 4,
 "nbformat_minor": 2
}
