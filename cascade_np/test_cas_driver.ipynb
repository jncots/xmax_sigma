{
 "cells": [
  {
   "cell_type": "code",
   "execution_count": 1,
   "metadata": {},
   "outputs": [
    {
     "name": "stdout",
     "output_type": "stream",
     "text": [
      "MCEqRun::set_interaction_model(): DPMJETIII191\n",
      "MCEqRun::set_density_model(): Setting density profile to CORSIKA ('BK_USStd', None)\n",
      "MCEqRun::set_primary_model(): HillasGaisser2012 H3a\n"
     ]
    }
   ],
   "source": [
    "import numpy as np\n",
    "from cascade_driver import CascadeDriver"
   ]
  },
  {
   "cell_type": "code",
   "execution_count": 2,
   "metadata": {},
   "outputs": [
    {
     "name": "stdout",
     "output_type": "stream",
     "text": [
      " ====================================================\n",
      " |                                                  |\n",
      " |                 S I B Y L L  2.3d                |\n",
      " |                                                  |\n",
      " |         HADRONIC INTERACTION MONTE CARLO         |\n",
      " |                        BY                        |\n",
      " |            Eun-Joo AHN, Felix RIEHN              |\n",
      " |      R. ENGEL, A. FEDYNITCH, R.S. FLETCHER,      |\n",
      " |       T.K. GAISSER, P. LIPARI, T. STANEV         |\n",
      " |                                                  |\n",
      " | Publication to be cited when using this program: |\n",
      " | Eun-Joo AHN et al., Phys.Rev. D80 (2009) 094003  |\n",
      " | F. RIEHN et al., hep-ph: 1912.03300              |\n",
      " | last modifications: F. Riehn (05/20/2020)        |\n",
      " ====================================================\n",
      "\n",
      " SIG_AIR_INI: initializing target: (i,A)           1           0 air..\n",
      " SIG_AIR_INI: initializing target: (i,A)           2          14 nit..\n",
      " SIG_AIR_INI: initializing target: (i,A)           3          16 oxy..\n"
     ]
    }
   ],
   "source": [
    "%load_ext autoreload\n",
    "%autoreload 2\n",
    "cas_driver = CascadeDriver(threshold_energy = 1e3)"
   ]
  },
  {
   "cell_type": "code",
   "execution_count": 5,
   "metadata": {},
   "outputs": [
    {
     "name": "stdout",
     "output_type": "stream",
     "text": [
      "1 Number of inter = 0 number of decays = 0\n",
      "2 Number of inter = 1 number of decays = 0\n",
      "3 Number of inter = 2 number of decays = 0\n",
      "4 Number of inter = 3 number of decays = 0\n",
      "5 Number of inter = 4 number of decays = 0\n",
      "6 Number of inter = 5 number of decays = 0\n",
      "7 Number of inter = 6 number of decays = 1142556\n"
     ]
    },
    {
     "ename": "MemoryError",
     "evalue": "Too large array",
     "output_type": "error",
     "traceback": [
      "\u001b[0;31m---------------------------------------------------------------------------\u001b[0m",
      "\u001b[0;31mMemoryError\u001b[0m                               Traceback (most recent call last)",
      "Cell \u001b[0;32mIn[5], line 2\u001b[0m\n\u001b[1;32m      1\u001b[0m get_ipython()\u001b[39m.\u001b[39mrun_line_magic(\u001b[39m'\u001b[39m\u001b[39mautoreload\u001b[39m\u001b[39m'\u001b[39m, \u001b[39m'\u001b[39m\u001b[39m2\u001b[39m\u001b[39m'\u001b[39m)\n\u001b[0;32m----> 2\u001b[0m cas_driver\u001b[39m.\u001b[39;49mrun(pdg \u001b[39m=\u001b[39;49m \u001b[39m2212\u001b[39;49m, energy \u001b[39m=\u001b[39;49m \u001b[39m1e4\u001b[39;49m)\n",
      "File \u001b[0;32m~/xmax_sigma/cascade_np/cascade_driver.py:44\u001b[0m, in \u001b[0;36mCascadeDriver.run\u001b[0;34m(self, pdg, energy, xdepth)\u001b[0m\n\u001b[1;32m     40\u001b[0m \u001b[39mwhile\u001b[39;00m \u001b[39mlen\u001b[39m(\u001b[39mself\u001b[39m\u001b[39m.\u001b[39mworking_stack) \u001b[39m>\u001b[39m \u001b[39m0\u001b[39m:\n\u001b[1;32m     42\u001b[0m     \u001b[39mprint\u001b[39m(\u001b[39mf\u001b[39m\u001b[39m\"\u001b[39m\u001b[39m{\u001b[39;00miloop\u001b[39m}\u001b[39;00m\u001b[39m Number of inter = \u001b[39m\u001b[39m{\u001b[39;00m\u001b[39mself\u001b[39m\u001b[39m.\u001b[39mnumber_of_interactions\u001b[39m}\u001b[39;00m\u001b[39m\"\u001b[39m\n\u001b[1;32m     43\u001b[0m           \u001b[39mf\u001b[39m\u001b[39m\"\u001b[39m\u001b[39m number of decays = \u001b[39m\u001b[39m{\u001b[39;00m\u001b[39mself\u001b[39m\u001b[39m.\u001b[39mnumber_of_decays\u001b[39m}\u001b[39;00m\u001b[39m\"\u001b[39m)\n\u001b[0;32m---> 44\u001b[0m     \u001b[39mself\u001b[39;49m\u001b[39m.\u001b[39;49mset_xdepths()\n\u001b[1;32m     45\u001b[0m     \u001b[39mself\u001b[39m\u001b[39m.\u001b[39mrun_interaction()\n\u001b[1;32m     46\u001b[0m     \u001b[39mself\u001b[39m\u001b[39m.\u001b[39mfilter_particles()\n",
      "File \u001b[0;32m~/xmax_sigma/cascade_np/cascade_driver.py:88\u001b[0m, in \u001b[0;36mCascadeDriver.set_xdepths\u001b[0;34m(self)\u001b[0m\n\u001b[1;32m     85\u001b[0m max_xdepth \u001b[39m=\u001b[39m \u001b[39mself\u001b[39m\u001b[39m.\u001b[39mxdepth_getter\u001b[39m.\u001b[39mmax_xdepth\n\u001b[1;32m     87\u001b[0m \u001b[39m# Copies of particles with specific properties\u001b[39;00m\n\u001b[0;32m---> 88\u001b[0m \u001b[39mself\u001b[39;49m\u001b[39m.\u001b[39;49mfinal_stack\u001b[39m.\u001b[39;49mappend(pvalid[np\u001b[39m.\u001b[39;49mwhere((pvalid\u001b[39m.\u001b[39;49mxdepth_inter \u001b[39m>\u001b[39;49m\u001b[39m=\u001b[39;49m max_xdepth) \u001b[39m&\u001b[39;49m\n\u001b[1;32m     89\u001b[0m                         (pvalid\u001b[39m.\u001b[39;49mxdepth_decay \u001b[39m>\u001b[39;49m\u001b[39m=\u001b[39;49m max_xdepth))[\u001b[39m0\u001b[39;49m]])\n\u001b[1;32m     91\u001b[0m \u001b[39mself\u001b[39m\u001b[39m.\u001b[39minter_stack \u001b[39m=\u001b[39m pvalid[np\u001b[39m.\u001b[39mwhere(pvalid\u001b[39m.\u001b[39mxdepth_inter \u001b[39m<\u001b[39m pvalid\u001b[39m.\u001b[39mxdepth_decay)[\u001b[39m0\u001b[39m]]\n\u001b[1;32m     92\u001b[0m \u001b[39mself\u001b[39m\u001b[39m.\u001b[39mdecay_stack\u001b[39m.\u001b[39mappend(pvalid[np\u001b[39m.\u001b[39mwhere(pvalid\u001b[39m.\u001b[39mxdepth_decay \u001b[39m<\u001b[39m pvalid\u001b[39m.\u001b[39mxdepth_inter )[\u001b[39m0\u001b[39m]])\n",
      "File \u001b[0;32m~/xmax_sigma/cascade_np/particle_array.py:213\u001b[0m, in \u001b[0;36mParticleArray.append\u001b[0;34m(self, other)\u001b[0m\n\u001b[1;32m    210\u001b[0m new_len \u001b[39m=\u001b[39m \u001b[39mlen\u001b[39m(\u001b[39mself\u001b[39m) \u001b[39m+\u001b[39m \u001b[39mlen\u001b[39m(other)\n\u001b[1;32m    211\u001b[0m self_slice \u001b[39m=\u001b[39m \u001b[39mslice\u001b[39m(\u001b[39mlen\u001b[39m(\u001b[39mself\u001b[39m), new_len)\n\u001b[0;32m--> 213\u001b[0m \u001b[39mself\u001b[39;49m\u001b[39m.\u001b[39;49m_adjust_capacity(new_len)\n\u001b[1;32m    215\u001b[0m \u001b[39mfor\u001b[39;00m attr \u001b[39min\u001b[39;00m other\u001b[39m.\u001b[39mdata_attributes:\n\u001b[1;32m    216\u001b[0m     val_other \u001b[39m=\u001b[39m \u001b[39mgetattr\u001b[39m(other, attr)\n",
      "File \u001b[0;32m~/xmax_sigma/cascade_np/particle_array.py:77\u001b[0m, in \u001b[0;36mParticleArray._adjust_capacity\u001b[0;34m(self, size)\u001b[0m\n\u001b[1;32m     75\u001b[0m factor \u001b[39m=\u001b[39m \u001b[39mint\u001b[39m(np\u001b[39m.\u001b[39mceil(size\u001b[39m/\u001b[39m\u001b[39mself\u001b[39m\u001b[39m.\u001b[39mreserved_size()))\n\u001b[1;32m     76\u001b[0m \u001b[39mif\u001b[39;00m factor \u001b[39m>\u001b[39m \u001b[39m1\u001b[39m:\n\u001b[0;32m---> 77\u001b[0m     \u001b[39mself\u001b[39;49m\u001b[39m.\u001b[39;49m_increase_size(factor)\n",
      "File \u001b[0;32m~/xmax_sigma/cascade_np/particle_array.py:63\u001b[0m, in \u001b[0;36mParticleArray._increase_size\u001b[0;34m(self, factor)\u001b[0m\n\u001b[1;32m     60\u001b[0m new_size \u001b[39m=\u001b[39m factor \u001b[39m*\u001b[39m old_size\n\u001b[1;32m     62\u001b[0m \u001b[39mif\u001b[39;00m new_size \u001b[39m>\u001b[39m \u001b[39mself\u001b[39m\u001b[39m.\u001b[39m_max_size:\n\u001b[0;32m---> 63\u001b[0m     \u001b[39mraise\u001b[39;00m \u001b[39mMemoryError\u001b[39;00m(\u001b[39m\"\u001b[39m\u001b[39mToo large array\u001b[39m\u001b[39m\"\u001b[39m)\n\u001b[1;32m     65\u001b[0m new_array \u001b[39m=\u001b[39m ParticleArray(new_size)\n\u001b[1;32m     66\u001b[0m \u001b[39mfor\u001b[39;00m attr \u001b[39min\u001b[39;00m \u001b[39mself\u001b[39m\u001b[39m.\u001b[39mdata_attributes:\n",
      "\u001b[0;31mMemoryError\u001b[0m: Too large array"
     ]
    }
   ],
   "source": [
    "%autoreload 2\n",
    "cas_driver.run(pdg = 2212, energy = 1e4)"
   ]
  },
  {
   "cell_type": "code",
   "execution_count": 7,
   "metadata": {},
   "outputs": [
    {
     "data": {
      "text/plain": [
       "7916783"
      ]
     },
     "execution_count": 7,
     "metadata": {},
     "output_type": "execute_result"
    }
   ],
   "source": [
    "len(cas_driver.final_stack)\n",
    "# len(cas_driver.decay_stack)"
   ]
  },
  {
   "cell_type": "code",
   "execution_count": 13,
   "metadata": {},
   "outputs": [
    {
     "ename": "ValueError",
     "evalue": "invalid literal for int() with base 10: 'str'",
     "output_type": "error",
     "traceback": [
      "\u001b[0;31m---------------------------------------------------------------------------\u001b[0m",
      "\u001b[0;31mValueError\u001b[0m                                Traceback (most recent call last)",
      "Cell \u001b[0;32mIn[13], line 2\u001b[0m\n\u001b[1;32m      1\u001b[0m aa \u001b[39m=\u001b[39m np\u001b[39m.\u001b[39marray([\u001b[39m1\u001b[39m, \u001b[39m3\u001b[39m, \u001b[39m5\u001b[39m])\n\u001b[0;32m----> 2\u001b[0m aa[:] \u001b[39m=\u001b[39m \u001b[39m\"\u001b[39m\u001b[39mstr\u001b[39m\u001b[39m\"\u001b[39m\n\u001b[1;32m      3\u001b[0m \u001b[39mprint\u001b[39m(aa)\n",
      "\u001b[0;31mValueError\u001b[0m: invalid literal for int() with base 10: 'str'"
     ]
    }
   ],
   "source": [
    "\n",
    "\n",
    "\n",
    "aa = np.array([1, 3, 5])\n",
    "aa = \"b\"\n",
    "print(getattr(aa, \"__len__\", None))"
   ]
  }
 ],
 "metadata": {
  "kernelspec": {
   "display_name": "env_impy",
   "language": "python",
   "name": "python3"
  },
  "language_info": {
   "codemirror_mode": {
    "name": "ipython",
    "version": 3
   },
   "file_extension": ".py",
   "mimetype": "text/x-python",
   "name": "python",
   "nbconvert_exporter": "python",
   "pygments_lexer": "ipython3",
   "version": "3.9.13"
  },
  "orig_nbformat": 4,
  "vscode": {
   "interpreter": {
    "hash": "1da578f5b0770234c97b8a63f26035023e8d4f78965379356887400dcec38bc8"
   }
  }
 },
 "nbformat": 4,
 "nbformat_minor": 2
}
