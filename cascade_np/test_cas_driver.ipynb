{
 "cells": [
  {
   "cell_type": "code",
   "execution_count": 1,
   "metadata": {},
   "outputs": [
    {
     "name": "stdout",
     "output_type": "stream",
     "text": [
      "MCEqRun::set_interaction_model(): DPMJETIII191\n",
      "MCEqRun::set_density_model(): Setting density profile to CORSIKA ('BK_USStd', None)\n",
      "MCEqRun::set_primary_model(): HillasGaisser2012 H3a\n"
     ]
    }
   ],
   "source": [
    "import numpy as np\n",
    "from cascade_driver import CascadeDriver"
   ]
  },
  {
   "cell_type": "code",
   "execution_count": 2,
   "metadata": {},
   "outputs": [
    {
     "name": "stdout",
     "output_type": "stream",
     "text": [
      " ====================================================\n",
      " |                                                  |\n",
      " |                 S I B Y L L  2.3d                |\n",
      " |                                                  |\n",
      " |         HADRONIC INTERACTION MONTE CARLO         |\n",
      " |                        BY                        |\n",
      " |            Eun-Joo AHN, Felix RIEHN              |\n",
      " |      R. ENGEL, A. FEDYNITCH, R.S. FLETCHER,      |\n",
      " |       T.K. GAISSER, P. LIPARI, T. STANEV         |\n",
      " |                                                  |\n",
      " | Publication to be cited when using this program: |\n",
      " | Eun-Joo AHN et al., Phys.Rev. D80 (2009) 094003  |\n",
      " | F. RIEHN et al., hep-ph: 1912.03300              |\n",
      " | last modifications: F. Riehn (05/20/2020)        |\n",
      " ====================================================\n",
      "\n",
      " SIG_AIR_INI: initializing target: (i,A)           1           0 air..\n",
      " SIG_AIR_INI: initializing target: (i,A)           2          14 nit..\n",
      " SIG_AIR_INI: initializing target: (i,A)           3          16 oxy..\n"
     ]
    }
   ],
   "source": [
    "%load_ext autoreload\n",
    "%autoreload 2\n",
    "cas_driver = CascadeDriver(threshold_energy = 1e3)"
   ]
  },
  {
   "cell_type": "code",
   "execution_count": 12,
   "metadata": {},
   "outputs": [
    {
     "name": "stdout",
     "output_type": "stream",
     "text": [
      "1 Number of inter = 0 number of decays = 0\n",
      "2 Number of inter = 1 number of decays = 0\n",
      "3 Number of inter = 57 number of decays = 0\n",
      "4 Number of inter = 236 number of decays = 0\n",
      "5 Number of inter = 498 number of decays = 0\n",
      "6 Number of inter = 789 number of decays = 0\n",
      "7 Number of inter = 945 number of decays = 0\n",
      "8 Number of inter = 1021 number of decays = 0\n",
      "9 Number of inter = 1059 number of decays = 0\n",
      "10 Number of inter = 1077 number of decays = 0\n",
      "11 Number of inter = 1083 number of decays = 0\n",
      "12 Number of inter = 1083 number of decays = 10365\n",
      "13 Number of inter = 1219 number of decays = 10365\n",
      "14 Number of inter = 1307 number of decays = 10365\n",
      "15 Number of inter = 1357 number of decays = 10365\n",
      "16 Number of inter = 1378 number of decays = 10365\n",
      "17 Number of inter = 1387 number of decays = 10365\n",
      "18 Number of inter = 1388 number of decays = 12904\n",
      "19 Number of inter = 1414 number of decays = 12904\n",
      "20 Number of inter = 1419 number of decays = 12904\n",
      "21 Number of inter = 1420 number of decays = 12904\n",
      "22 Number of inter = 1421 number of decays = 13127\n",
      "23 Number of inter = 1422 number of decays = 13134\n"
     ]
    }
   ],
   "source": [
    "%autoreload 2\n",
    "cas_driver.run(pdg = 2212, energy = 1e7)"
   ]
  },
  {
   "cell_type": "code",
   "execution_count": 13,
   "metadata": {},
   "outputs": [
    {
     "data": {
      "text/plain": [
       "12.314773559570312"
      ]
     },
     "execution_count": 13,
     "metadata": {},
     "output_type": "execute_result"
    }
   ],
   "source": [
    "\n",
    "\n",
    "from pympler import asizeof\n",
    "asizeof.asizeof(cas_driver)/(1024**2)\n",
    "# # asizeof.asizeof(cas_driver.final_stack)/(1024**2)\n",
    "# cas_driver.final_stack.pid.size\n",
    "# len(cas_driver.final_stack)\n",
    "# # np.max(cas_driver.final_stack.valid().generation_num[:])\n",
    "# for i in range(len(cas_driver.final_stack.valid())):\n",
    "#     if cas_driver.final_stack.valid().xdepth[i] > 1000:\n",
    "#         print(i, cas_driver.final_stack.valid().pid[i], \n",
    "#               cas_driver.final_stack.valid().xdepth[i],\n",
    "#               cas_driver.final_stack.valid().energy[i])\n",
    "# # # print(cas_driver.final_stack.valid().pid)\n",
    "# cas_driver.xdepth_getter.max_xdepth"
   ]
  },
  {
   "cell_type": "code",
   "execution_count": null,
   "metadata": {},
   "outputs": [],
   "source": [
    "\n",
    "\n",
    "\n",
    "aa = np.array([1, 3, 5])\n",
    "aa = \"b\"\n",
    "print(getattr(aa, \"__len__\", None))"
   ]
  }
 ],
 "metadata": {
  "kernelspec": {
   "display_name": "env_impy",
   "language": "python",
   "name": "python3"
  },
  "language_info": {
   "codemirror_mode": {
    "name": "ipython",
    "version": 3
   },
   "file_extension": ".py",
   "mimetype": "text/x-python",
   "name": "python",
   "nbconvert_exporter": "python",
   "pygments_lexer": "ipython3",
   "version": "3.9.13"
  },
  "orig_nbformat": 4,
  "vscode": {
   "interpreter": {
    "hash": "1da578f5b0770234c97b8a63f26035023e8d4f78965379356887400dcec38bc8"
   }
  }
 },
 "nbformat": 4,
 "nbformat_minor": 2
}
