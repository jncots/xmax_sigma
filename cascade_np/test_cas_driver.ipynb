{
 "cells": [
  {
   "cell_type": "code",
   "execution_count": null,
   "metadata": {},
   "outputs": [],
   "source": [
    "import numpy as np\n",
    "from cascade_driver import CascadeDriver"
   ]
  },
  {
   "cell_type": "code",
   "execution_count": null,
   "metadata": {},
   "outputs": [],
   "source": [
    "%load_ext autoreload\n",
    "%autoreload 2\n",
    "cas_driver = CascadeDriver(threshold_energy = 1e3)"
   ]
  },
  {
   "cell_type": "code",
   "execution_count": null,
   "metadata": {},
   "outputs": [],
   "source": [
    "%autoreload 2\n",
    "cas_driver.run(pdg = 2212, energy = 1e7)"
   ]
  },
  {
   "cell_type": "code",
   "execution_count": null,
   "metadata": {},
   "outputs": [],
   "source": [
    "\n",
    "\n",
    "from pympler import asizeof\n",
    "asizeof.asizeof(cas_driver)/(1024**2)\n",
    "# # asizeof.asizeof(cas_driver.final_stack)/(1024**2)\n",
    "# cas_driver.final_stack.pid.size\n",
    "\n",
    "# sys.getsizeof(cas_driver)\n",
    "# len(cas_driver.final_stack)\n",
    "# # np.max(cas_driver.final_stack.valid().generation_num[:])\n",
    "for i in range(len(cas_driver.final_stack.valid())):\n",
    "    if cas_driver.final_stack.valid().xdepth[i] > 1000:\n",
    "        print(i, cas_driver.final_stack.valid().pid[i], \n",
    "              cas_driver.final_stack.valid().xdepth[i],\n",
    "              cas_driver.final_stack.valid().energy[i])\n",
    "# # print(cas_driver.final_stack.valid().pid)\n",
    "cas_driver.xdepth_getter.max_xdepth"
   ]
  },
  {
   "cell_type": "code",
   "execution_count": null,
   "metadata": {},
   "outputs": [],
   "source": [
    "\n",
    "\n",
    "\n",
    "aa = np.array([1, 3, 5])\n",
    "aa = \"b\"\n",
    "print(getattr(aa, \"__len__\", None))"
   ]
  }
 ],
 "metadata": {
  "kernelspec": {
   "display_name": "env_impy",
   "language": "python",
   "name": "python3"
  },
  "language_info": {
   "codemirror_mode": {
    "name": "ipython",
    "version": 3
   },
   "file_extension": ".py",
   "mimetype": "text/x-python",
   "name": "python",
   "nbconvert_exporter": "python",
   "pygments_lexer": "ipython3",
   "version": "3.9.13"
  },
  "orig_nbformat": 4,
  "vscode": {
   "interpreter": {
    "hash": "1da578f5b0770234c97b8a63f26035023e8d4f78965379356887400dcec38bc8"
   }
  }
 },
 "nbformat": 4,
 "nbformat_minor": 2
}
