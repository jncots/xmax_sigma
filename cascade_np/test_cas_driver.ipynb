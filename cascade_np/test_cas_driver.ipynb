{
 "cells": [
  {
   "cell_type": "code",
   "execution_count": 1,
   "metadata": {},
   "outputs": [
    {
     "name": "stdout",
     "output_type": "stream",
     "text": [
      "MCEqRun::set_interaction_model(): DPMJETIII191\n",
      "MCEqRun::set_density_model(): Setting density profile to CORSIKA ('BK_USStd', None)\n",
      "MCEqRun::set_primary_model(): HillasGaisser2012 H3a\n"
     ]
    }
   ],
   "source": [
    "import numpy as np\n",
    "from cascade_driver import CascadeDriver"
   ]
  },
  {
   "cell_type": "code",
   "execution_count": 2,
   "metadata": {},
   "outputs": [
    {
     "name": "stdout",
     "output_type": "stream",
     "text": [
      " ====================================================\n",
      " |                                                  |\n",
      " |                 S I B Y L L  2.3d                |\n",
      " |                                                  |\n",
      " |         HADRONIC INTERACTION MONTE CARLO         |\n",
      " |                        BY                        |\n",
      " |            Eun-Joo AHN, Felix RIEHN              |\n",
      " |      R. ENGEL, A. FEDYNITCH, R.S. FLETCHER,      |\n",
      " |       T.K. GAISSER, P. LIPARI, T. STANEV         |\n",
      " |                                                  |\n",
      " | Publication to be cited when using this program: |\n",
      " | Eun-Joo AHN et al., Phys.Rev. D80 (2009) 094003  |\n",
      " | F. RIEHN et al., hep-ph: 1912.03300              |\n",
      " | last modifications: F. Riehn (05/20/2020)        |\n",
      " ====================================================\n",
      "\n",
      " SIG_AIR_INI: initializing target: (i,A)           1           0 air..\n",
      " SIG_AIR_INI: initializing target: (i,A)           2          14 nit..\n",
      " SIG_AIR_INI: initializing target: (i,A)           3          16 oxy..\n"
     ]
    }
   ],
   "source": [
    "%load_ext autoreload\n",
    "%autoreload 2\n",
    "cas_driver = CascadeDriver()"
   ]
  },
  {
   "cell_type": "code",
   "execution_count": 3,
   "metadata": {},
   "outputs": [
    {
     "ename": "MemoryError",
     "evalue": "Too large array",
     "output_type": "error",
     "traceback": [
      "\u001b[0;31m---------------------------------------------------------------------------\u001b[0m",
      "\u001b[0;31mMemoryError\u001b[0m                               Traceback (most recent call last)",
      "Cell \u001b[0;32mIn[3], line 2\u001b[0m\n\u001b[1;32m      1\u001b[0m get_ipython()\u001b[39m.\u001b[39mrun_line_magic(\u001b[39m'\u001b[39m\u001b[39mautoreload\u001b[39m\u001b[39m'\u001b[39m, \u001b[39m'\u001b[39m\u001b[39m2\u001b[39m\u001b[39m'\u001b[39m)\n\u001b[0;32m----> 2\u001b[0m cas_driver\u001b[39m.\u001b[39;49mrun(pdg \u001b[39m=\u001b[39;49m \u001b[39m2212\u001b[39;49m, energy \u001b[39m=\u001b[39;49m \u001b[39m1e5\u001b[39;49m)\n",
      "File \u001b[0;32m~/xmax_sigma/cascade_np/cascade_driver.py:30\u001b[0m, in \u001b[0;36mCascadeDriver.run\u001b[0;34m(self, pdg, energy, xdepth)\u001b[0m\n\u001b[1;32m     27\u001b[0m \u001b[39mwhile\u001b[39;00m \u001b[39mlen\u001b[39m(\u001b[39mself\u001b[39m\u001b[39m.\u001b[39mworking_stack) \u001b[39m>\u001b[39m \u001b[39m0\u001b[39m:\n\u001b[1;32m     29\u001b[0m     \u001b[39mself\u001b[39m\u001b[39m.\u001b[39mset_xdepths(\u001b[39mself\u001b[39m\u001b[39m.\u001b[39mworking_stack\u001b[39m.\u001b[39mvalid())\n\u001b[0;32m---> 30\u001b[0m     \u001b[39mself\u001b[39;49m\u001b[39m.\u001b[39;49mrun_interaction()\n",
      "File \u001b[0;32m~/xmax_sigma/cascade_np/cascade_driver.py:83\u001b[0m, in \u001b[0;36mCascadeDriver.run_interaction\u001b[0;34m(self)\u001b[0m\n\u001b[1;32m     82\u001b[0m \u001b[39mdef\u001b[39;00m \u001b[39mrun_interaction\u001b[39m(\u001b[39mself\u001b[39m):\n\u001b[0;32m---> 83\u001b[0m     \u001b[39mself\u001b[39;49m\u001b[39m.\u001b[39;49mhadron_interaction\u001b[39m.\u001b[39;49mrun_event_generator(\u001b[39mself\u001b[39;49m\u001b[39m.\u001b[39;49minter_stack)\n\u001b[1;32m     85\u001b[0m     \u001b[39mself\u001b[39m\u001b[39m.\u001b[39mworking_stack \u001b[39m=\u001b[39m \u001b[39mself\u001b[39m\u001b[39m.\u001b[39mhadron_interaction\u001b[39m.\u001b[39mget_children()\n\u001b[1;32m     86\u001b[0m     failed \u001b[39m=\u001b[39m \u001b[39mself\u001b[39m\u001b[39m.\u001b[39mhadron_interaction\u001b[39m.\u001b[39mget_failed()\n",
      "File \u001b[0;32m~/xmax_sigma/cascade_np/hadron_inter.py:32\u001b[0m, in \u001b[0;36mHadronInteraction.run_event_generator\u001b[0;34m(self, pstack)\u001b[0m\n\u001b[1;32m     30\u001b[0m     event \u001b[39m=\u001b[39m \u001b[39mnext\u001b[39m(\u001b[39mself\u001b[39m\u001b[39m.\u001b[39mevent_generator(\u001b[39m1\u001b[39m))\u001b[39m.\u001b[39mfinal_state()\n\u001b[1;32m     31\u001b[0m     generation_num \u001b[39m=\u001b[39m pstack\u001b[39m.\u001b[39mgeneration_num[i] \u001b[39m+\u001b[39m \u001b[39m1\u001b[39m\n\u001b[0;32m---> 32\u001b[0m     \u001b[39mself\u001b[39;49m\u001b[39m.\u001b[39;49mchildren\u001b[39m.\u001b[39;49mpush(pid \u001b[39m=\u001b[39;49m event\u001b[39m.\u001b[39;49mpid, \n\u001b[1;32m     33\u001b[0m                     energy \u001b[39m=\u001b[39;49m event\u001b[39m.\u001b[39;49men, \n\u001b[1;32m     34\u001b[0m                     xdepth \u001b[39m=\u001b[39;49m np\u001b[39m.\u001b[39;49mfull(\u001b[39mlen\u001b[39;49m(event), pstack\u001b[39m.\u001b[39;49mxdepth_inter[i]),\n\u001b[1;32m     35\u001b[0m                     generation_num \u001b[39m=\u001b[39;49m np\u001b[39m.\u001b[39;49mfull(\u001b[39mlen\u001b[39;49m(event), generation_num),\n\u001b[1;32m     36\u001b[0m                     production_code \u001b[39m=\u001b[39;49m np\u001b[39m.\u001b[39;49mfull(\u001b[39mlen\u001b[39;49m(event), \u001b[39m1\u001b[39;49m))\n\u001b[1;32m     40\u001b[0m \u001b[39mself\u001b[39m\u001b[39m.\u001b[39mfailed_to_interact \u001b[39m=\u001b[39m pstack[np\u001b[39m.\u001b[39mwhere(pstack\u001b[39m.\u001b[39mproduction_code \u001b[39m==\u001b[39m \u001b[39m333\u001b[39m)]\n\u001b[1;32m     41\u001b[0m \u001b[39mpass\u001b[39;00m\n",
      "File \u001b[0;32m~/xmax_sigma/cascade_np/particle_array.py:134\u001b[0m, in \u001b[0;36mpush\u001b[0;34m(self, **kwargs)\u001b[0m\n\u001b[1;32m    128\u001b[0m for name, value in kwargs.items():\n\u001b[1;32m    129\u001b[0m     data_attr = getattr(self, name, None)\n\u001b[1;32m    130\u001b[0m     if data_attr is not None:\n\u001b[1;32m    131\u001b[0m         # Here should be an Exception is thrown\n\u001b[1;32m    132\u001b[0m         # If you met a problem here, it means\n\u001b[1;32m    133\u001b[0m         # that you gave len(pid) > len(other_data array)\n\u001b[0;32m--> 134\u001b[0m         # Arrays should be equal\n\u001b[1;32m    135\u001b[0m         data_attr[dst_slice] = np.copy(value[src_slice])\n\u001b[1;32m    136\u001b[0m self._len = dst_end\n",
      "File \u001b[0;32m~/xmax_sigma/cascade_np/particle_array.py:85\u001b[0m, in \u001b[0;36m_adjust_capacity\u001b[0;34m(self, size)\u001b[0m\n\u001b[1;32m     84\u001b[0m \u001b[39mdef\u001b[39;00m \u001b[39m__getitem__\u001b[39m(\u001b[39mself\u001b[39m, key):\n\u001b[0;32m---> 85\u001b[0m     view_stack \u001b[39m=\u001b[39m ParticleArray()\n\u001b[1;32m     86\u001b[0m     \u001b[39mfor\u001b[39;00m attr \u001b[39min\u001b[39;00m \u001b[39mself\u001b[39m\u001b[39m.\u001b[39mdata_attributes:\n\u001b[1;32m     87\u001b[0m         value \u001b[39m=\u001b[39m \u001b[39mgetattr\u001b[39m(\u001b[39mself\u001b[39m, attr)[key]\n",
      "File \u001b[0;32m~/xmax_sigma/cascade_np/particle_array.py:71\u001b[0m, in \u001b[0;36m_increase_size\u001b[0;34m(self, factor)\u001b[0m\n\u001b[1;32m     69\u001b[0m     new_value[\u001b[39m0\u001b[39m:old_size] \u001b[39m=\u001b[39m self_value\n\u001b[1;32m     70\u001b[0m     \u001b[39msetattr\u001b[39m(\u001b[39mself\u001b[39m, attr, new_value)\n\u001b[0;32m---> 71\u001b[0m new_array \u001b[39m=\u001b[39m \u001b[39mself\u001b[39m    \n\u001b[1;32m     72\u001b[0m gc\u001b[39m.\u001b[39mcollect()\n",
      "\u001b[0;31mMemoryError\u001b[0m: Too large array"
     ]
    }
   ],
   "source": [
    "%autoreload 2\n",
    "cas_driver.run(pdg = 2212, energy = 1e5)"
   ]
  },
  {
   "cell_type": "code",
   "execution_count": null,
   "metadata": {},
   "outputs": [],
   "source": [
    "# import math\n",
    "int(np.ceil(6.1/6))\n",
    "# [np.where(not np.in1d(failed.pid, self.pdg_lists.final_pdgs))]"
   ]
  }
 ],
 "metadata": {
  "kernelspec": {
   "display_name": "env_impy",
   "language": "python",
   "name": "python3"
  },
  "language_info": {
   "codemirror_mode": {
    "name": "ipython",
    "version": 3
   },
   "file_extension": ".py",
   "mimetype": "text/x-python",
   "name": "python",
   "nbconvert_exporter": "python",
   "pygments_lexer": "ipython3",
   "version": "3.9.13"
  },
  "orig_nbformat": 4,
  "vscode": {
   "interpreter": {
    "hash": "1da578f5b0770234c97b8a63f26035023e8d4f78965379356887400dcec38bc8"
   }
  }
 },
 "nbformat": 4,
 "nbformat_minor": 2
}
