{
 "cells": [
  {
   "cell_type": "code",
   "execution_count": 1,
   "metadata": {},
   "outputs": [
    {
     "name": "stdout",
     "output_type": "stream",
     "text": [
      "MCEqRun::set_interaction_model(): DPMJETIII191\n",
      "MCEqRun::set_density_model(): Setting density profile to CORSIKA ('BK_USStd', None)\n",
      "MCEqRun::set_primary_model(): HillasGaisser2012 H3a\n"
     ]
    }
   ],
   "source": [
    "import numpy as np\n",
    "from cascade_driver import CascadeDriver"
   ]
  },
  {
   "cell_type": "code",
   "execution_count": 2,
   "metadata": {},
   "outputs": [
    {
     "name": "stdout",
     "output_type": "stream",
     "text": [
      " ====================================================\n",
      " |                                                  |\n",
      " |                 S I B Y L L  2.3d                |\n",
      " |                                                  |\n",
      " |         HADRONIC INTERACTION MONTE CARLO         |\n",
      " |                        BY                        |\n",
      " |            Eun-Joo AHN, Felix RIEHN              |\n",
      " |      R. ENGEL, A. FEDYNITCH, R.S. FLETCHER,      |\n",
      " |       T.K. GAISSER, P. LIPARI, T. STANEV         |\n",
      " |                                                  |\n",
      " | Publication to be cited when using this program: |\n",
      " | Eun-Joo AHN et al., Phys.Rev. D80 (2009) 094003  |\n",
      " | F. RIEHN et al., hep-ph: 1912.03300              |\n",
      " | last modifications: F. Riehn (05/20/2020)        |\n",
      " ====================================================\n",
      "\n",
      " SIG_AIR_INI: initializing target: (i,A)           1           0 air..\n",
      " SIG_AIR_INI: initializing target: (i,A)           2          14 nit..\n",
      " SIG_AIR_INI: initializing target: (i,A)           3          16 oxy..\n"
     ]
    }
   ],
   "source": [
    "%load_ext autoreload\n",
    "%autoreload 2\n",
    "cas_driver = CascadeDriver()"
   ]
  },
  {
   "cell_type": "code",
   "execution_count": 3,
   "metadata": {},
   "outputs": [
    {
     "ename": "KeyboardInterrupt",
     "evalue": "",
     "output_type": "error",
     "traceback": [
      "\u001b[0;31m---------------------------------------------------------------------------\u001b[0m",
      "\u001b[0;31mKeyboardInterrupt\u001b[0m                         Traceback (most recent call last)",
      "Cell \u001b[0;32mIn[3], line 2\u001b[0m\n\u001b[1;32m      1\u001b[0m get_ipython()\u001b[39m.\u001b[39mrun_line_magic(\u001b[39m'\u001b[39m\u001b[39mautoreload\u001b[39m\u001b[39m'\u001b[39m, \u001b[39m'\u001b[39m\u001b[39m2\u001b[39m\u001b[39m'\u001b[39m)\n\u001b[0;32m----> 2\u001b[0m cas_driver\u001b[39m.\u001b[39;49mrun(pdg \u001b[39m=\u001b[39;49m \u001b[39m2212\u001b[39;49m, energy \u001b[39m=\u001b[39;49m \u001b[39m1e5\u001b[39;49m)\n",
      "File \u001b[0;32m~/xmax_sigma/cascade_np/cascade_driver.py:30\u001b[0m, in \u001b[0;36mCascadeDriver.run\u001b[0;34m(self, pdg, energy, xdepth)\u001b[0m\n\u001b[1;32m     27\u001b[0m \u001b[39mwhile\u001b[39;00m \u001b[39mlen\u001b[39m(\u001b[39mself\u001b[39m\u001b[39m.\u001b[39mworking_stack) \u001b[39m>\u001b[39m \u001b[39m0\u001b[39m:\n\u001b[1;32m     29\u001b[0m     \u001b[39mself\u001b[39m\u001b[39m.\u001b[39mset_xdepths(\u001b[39mself\u001b[39m\u001b[39m.\u001b[39mworking_stack\u001b[39m.\u001b[39mvalid())\n\u001b[0;32m---> 30\u001b[0m     \u001b[39mself\u001b[39;49m\u001b[39m.\u001b[39;49mrun_interaction()\n",
      "File \u001b[0;32m~/xmax_sigma/cascade_np/cascade_driver.py:83\u001b[0m, in \u001b[0;36mCascadeDriver.run_interaction\u001b[0;34m(self)\u001b[0m\n\u001b[1;32m     82\u001b[0m \u001b[39mdef\u001b[39;00m \u001b[39mrun_interaction\u001b[39m(\u001b[39mself\u001b[39m):\n\u001b[0;32m---> 83\u001b[0m     \u001b[39mself\u001b[39;49m\u001b[39m.\u001b[39;49mhadron_interaction\u001b[39m.\u001b[39;49mrun_event_generator(\u001b[39mself\u001b[39;49m\u001b[39m.\u001b[39;49minter_stack)\n\u001b[1;32m     85\u001b[0m     \u001b[39mself\u001b[39m\u001b[39m.\u001b[39mworking_stack \u001b[39m=\u001b[39m \u001b[39mself\u001b[39m\u001b[39m.\u001b[39mhadron_interaction\u001b[39m.\u001b[39mget_children()\n\u001b[1;32m     86\u001b[0m     failed \u001b[39m=\u001b[39m \u001b[39mself\u001b[39m\u001b[39m.\u001b[39mhadron_interaction\u001b[39m.\u001b[39mget_failed()\n",
      "File \u001b[0;32m~/xmax_sigma/cascade_np/hadron_inter.py:30\u001b[0m, in \u001b[0;36mHadronInteraction.run_event_generator\u001b[0;34m(self, pstack)\u001b[0m\n\u001b[1;32m     25\u001b[0m \u001b[39mexcept\u001b[39;00m \u001b[39mValueError\u001b[39;00m:\n\u001b[1;32m     26\u001b[0m     pstack\u001b[39m.\u001b[39mproduction_code[i] \u001b[39m=\u001b[39m \u001b[39m333\u001b[39m\n\u001b[0;32m---> 30\u001b[0m event \u001b[39m=\u001b[39m \u001b[39mnext\u001b[39;49m(\u001b[39mself\u001b[39;49m\u001b[39m.\u001b[39;49mevent_generator(\u001b[39m1\u001b[39;49m))\u001b[39m.\u001b[39mfinal_state()\n\u001b[1;32m     31\u001b[0m generation_num \u001b[39m=\u001b[39m pstack\u001b[39m.\u001b[39mgeneration_num[i] \u001b[39m+\u001b[39m \u001b[39m1\u001b[39m\n\u001b[1;32m     32\u001b[0m \u001b[39mself\u001b[39m\u001b[39m.\u001b[39mchildren\u001b[39m.\u001b[39mpush(pid \u001b[39m=\u001b[39m event\u001b[39m.\u001b[39mpid, \n\u001b[1;32m     33\u001b[0m                 energy \u001b[39m=\u001b[39m event\u001b[39m.\u001b[39men, \n\u001b[1;32m     34\u001b[0m                 xdepth \u001b[39m=\u001b[39m np\u001b[39m.\u001b[39mfull(\u001b[39mlen\u001b[39m(event), pstack\u001b[39m.\u001b[39mxdepth_inter[i]),\n\u001b[1;32m     35\u001b[0m                 generation_num \u001b[39m=\u001b[39m np\u001b[39m.\u001b[39mfull(\u001b[39mlen\u001b[39m(event), generation_num),\n\u001b[1;32m     36\u001b[0m                 production_code \u001b[39m=\u001b[39m np\u001b[39m.\u001b[39mfull(\u001b[39mlen\u001b[39m(event), \u001b[39m1\u001b[39m))\n",
      "File \u001b[0;32m~/chromo/src/chromo/common.py:617\u001b[0m, in \u001b[0;36mMCRun.__call__\u001b[0;34m(self, nevents)\u001b[0m\n\u001b[1;32m    615\u001b[0m \u001b[39mself\u001b[39m\u001b[39m.\u001b[39mnevents \u001b[39m+\u001b[39m\u001b[39m=\u001b[39m \u001b[39m1\u001b[39m\n\u001b[1;32m    616\u001b[0m nev \u001b[39m-\u001b[39m\u001b[39m=\u001b[39m \u001b[39m1\u001b[39m\n\u001b[0;32m--> 617\u001b[0m event \u001b[39m=\u001b[39m \u001b[39mself\u001b[39;49m\u001b[39m.\u001b[39;49m_event_class(\u001b[39mself\u001b[39;49m)\n\u001b[1;32m    618\u001b[0m \u001b[39m# boost into frame requested by user\u001b[39;00m\n\u001b[1;32m    619\u001b[0m \u001b[39mself\u001b[39m\u001b[39m.\u001b[39mkinematics\u001b[39m.\u001b[39mapply_boost(event, \u001b[39mself\u001b[39m\u001b[39m.\u001b[39m_frame)\n",
      "File \u001b[0;32m~/chromo/src/chromo/common.py:533\u001b[0m, in \u001b[0;36mMCEvent.__init__\u001b[0;34m(self, generator)\u001b[0m\n\u001b[1;32m    530\u001b[0m parents \u001b[39m=\u001b[39m \u001b[39mgetattr\u001b[39m(evt, \u001b[39mself\u001b[39m\u001b[39m.\u001b[39m_jmohep)\u001b[39m.\u001b[39mT[sel] \u001b[39mif\u001b[39;00m \u001b[39mself\u001b[39m\u001b[39m.\u001b[39m_jmohep \u001b[39melse\u001b[39;00m \u001b[39mNone\u001b[39;00m\n\u001b[1;32m    531\u001b[0m children \u001b[39m=\u001b[39m \u001b[39mgetattr\u001b[39m(evt, \u001b[39mself\u001b[39m\u001b[39m.\u001b[39m_jdahep)\u001b[39m.\u001b[39mT[sel] \u001b[39mif\u001b[39;00m \u001b[39mself\u001b[39m\u001b[39m.\u001b[39m_jdahep \u001b[39melse\u001b[39;00m \u001b[39mNone\u001b[39;00m\n\u001b[0;32m--> 533\u001b[0m EventData\u001b[39m.\u001b[39;49m\u001b[39m__init__\u001b[39;49m(\n\u001b[1;32m    534\u001b[0m     \u001b[39mself\u001b[39;49m,\n\u001b[1;32m    535\u001b[0m     (generator\u001b[39m.\u001b[39;49mname, generator\u001b[39m.\u001b[39;49mversion),\n\u001b[1;32m    536\u001b[0m     generator\u001b[39m.\u001b[39;49mkinematics,\n\u001b[1;32m    537\u001b[0m     \u001b[39mint\u001b[39;49m(\u001b[39mgetattr\u001b[39;49m(evt, \u001b[39mself\u001b[39;49m\u001b[39m.\u001b[39;49m_nevhep)),\n\u001b[1;32m    538\u001b[0m     \u001b[39mself\u001b[39;49m\u001b[39m.\u001b[39;49m_get_impact_parameter(),\n\u001b[1;32m    539\u001b[0m     \u001b[39mself\u001b[39;49m\u001b[39m.\u001b[39;49m_get_n_wounded(),\n\u001b[1;32m    540\u001b[0m     \u001b[39mgetattr\u001b[39;49m(evt, \u001b[39mself\u001b[39;49m\u001b[39m.\u001b[39;49m_idhep)[sel],\n\u001b[1;32m    541\u001b[0m     \u001b[39mgetattr\u001b[39;49m(evt, \u001b[39mself\u001b[39;49m\u001b[39m.\u001b[39;49m_isthep)[sel],\n\u001b[1;32m    542\u001b[0m     \u001b[39mself\u001b[39;49m\u001b[39m.\u001b[39;49m_charge_init(npart),\n\u001b[1;32m    543\u001b[0m     \u001b[39m*\u001b[39;49mphep,\n\u001b[1;32m    544\u001b[0m     \u001b[39m*\u001b[39;49mvhep,\n\u001b[1;32m    545\u001b[0m     parents,\n\u001b[1;32m    546\u001b[0m     children,\n\u001b[1;32m    547\u001b[0m )\n",
      "File \u001b[0;32m<string>:9\u001b[0m, in \u001b[0;36m__init__\u001b[0;34m(self, generator, kin, nevent, impact_parameter, n_wounded, pid, status, charge, px, py, pz, en, m, vx, vy, vz, vt, parents, children)\u001b[0m\n",
      "\u001b[0;31mKeyboardInterrupt\u001b[0m: "
     ]
    }
   ],
   "source": [
    "%autoreload 2\n",
    "cas_driver.run(pdg = 2212, energy = 1e5)"
   ]
  },
  {
   "cell_type": "code",
   "execution_count": 13,
   "metadata": {},
   "outputs": [
    {
     "data": {
      "text/plain": [
       "2"
      ]
     },
     "execution_count": 13,
     "metadata": {},
     "output_type": "execute_result"
    }
   ],
   "source": [
    "# import math\n",
    "int(np.ceil(6.1/6))\n",
    "# [np.where(not np.in1d(failed.pid, self.pdg_lists.final_pdgs))]"
   ]
  }
 ],
 "metadata": {
  "kernelspec": {
   "display_name": "env_impy",
   "language": "python",
   "name": "python3"
  },
  "language_info": {
   "codemirror_mode": {
    "name": "ipython",
    "version": 3
   },
   "file_extension": ".py",
   "mimetype": "text/x-python",
   "name": "python",
   "nbconvert_exporter": "python",
   "pygments_lexer": "ipython3",
   "version": "3.9.13"
  },
  "orig_nbformat": 4,
  "vscode": {
   "interpreter": {
    "hash": "1da578f5b0770234c97b8a63f26035023e8d4f78965379356887400dcec38bc8"
   }
  }
 },
 "nbformat": 4,
 "nbformat_minor": 2
}
