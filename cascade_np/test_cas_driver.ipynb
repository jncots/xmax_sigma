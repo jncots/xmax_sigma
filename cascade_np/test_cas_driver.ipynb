{
 "cells": [
  {
   "cell_type": "code",
   "execution_count": null,
   "metadata": {},
   "outputs": [],
   "source": [
    "%load_ext autoreload\n",
    "%autoreload 2\n",
    "import numpy as np\n",
    "from cascade_driver import CascadeDriver\n",
    "cas_driver = CascadeDriver(zenith_angle = 30)"
   ]
  },
  {
   "cell_type": "code",
   "execution_count": null,
   "metadata": {},
   "outputs": [],
   "source": [
    "%autoreload 2\n",
    "\n",
    "# mceq_decaying_pdgs = [111, -211, 211]\n",
    "\n",
    "# mceq_decaying_pdgs = [-11, 11, -12, 12, -14, 14, 16, 22,\n",
    "#                         111, 130, -211, 211, 310,\n",
    "#                         -321, 321, -2112, 2112, \n",
    "#                         -2212, 2212, -3122, 3122]\n",
    "\n",
    "mceq_decaying_pdgs = [111, 130, 310,\n",
    "                        -321, 321, -2112, 2112, \n",
    "                        -2212, 2212, -3122, 3122]\n",
    "\n",
    "# mceq_decaying_pdgs = [-11, 11, -12, 12,\n",
    "#                       -13, 13, -14, 14, 16, 22,\n",
    "#                         111, 130, -211, 211, 310,\n",
    "#                         -321, 321, -2112, 2112, \n",
    "#                         -2212, 2212, -3122, 3122]\n",
    "\n",
    "\n",
    "cas_driver.simulation_parameters(pdg = 2212, energy = 1e2, xdepth = 0,\n",
    "                                 threshold_energy = 1e-6, stop_height = 5,\n",
    "                                 accumulate_runs = True, reset_ids = True,\n",
    "                                 mceq_decaying_pdgs = mceq_decaying_pdgs)\n",
    "\n",
    "for i in range(10000):\n",
    "    cas_driver.run()"
   ]
  },
  {
   "cell_type": "code",
   "execution_count": null,
   "metadata": {},
   "outputs": [],
   "source": [
    "from cascade_analysis import CascadeAnalysis\n",
    "\n",
    "cascade_analysis = CascadeAnalysis(cas_driver)\n",
    "cascade_analysis.print_stats()\n",
    "cascade_analysis.search_for_parents()"
   ]
  },
  {
   "cell_type": "code",
   "execution_count": null,
   "metadata": {},
   "outputs": [],
   "source": [
    "# cascade_analysis.check_particle_existence()"
   ]
  },
  {
   "cell_type": "code",
   "execution_count": null,
   "metadata": {},
   "outputs": [],
   "source": [
    "cascade_analysis.plot_ptypes_dist(from_ = 1)"
   ]
  },
  {
   "cell_type": "code",
   "execution_count": null,
   "metadata": {},
   "outputs": [],
   "source": [
    "cascade_analysis.plot_ptypes_energy_dist(from_ = 0)"
   ]
  },
  {
   "cell_type": "code",
   "execution_count": null,
   "metadata": {},
   "outputs": [],
   "source": [
    "cascade_analysis.plot_energy()"
   ]
  },
  {
   "cell_type": "code",
   "execution_count": null,
   "metadata": {},
   "outputs": [],
   "source": [
    "cascade_analysis.plot_energy_list(pids = [-13, 13, -14, 14, -11, 11, 2212, 2112])"
   ]
  },
  {
   "cell_type": "code",
   "execution_count": null,
   "metadata": {},
   "outputs": [],
   "source": [
    "from mceq_comparison import GetMCEQDist\n",
    "import matplotlib.pylab as plt\n",
    "\n",
    "res_mceq = GetMCEQDist()\n"
   ]
  },
  {
   "cell_type": "code",
   "execution_count": null,
   "metadata": {},
   "outputs": [],
   "source": [
    "\n",
    "cascade_analysis.search_for_parents()"
   ]
  },
  {
   "cell_type": "code",
   "execution_count": null,
   "metadata": {},
   "outputs": [],
   "source": [
    "plt.rcParams[\"figure.dpi\"] = 150\n",
    "cascade_analysis.plot_energy_kin_dist(pids = [(-13, 13), (-14,14), (-12, 12)], \n",
    "                                      per_run=True,\n",
    "                                      xrange = (0.9e-1, 1e3),\n",
    "                                      nbins=res_mceq.ebins,\n",
    "                                      mceq_egrid = res_mceq.egrid)\n",
    "plt.xscale(\"log\")\n",
    "plt.step(res_mceq.mu_spec[0], res_mceq.mu_spec[1], label = res_mceq.mu_spec[2], linestyle='--')\n",
    "plt.step(res_mceq.numu_spec[0], res_mceq.numu_spec[1], label = res_mceq.numu_spec[2], linestyle='--')\n",
    "plt.step(res_mceq.nue_spec[0], res_mceq.nue_spec[1], label = res_mceq.nue_spec[2], linestyle='--')\n",
    "# plt.step(res_mceq.numu_spec[0], res_mceq.numu_spec[1] + res_mceq.nue_spec[1], label = \"mceq neutrino tot\", linestyle='--')\n",
    "\n",
    "plt.xlim(1e-1, 1e4)\n",
    "# plt.yscale(\"log\")\n",
    "# plt.ylim(1e-5, 10)\n",
    "plt.grid()\n",
    "# plt.grid(visible=True, which='minor', linestyle='--')\n",
    "plt.legend()\n",
    "# plt.ylim(1e-7, 1e3) "
   ]
  },
  {
   "cell_type": "code",
   "execution_count": null,
   "metadata": {},
   "outputs": [],
   "source": [
    "plt.xscale(\"log\")\n",
    "plt.xlim(1e-1, 1e2)\n",
    "plt.ylim(0.8, 1.2)\n",
    "plt.step(res_mceq.mu_spec[0], cascade_analysis.mu/res_mceq.mu_spec[1], \n",
    "         label = r\"${\\mu}^{+} + {\\mu}^{-}$ casc/mceq\", linestyle='-', color = 'red')\n",
    "plt.step(res_mceq.mu_spec[0], cascade_analysis.numu/res_mceq.numu_spec[1], \n",
    "         label = r\"$\\bar{\\nu}_{\\mu} + {\\nu}_{\\mu}$ casc/mceq\", linestyle='-', color = 'green')\n",
    "plt.step(res_mceq.mu_spec[0], cascade_analysis.nue/res_mceq.nue_spec[1], \n",
    "         label = r\"$\\bar{\\nu}_{e} + {\\nu}_{e}$ casc/mceq\", linestyle='-', color = 'blue')\n",
    "plt.step(res_mceq.mu_spec[0], res_mceq.nue_spec[1]/res_mceq.nue_spec[1], color = 'grey')\n",
    "plt.legend()"
   ]
  },
  {
   "cell_type": "code",
   "execution_count": null,
   "metadata": {},
   "outputs": [],
   "source": [
    "plt.xscale(\"log\")\n",
    "# plt.yscale(\"log\")\n",
    "plt.step(res_mceq.mu_spec[0], res_mceq.mu_spec[1], \n",
    "         label = r\"${\\mu}^{+} + {\\mu}^{-}$ mceq\", linestyle='--', color = 'red')\n",
    "plt.step(res_mceq.mu_spec[0], cascade_analysis.mu, \n",
    "         label = r\"${\\mu}^{+} + {\\mu}^{-}$ casc\", linestyle='-', color = 'red')\n",
    "plt.step(res_mceq.mu_spec[0], res_mceq.numu_spec[1], \n",
    "         label = r\"$\\bar{\\nu}_{\\mu} + {\\nu}_{\\mu}$ mceq\", linestyle=':', color = 'green')\n",
    "plt.step(res_mceq.mu_spec[0], cascade_analysis.numu, \n",
    "         label = r\"$\\bar{\\nu}_{\\mu} + {\\nu}_{\\mu}$ casc\", linestyle='-', color = 'green')\n",
    "plt.step(res_mceq.mu_spec[0], res_mceq.nue_spec[1], \n",
    "         label = r\"$\\bar{\\nu}_{e} + {\\nu}_{e}$ mceq\", linestyle=':', color = 'blue')\n",
    "plt.step(res_mceq.mu_spec[0], cascade_analysis.nue, \n",
    "         label = r\"$\\bar{\\nu}_{e} + {\\nu}_{e}$ casc\", linestyle='-', color = 'blue')\n",
    "# plt.step(res_mceq.numu_spec[0], res_mceq.numu_spec[1], label = res_mceq.numu_spec[2], linestyle='--')\n",
    "# plt.step(res_mceq.nue_spec[0], res_mceq.nue_spec[1], label = res_mceq.nue_spec[2], linestyle='--')\n",
    "plt.xlim(1e-1, 1e3)\n",
    "# plt.ylim(1e-10, 1e3)\n",
    "plt.legend()"
   ]
  },
  {
   "cell_type": "code",
   "execution_count": null,
   "metadata": {},
   "outputs": [],
   "source": [
    "plt.xscale(\"log\")\n",
    "plt.yscale(\"log\")\n",
    "plt.step(res_mceq.mu_spec[0], cascade_analysis.numu_from_mu, \n",
    "         label = r\"$\\bar{\\nu}_{\\mu} + {\\nu}_{\\mu}$ from muons\", linestyle='--', color = 'green')\n",
    "plt.step(res_mceq.mu_spec[0], cascade_analysis.numu_from_other, \n",
    "         label = r\"$\\bar{\\nu}_{\\mu} + {\\nu}_{\\mu}$ from other\", linestyle=':', color = 'green')\n",
    "plt.step(res_mceq.mu_spec[0], cascade_analysis.numu, \n",
    "         label = r\"$\\bar{\\nu}_{\\mu} + {\\nu}_{\\mu}$ total\", linestyle='-', color = 'green')\n",
    "plt.step(res_mceq.mu_spec[0], cascade_analysis.nue_from_mu, \n",
    "         label = r\"$\\bar{\\nu}_{e} + {\\nu}_{e}$ from muons\", linestyle='--', color = 'blue')\n",
    "plt.step(res_mceq.mu_spec[0], cascade_analysis.nue_from_other, \n",
    "         label = r\"$\\bar{\\nu}_{e} + {\\nu}_{e}$ from other\", linestyle=':', color = 'blue')\n",
    "plt.step(res_mceq.mu_spec[0], cascade_analysis.nue, \n",
    "         label = r\"$\\bar{\\nu}_{e} + {\\nu}_{e}$ total\", linestyle='-', color = 'blue')\n",
    "# plt.step(res_mceq.numu_spec[0], res_mceq.numu_spec[1], label = res_mceq.numu_spec[2], linestyle='--')\n",
    "# plt.step(res_mceq.nue_spec[0], res_mceq.nue_spec[1], label = res_mceq.nue_spec[2], linestyle='--')\n",
    "plt.xlim(1e-1, 1e3)\n",
    "plt.legend()"
   ]
  },
  {
   "cell_type": "code",
   "execution_count": null,
   "metadata": {},
   "outputs": [],
   "source": [
    "from fluka_comparison.fluka_muon_data import fluka_en_dist"
   ]
  },
  {
   "cell_type": "code",
   "execution_count": null,
   "metadata": {},
   "outputs": [],
   "source": [
    "for name, value in fluka_en_dist().items():\n",
    "    # plt.steps(value[0], value[1])\n",
    "    plt.stairs(value[1], value[0], label = f\"depth = {name}\")\n",
    "    en_bins = value[0]\n",
    "\n",
    "gr, cnt = np.histogram(cascade_analysis.raw_muon_data[0], bins=en_bins)\n",
    "gr = gr/cascade_analysis.raw_muon_data[1] \n",
    "print(cnt, gr)\n",
    "plt.stairs(gr, cnt, label = \"depth = 635.955, cas\")\n",
    "plt.legend()\n",
    "plt.ylim(0, 2) \n",
    "\n",
    "# gr1, cnt = np.histogram(self.neutrinos_from_muons[muon_neut].energy, bins = nbins, range = xrange)\n",
    "#         gr1 = gr1/runs_number\n",
    "#         plt.step(mceq_egrid, gr1, lab"
   ]
  },
  {
   "cell_type": "code",
   "execution_count": null,
   "metadata": {},
   "outputs": [],
   "source": [
    "cascade_analysis.plot_xdepth_list(nbins = 100, pids = [-14, 14, 2212, -13, 13], \n",
    "                                  xrange = (0, 1012), per_run = True)"
   ]
  },
  {
   "cell_type": "code",
   "execution_count": null,
   "metadata": {},
   "outputs": [],
   "source": [
    "cascade_analysis.plot_xdepth_stop(nbins = 100, pids = [-14, 14, 2212, -13, 13, 22], #pids = None, \n",
    "                                  all_pids = True, \n",
    "                                  xrange = (0, 1168), per_run = False)"
   ]
  },
  {
   "cell_type": "code",
   "execution_count": null,
   "metadata": {},
   "outputs": [],
   "source": [
    "cascade_analysis.plot_height_list(pids = [22, -13, 13, -11, 11], all_pids=True)"
   ]
  },
  {
   "cell_type": "code",
   "execution_count": null,
   "metadata": {},
   "outputs": [],
   "source": [
    "cascade_analysis.digitize()"
   ]
  },
  {
   "cell_type": "code",
   "execution_count": null,
   "metadata": {},
   "outputs": [],
   "source": [
    "import matplotlib.pylab as plt\n",
    "plt.semilogx(cascade_analysis.egrid, cascade_analysis.hist_dict[22][0][99])\n",
    "\n",
    "\n",
    "\n",
    "len(cascade_analysis.hist_dict[22][0])"
   ]
  }
 ],
 "metadata": {
  "kernelspec": {
   "display_name": "env_impy",
   "language": "python",
   "name": "python3"
  },
  "language_info": {
   "codemirror_mode": {
    "name": "ipython",
    "version": 3
   },
   "file_extension": ".py",
   "mimetype": "text/x-python",
   "name": "python",
   "nbconvert_exporter": "python",
   "pygments_lexer": "ipython3",
   "version": "3.9.13"
  },
  "orig_nbformat": 4,
  "vscode": {
   "interpreter": {
    "hash": "1da578f5b0770234c97b8a63f26035023e8d4f78965379356887400dcec38bc8"
   }
  }
 },
 "nbformat": 4,
 "nbformat_minor": 2
}
