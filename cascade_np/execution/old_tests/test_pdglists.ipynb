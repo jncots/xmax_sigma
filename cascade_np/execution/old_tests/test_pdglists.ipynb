{
 "cells": [
  {
   "cell_type": "code",
   "execution_count": 6,
   "metadata": {},
   "outputs": [
    {
     "name": "stdout",
     "output_type": "stream",
     "text": [
      "The autoreload extension is already loaded. To reload it, use:\n",
      "  %reload_ext autoreload\n"
     ]
    }
   ],
   "source": [
    "%load_ext autoreload\n",
    "%autoreload\n",
    "import numpy as np\n",
    "from pdg_pid_map import PdgLists\n",
    "pdg_lists = PdgLists()"
   ]
  },
  {
   "cell_type": "code",
   "execution_count": 19,
   "metadata": {},
   "outputs": [
    {
     "name": "stdout",
     "output_type": "stream",
     "text": [
      "[  -11    11   -12    12   -13    13   -14    14   -16    16    22   111\n",
      "   130  -211   211   310  -321   321  -411   411  -421   421  -431   431\n",
      " -2112  2112 -2212  2212 -3122  3122]\n",
      "[  -11    11   -12    12   -13    13   -14    14   -16    16    22   111\n",
      "   130  -211   211   310  -321   321  -411   411  -421   421  -431   431\n",
      " -2112  2112 -2212  2212 -3122  3122]\n"
     ]
    }
   ],
   "source": [
    "force_decaying_pdgs = (pdg_lists.pdgs_below_abs6000[np.where(np.logical_not(\n",
    "                            np.isin(pdg_lists.pdgs_below_abs6000, pdg_lists.mceq_particles)))[0]])\n",
    "\n",
    "# print(force_decaying_pdgs)\n",
    "# print(pdg_lists.mceq_particles)\n",
    "\n",
    "\n",
    "# print(set(pdg_lists.pdgs_below_abs6000).intersection(pdg_lists.mceq_particles))\n",
    "res = list(set(set(pdg_lists.pdgs_below_abs6000).intersection(pdg_lists.mceq_particles)))\n",
    "res.sort(key=lambda x: (abs(x), x > 0))\n",
    "print(np.array(res))\n",
    "print(pdg_lists.mceq_particles)\n",
    "# setf = set(pdg_lists.mceq_particles)\n",
    "# setf = setf.difference(force_decaying_pdgs)\n",
    "# print(setf)"
   ]
  },
  {
   "cell_type": "code",
   "execution_count": 22,
   "metadata": {},
   "outputs": [
    {
     "name": "stdout",
     "output_type": "stream",
     "text": [
      "[  -11    11   -12    12   -13    13   -14    14   -16    16    22   111\n",
      "   130  -211   211   310  -321   321  -411   411  -421   421  -431   431\n",
      " -2112  2112 -2212  2212 -3122  3122]\n",
      "[]\n",
      "[  -11    11   -12    12   -13    13   -14    14   -15    15   -16    16\n",
      "   -17    17   -18    18    21    22    23   -24    24    25   111   113\n",
      "   115   117   119   130  -211   211  -213   213  -215   215  -217   217\n",
      "  -219   219   221   223   225   227   229   310  -311   311  -313   313\n",
      "  -315   315  -317   317  -319   319  -321   321  -323   323  -325   325\n",
      "  -327   327  -329   329   331   333   335   337  -411   411  -413   413\n",
      "  -415   415  -421   421  -423   423  -425   425  -431   431  -433   433\n",
      "  -435   435   441   443   445  -511   511  -513   513  -515   515  -521\n",
      "   521  -523   523  -525   525  -531   531  -533   533  -535   535  -541\n",
      "   541   553   555 -1103  1103 -1112  1112 -1114  1114 -1116  1116 -1118\n",
      "  1118 -1212  1212 -1214  1214 -1216  1216 -1218  1218 -2101  2101 -2103\n",
      "  2103 -2112  2112 -2114  2114 -2116  2116 -2118  2118 -2122  2122 -2124\n",
      "  2124 -2126  2126 -2128  2128 -2203  2203 -2212  2212 -2214  2214 -2216\n",
      "  2216 -2218  2218 -2222  2222 -2224  2224 -2226  2226 -2228  2228 -3101\n",
      "  3101 -3103  3103 -3112  3112 -3114  3114 -3116  3116 -3118  3118 -3122\n",
      "  3122 -3124  3124 -3126  3126 -3128  3128 -3201  3201 -3203  3203 -3212\n",
      "  3212 -3214  3214 -3216  3216 -3218  3218 -3222  3222 -3224  3224 -3226\n",
      "  3226 -3228  3228 -3303  3303 -3312  3312 -3314  3314 -3322  3322 -3324\n",
      "  3324 -3334  3334 -4101  4101 -4103  4103 -4112  4112 -4114  4114 -4122\n",
      "  4122 -4132  4132 -4201  4201 -4203  4203 -4212  4212 -4214  4214 -4222\n",
      "  4222 -4224  4224 -4232  4232 -4301  4301 -4303  4303 -4312  4312 -4314\n",
      "  4314 -4322  4322 -4324  4324 -4332  4332 -4334  4334 -4403  4403 -5101\n",
      "  5101 -5103  5103 -5112  5112 -5114  5114 -5122  5122 -5132  5132 -5201\n",
      "  5201 -5203  5203 -5222  5222 -5224  5224 -5232  5232 -5301  5301 -5303\n",
      "  5303 -5332  5332 -5401  5401 -5403  5403 -5503  5503]\n"
     ]
    }
   ],
   "source": [
    "natural_decaying_pdgs = np.array(pdg_lists.mceq_particles, dtype = np.int32)\n",
    "        \n",
    "stable_pdgs = (pdg_lists.mceq_particles[np.where(np.logical_not(\n",
    "                            np.isin(pdg_lists.mceq_particles, natural_decaying_pdgs)))[0]])\n",
    "        \n",
    "decaying_pdgs = (pdg_lists.pdgs_below_abs6000[np.where(np.logical_not(\n",
    "                        np.isin(pdg_lists.pdgs_below_abs6000, stable_pdgs)))[0]])\n",
    "\n",
    "print(natural_decaying_pdgs)\n",
    "print(stable_pdgs)\n",
    "print(decaying_pdgs)"
   ]
  },
  {
   "cell_type": "code",
   "execution_count": null,
   "metadata": {},
   "outputs": [],
   "source": [
    "def set_decaying_pdgs(self, mceq_decaying_pdgs):\n",
    "        pdg_lists = PdgLists()\n",
    "        \n",
    "        # Force decaying pdgs are particles which do not present in mceq\n",
    "        # and should decay event if they hit final conditions\n",
    "        # Every particle which is not in mceq\n",
    "        self.force_decaying_pdgs = (pdg_lists.pdgs_below_abs6000[np.where(np.logical_not(\n",
    "                            np.isin(pdg_lists.pdgs_below_abs6000, pdg_lists.mceq_particles)))[0]])\n",
    "        \n",
    "        # Natural decaying pdgs are particles which present in mceq\n",
    "        # and can be present in final stack\n",
    "        # Mceq particles that should decay\n",
    "        self.natural_decaying_pdgs = np.array([mceq_decaying_pdgs], dtype = np.int32)\n",
    "        \n",
    "        \n",
    "        # Mceq particles that is stable\n",
    "        self.stable_pdgs = (pdg_lists.mceq_particles[np.where(np.logical_not(\n",
    "                            np.isin(pdg_lists.mceq_particles, self.natural_decaying_pdgs)))[0]])\n",
    "        \n",
    "        # Make all pdgs decaying except the ones defined as stable\n",
    "        decaying_pdgs = (pdg_lists.pdgs_below_abs6000[np.where(np.logical_not(\n",
    "                            np.isin(pdg_lists.pdgs_below_abs6000, self.stable_pdgs)))[0]])\n",
    "        \n",
    "        \n",
    "        self.decay_driver.set_decaying_pdgs(decaying_pdgs=decaying_pdgs,\n",
    "                                            stable_pdgs=self.stable_pdgs)"
   ]
  }
 ],
 "metadata": {
  "kernelspec": {
   "display_name": "env_impy",
   "language": "python",
   "name": "python3"
  },
  "language_info": {
   "codemirror_mode": {
    "name": "ipython",
    "version": 3
   },
   "file_extension": ".py",
   "mimetype": "text/x-python",
   "name": "python",
   "nbconvert_exporter": "python",
   "pygments_lexer": "ipython3",
   "version": "3.9.13"
  },
  "orig_nbformat": 4
 },
 "nbformat": 4,
 "nbformat_minor": 2
}
